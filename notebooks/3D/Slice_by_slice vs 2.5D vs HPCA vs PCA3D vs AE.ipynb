{
 "cells": [
  {
   "cell_type": "code",
   "execution_count": 1,
   "id": "a83d7b4c",
   "metadata": {},
   "outputs": [],
   "source": [
    "import pandas as pd\n",
    "import matplotlib.pyplot as plt\n",
    "import pickle"
   ]
  },
  {
   "cell_type": "code",
   "execution_count": 2,
   "id": "c022264a",
   "metadata": {},
   "outputs": [],
   "source": [
    "ukbb_path = '/home/erik.ohara/UKBB'\n",
    "pred_path = '/home/erik.ohara/BrainAge'\n",
    "cf_age_path = '/work/forkert_lab/erik/MACAW/2_5'"
   ]
  },
  {
   "cell_type": "code",
   "execution_count": 3,
   "id": "d9c8ee6f",
   "metadata": {},
   "outputs": [],
   "source": [
    "data_path = ukbb_path + '/ukbb_img.csv'\n",
    "df = pd.read_csv(data_path,low_memory=False)"
   ]
  },
  {
   "cell_type": "markdown",
   "id": "354b4be0",
   "metadata": {},
   "source": [
    "# Original Images"
   ]
  },
  {
   "cell_type": "code",
   "execution_count": 4,
   "id": "db6e3fe8",
   "metadata": {},
   "outputs": [],
   "source": [
    "df_orig = pd.read_csv(pred_path + '/predictions_all-2.csv')"
   ]
  },
  {
   "cell_type": "code",
   "execution_count": 5,
   "id": "237b945b",
   "metadata": {},
   "outputs": [],
   "source": [
    "df_orig.rename(columns={\"Age\": \"Original_Age\", \n",
    "                        \"Prediction\": \"Original_Prediction\", \n",
    "                        \"ABSError\": \"Original_ABSError\"},inplace=True)"
   ]
  },
  {
   "cell_type": "code",
   "execution_count": 6,
   "id": "e094c135",
   "metadata": {},
   "outputs": [
    {
     "data": {
      "text/plain": [
       "count    2370.000000\n",
       "mean        2.710381\n",
       "std         2.076066\n",
       "min         0.001289\n",
       "25%         1.061237\n",
       "50%         2.309320\n",
       "75%         3.828246\n",
       "max        13.614628\n",
       "Name: Original_ABSError, dtype: float64"
      ]
     },
     "execution_count": 6,
     "metadata": {},
     "output_type": "execute_result"
    }
   ],
   "source": [
    "df_orig['Original_ABSError'].describe()"
   ]
  },
  {
   "cell_type": "code",
   "execution_count": 7,
   "id": "5e1ba159",
   "metadata": {},
   "outputs": [
    {
     "data": {
      "image/png": "[encoded data removed]",
      "text/plain": [
       "<Figure size 2000x500 with 1 Axes>"
      ]
     },
     "metadata": {},
     "output_type": "display_data"
    }
   ],
   "source": [
    "# Create bins for the x column\n",
    "plt.rcParams[\"figure.figsize\"] = (20,5)\n",
    "bins = pd.cut(df_orig['Original_Age'], bins=10, precision=0)\n",
    "\n",
    "# Group the dataframe by the bins and calculate the mean of the y column\n",
    "grouped_orig = df_orig.groupby(bins)['Original_ABSError'].mean()\n",
    "plt.ylabel(\"Mean absolute error\")\n",
    "plt.xlabel(\"Counterfactual Age\")\n",
    "# Plot the resulting dataframe\n",
    "grouped_orig.plot(kind='bar')\n",
    "plt.show()"
   ]
  },
  {
   "cell_type": "markdown",
   "id": "0e235667",
   "metadata": {},
   "source": [
    "# Simulating naive model"
   ]
  },
  {
   "cell_type": "code",
   "execution_count": 8,
   "id": "255e70da",
   "metadata": {},
   "outputs": [],
   "source": [
    "with open(cf_age_path + f'/cf_age_obs.pkl','rb') as cfagefile:  \n",
    "    cf_age_obs = pickle.load(cfagefile)"
   ]
  },
  {
   "cell_type": "code",
   "execution_count": 9,
   "id": "3cce5465",
   "metadata": {},
   "outputs": [],
   "source": [
    "min_age = df_orig['Original_Age'].min()\n",
    "cf_age_obs_2 = cf_age_obs + min_age"
   ]
  },
  {
   "cell_type": "code",
   "execution_count": 10,
   "id": "a14590ae",
   "metadata": {},
   "outputs": [],
   "source": [
    "df_orig['cf_age'] = cf_age_obs_2"
   ]
  },
  {
   "cell_type": "code",
   "execution_count": 11,
   "id": "d825ced6",
   "metadata": {},
   "outputs": [],
   "source": [
    "df_orig['Naive_ABSError'] = abs(df_orig['cf_age']-df_orig['Original_Prediction'])"
   ]
  },
  {
   "cell_type": "code",
   "execution_count": 12,
   "id": "17a43f97",
   "metadata": {},
   "outputs": [
    {
     "data": {
      "text/plain": [
       "count    2370.000000\n",
       "mean        4.936746\n",
       "std         2.990330\n",
       "min         0.002266\n",
       "25%         2.524189\n",
       "50%         4.767656\n",
       "75%         6.970907\n",
       "max        18.518959\n",
       "Name: Naive_ABSError, dtype: float64"
      ]
     },
     "execution_count": 12,
     "metadata": {},
     "output_type": "execute_result"
    }
   ],
   "source": [
    "df_orig['Naive_ABSError'].describe()"
   ]
  },
  {
   "cell_type": "code",
   "execution_count": 13,
   "id": "4c1db7f3",
   "metadata": {},
   "outputs": [],
   "source": [
    "df_orig['65'] = 65"
   ]
  },
  {
   "cell_type": "code",
   "execution_count": 14,
   "id": "0592a547",
   "metadata": {},
   "outputs": [],
   "source": [
    "df_orig['Naive_ABSError_2'] = abs(df_orig['65']-df_orig['Original_Prediction'])"
   ]
  },
  {
   "cell_type": "code",
   "execution_count": 15,
   "id": "3396b9dd",
   "metadata": {},
   "outputs": [
    {
     "data": {
      "text/plain": [
       "count    2370.000000\n",
       "mean        5.815786\n",
       "std         3.789892\n",
       "min         0.001289\n",
       "25%         2.603145\n",
       "50%         5.443584\n",
       "75%         8.721650\n",
       "max        18.187973\n",
       "Name: Naive_ABSError_2, dtype: float64"
      ]
     },
     "execution_count": 15,
     "metadata": {},
     "output_type": "execute_result"
    }
   ],
   "source": [
    "df_orig['Naive_ABSError_2'].describe()"
   ]
  },
  {
   "cell_type": "code",
   "execution_count": 52,
   "id": "b7862cb7",
   "metadata": {},
   "outputs": [
    {
     "data": {
      "text/plain": [
       "count    2370.000000\n",
       "mean        7.429929\n",
       "std         5.206528\n",
       "min         0.002083\n",
       "25%         2.892560\n",
       "50%         6.642483\n",
       "75%        11.377411\n",
       "max        21.135689\n",
       "Name: Naive_ABSError_57, dtype: float64"
      ]
     },
     "execution_count": 52,
     "metadata": {},
     "output_type": "execute_result"
    }
   ],
   "source": [
    "df_orig['57'] = 57\n",
    "df_orig['Naive_ABSError_57'] = abs(df_orig['57']-df_orig['Original_Prediction'])\n",
    "df_orig['Naive_ABSError_57'].describe()"
   ]
  },
  {
   "cell_type": "code",
   "execution_count": 53,
   "id": "e937f206",
   "metadata": {},
   "outputs": [
    {
     "data": {
      "text/plain": [
       "count    2370.000000\n",
       "mean       10.100855\n",
       "std         6.328542\n",
       "min         0.001228\n",
       "25%         4.634657\n",
       "50%         9.669422\n",
       "75%        15.390961\n",
       "max        26.187973\n",
       "Name: Naive_ABSError_73, dtype: float64"
      ]
     },
     "execution_count": 53,
     "metadata": {},
     "output_type": "execute_result"
    }
   ],
   "source": [
    "df_orig['73'] = 73\n",
    "df_orig['Naive_ABSError_73'] = abs(df_orig['73']-df_orig['Original_Prediction'])\n",
    "df_orig['Naive_ABSError_73'].describe()"
   ]
  },
  {
   "cell_type": "markdown",
   "id": "69d4d1ff",
   "metadata": {},
   "source": [
    "# sex prediction"
   ]
  },
  {
   "cell_type": "code",
   "execution_count": 16,
   "id": "82296ffd",
   "metadata": {},
   "outputs": [],
   "source": [
    "df_orig_sex = pd.read_csv(pred_path + '/predictions_originals_sex.csv')"
   ]
  },
  {
   "cell_type": "code",
   "execution_count": 17,
   "id": "260e75dd",
   "metadata": {},
   "outputs": [
    {
     "name": "stdout",
     "output_type": "stream",
     "text": [
      "Test: Total = 2368 ; Correct = 2343 ; Accuracy = 98.9443\n"
     ]
    }
   ],
   "source": [
    "total_sex = len(df_orig_sex)\n",
    "correct_sex = df_orig_sex['Correct'].sum()\n",
    "print(f\"Test: Total = {total_sex} ; Correct = {correct_sex} ; Accuracy = {100 * correct_sex / total_sex:<.4f}\")"
   ]
  },
  {
   "cell_type": "code",
   "execution_count": 18,
   "id": "e8601dc5",
   "metadata": {},
   "outputs": [
    {
     "name": "stdout",
     "output_type": "stream",
     "text": [
      "Test: Total = 2368 ; Correct = 1250 ; Accuracy = 52.7872\n"
     ]
    }
   ],
   "source": [
    "# naive if we want cf all females\n",
    "naive_sex = len(df_orig_sex[df_orig_sex['Prediction'] == 0])\n",
    "print(f\"Test: Total = {total_sex} ; Correct = {naive_sex} ; Accuracy = {100 * naive_sex / total_sex:<.4f}\")"
   ]
  },
  {
   "cell_type": "markdown",
   "id": "2dd385cf",
   "metadata": {},
   "source": [
    "# Slice by slice"
   ]
  },
  {
   "cell_type": "code",
   "execution_count": 19,
   "id": "cc2b01d4",
   "metadata": {},
   "outputs": [],
   "source": [
    "df_cf_slice = pd.read_csv(pred_path + '/predictions_cf_five_res_hm.csv')"
   ]
  },
  {
   "cell_type": "code",
   "execution_count": 20,
   "id": "a490d727",
   "metadata": {},
   "outputs": [
    {
     "data": {
      "text/plain": [
       "count    2370.000000\n",
       "mean        4.049137\n",
       "std         2.842523\n",
       "min         0.004143\n",
       "25%         1.738960\n",
       "50%         3.562824\n",
       "75%         5.849777\n",
       "max        16.331635\n",
       "Name: ABSError, dtype: float64"
      ]
     },
     "execution_count": 20,
     "metadata": {},
     "output_type": "execute_result"
    }
   ],
   "source": [
    "df_cf_slice['ABSError'].describe()"
   ]
  },
  {
   "cell_type": "code",
   "execution_count": 21,
   "id": "2682371e",
   "metadata": {},
   "outputs": [],
   "source": [
    "df_cf_analysis_slice = df_cf_slice.set_index('EID').join(\n",
    "                                            df_orig[['EID',\n",
    "                                                     'Original_Age',\n",
    "                                                     'Original_Prediction',\n",
    "                                                     'Original_ABSError']].set_index('EID'), \n",
    "                                                                                        on='EID', \n",
    "                                                                                        how='left')"
   ]
  },
  {
   "cell_type": "code",
   "execution_count": 22,
   "id": "aed5933f",
   "metadata": {},
   "outputs": [
    {
     "data": {
      "image/png": "[encoded data removed]",
      "text/plain": [
       "<Figure size 2000x500 with 1 Axes>"
      ]
     },
     "metadata": {},
     "output_type": "display_data"
    }
   ],
   "source": [
    "# Create bins for the x column\n",
    "plt.rcParams[\"figure.figsize\"] = (20,5)\n",
    "bins = pd.cut(df_cf_analysis_slice['Age'], bins=10, precision=0)\n",
    "\n",
    "# Group the dataframe by the bins and calculate the mean of the y column\n",
    "grouped_slice = df_cf_analysis_slice.groupby(bins)['ABSError'].mean()\n",
    "plt.ylabel(\"Mean absolute error\")\n",
    "plt.xlabel(\"Counterfactual Age\")\n",
    "# Plot the resulting dataframe\n",
    "grouped_slice.plot(kind='bar')\n",
    "plt.show()"
   ]
  },
  {
   "cell_type": "code",
   "execution_count": 23,
   "id": "79e88163",
   "metadata": {},
   "outputs": [
    {
     "data": {
      "text/plain": [
       "Age\n",
       "(46.0, 50.0]    5.590529\n",
       "(50.0, 53.0]    4.101120\n",
       "(53.0, 56.0]    2.824963\n",
       "(56.0, 60.0]    3.163522\n",
       "(60.0, 64.0]    3.477739\n",
       "(64.0, 67.0]    3.444406\n",
       "(67.0, 70.0]    3.742903\n",
       "(70.0, 74.0]    4.414481\n",
       "(74.0, 78.0]    6.166810\n",
       "(78.0, 81.0]    7.722925\n",
       "Name: ABSError, dtype: float64"
      ]
     },
     "execution_count": 23,
     "metadata": {},
     "output_type": "execute_result"
    }
   ],
   "source": [
    "grouped_slice"
   ]
  },
  {
   "cell_type": "markdown",
   "id": "5d8ba63f",
   "metadata": {},
   "source": [
    "# 2.5 D"
   ]
  },
  {
   "cell_type": "code",
   "execution_count": 24,
   "id": "eeb8e494",
   "metadata": {},
   "outputs": [],
   "source": [
    "df_cf_2_5 = pd.read_csv(pred_path + '/predictions_cf_2_5avgZY.csv')"
   ]
  },
  {
   "cell_type": "code",
   "execution_count": 25,
   "id": "7a149fc5",
   "metadata": {},
   "outputs": [
    {
     "data": {
      "text/plain": [
       "count    2370.000000\n",
       "mean        3.974747\n",
       "std         2.767529\n",
       "min         0.002304\n",
       "25%         1.706833\n",
       "50%         3.614962\n",
       "75%         5.807346\n",
       "max        16.720497\n",
       "Name: ABSError, dtype: float64"
      ]
     },
     "execution_count": 25,
     "metadata": {},
     "output_type": "execute_result"
    }
   ],
   "source": [
    "df_cf_2_5['ABSError'].describe()"
   ]
  },
  {
   "cell_type": "code",
   "execution_count": 26,
   "id": "2b41a57d",
   "metadata": {},
   "outputs": [],
   "source": [
    "df_cf_analysis_2_5 = df_cf_2_5.set_index('EID').join(\n",
    "                                            df_orig[['EID',\n",
    "                                                     'Original_Age',\n",
    "                                                     'Original_Prediction',\n",
    "                                                     'Original_ABSError']].set_index('EID'), \n",
    "                                                on='EID', \n",
    "                                                how='left')"
   ]
  },
  {
   "cell_type": "code",
   "execution_count": 27,
   "id": "8e851cf9",
   "metadata": {},
   "outputs": [
    {
     "data": {
      "text/html": [
       "<div>\n",
       "<style scoped>\n",
       "    .dataframe tbody tr th:only-of-type {\n",
       "        vertical-align: middle;\n",
       "    }\n",
       "\n",
       "    .dataframe tbody tr th {\n",
       "        vertical-align: top;\n",
       "    }\n",
       "\n",
       "    .dataframe thead th {\n",
       "        text-align: right;\n",
       "    }\n",
       "</style>\n",
       "<table border=\"1\" class=\"dataframe\">\n",
       "  <thead>\n",
       "    <tr style=\"text-align: right;\">\n",
       "      <th></th>\n",
       "      <th>Unnamed: 0</th>\n",
       "      <th>Age</th>\n",
       "      <th>Prediction</th>\n",
       "      <th>ABSError</th>\n",
       "      <th>ABSMEANError</th>\n",
       "      <th>Original_Age</th>\n",
       "      <th>Original_Prediction</th>\n",
       "      <th>Original_ABSError</th>\n",
       "    </tr>\n",
       "    <tr>\n",
       "      <th>EID</th>\n",
       "      <th></th>\n",
       "      <th></th>\n",
       "      <th></th>\n",
       "      <th></th>\n",
       "      <th></th>\n",
       "      <th></th>\n",
       "      <th></th>\n",
       "      <th></th>\n",
       "    </tr>\n",
       "  </thead>\n",
       "  <tbody>\n",
       "    <tr>\n",
       "      <th>1797320</th>\n",
       "      <td>369</td>\n",
       "      <td>72</td>\n",
       "      <td>64.284691</td>\n",
       "      <td>7.715309</td>\n",
       "      <td>8.853165</td>\n",
       "      <td>67.0</td>\n",
       "      <td>66.880592</td>\n",
       "      <td>0.119408</td>\n",
       "    </tr>\n",
       "  </tbody>\n",
       "</table>\n",
       "</div>"
      ],
      "text/plain": [
       "         Unnamed: 0  Age  Prediction  ABSError  ABSMEANError  Original_Age  \\\n",
       "EID                                                                          \n",
       "1797320         369   72   64.284691  7.715309      8.853165          67.0   \n",
       "\n",
       "         Original_Prediction  Original_ABSError  \n",
       "EID                                              \n",
       "1797320            66.880592           0.119408  "
      ]
     },
     "execution_count": 27,
     "metadata": {},
     "output_type": "execute_result"
    }
   ],
   "source": [
    "df_cf_analysis_2_5[(df_cf_analysis_2_5['Original_ABSError']<1) & (df_cf_analysis_2_5['ABSError']>7)]"
   ]
  },
  {
   "cell_type": "code",
   "execution_count": 28,
   "id": "576162b6",
   "metadata": {},
   "outputs": [
    {
     "data": {
      "image/png": "[encoded data removed]",
      "text/plain": [
       "<Figure size 2000x500 with 1 Axes>"
      ]
     },
     "metadata": {},
     "output_type": "display_data"
    }
   ],
   "source": [
    "# Create bins for the x column\n",
    "plt.rcParams[\"figure.figsize\"] = (20,5)\n",
    "bins = pd.cut(df_cf_analysis_2_5['Age'], bins=10, precision=0)\n",
    "\n",
    "# Group the dataframe by the bins and calculate the mean of the y column\n",
    "grouped_2_5 = df_cf_analysis_2_5.groupby(bins)['ABSError'].mean()\n",
    "plt.ylabel(\"Mean absolute error\")\n",
    "plt.xlabel(\"Counterfactual Age\")\n",
    "# Plot the resulting dataframe\n",
    "grouped_2_5.plot(kind='bar')\n",
    "plt.show()"
   ]
  },
  {
   "cell_type": "markdown",
   "id": "6f8bbb84",
   "metadata": {},
   "source": [
    "# HPCA"
   ]
  },
  {
   "cell_type": "code",
   "execution_count": 29,
   "id": "93d59780",
   "metadata": {},
   "outputs": [],
   "source": [
    "df_cf_hpca = pd.read_csv(pred_path + '/predictions_cf_PCA3D_15000_cor.csv')"
   ]
  },
  {
   "cell_type": "code",
   "execution_count": 30,
   "id": "20392e6b",
   "metadata": {},
   "outputs": [
    {
     "data": {
      "text/plain": [
       "count    2370.000000\n",
       "mean        4.757603\n",
       "std         3.462567\n",
       "min         0.002991\n",
       "25%         1.992239\n",
       "50%         4.149374\n",
       "75%         6.839869\n",
       "max        20.174950\n",
       "Name: ABSError, dtype: float64"
      ]
     },
     "execution_count": 30,
     "metadata": {},
     "output_type": "execute_result"
    }
   ],
   "source": [
    "df_cf_hpca['ABSError'].describe()"
   ]
  },
  {
   "cell_type": "code",
   "execution_count": 31,
   "id": "eb690208",
   "metadata": {},
   "outputs": [],
   "source": [
    "df_cf_analysis_hpca = df_cf_hpca.set_index('EID').join(\n",
    "                                            df_orig[['EID',\n",
    "                                                     'Original_Age',\n",
    "                                                     'Original_Prediction']].set_index('EID'), \n",
    "                                                                                        on='EID', \n",
    "                                                                                        how='left')"
   ]
  },
  {
   "cell_type": "code",
   "execution_count": 32,
   "id": "5489193c",
   "metadata": {},
   "outputs": [
    {
     "data": {
      "image/png": "[encoded data removed]",
      "text/plain": [
       "<Figure size 2000x500 with 1 Axes>"
      ]
     },
     "metadata": {},
     "output_type": "display_data"
    }
   ],
   "source": [
    "# Create bins for the x column\n",
    "plt.rcParams[\"figure.figsize\"] = (20,5)\n",
    "bins = pd.cut(df_cf_analysis_hpca['Age'], bins=10, precision=0)\n",
    "\n",
    "# Group the dataframe by the bins and calculate the mean of the y column\n",
    "grouped_hpca = df_cf_analysis_hpca.groupby(bins)['ABSError'].mean()\n",
    "plt.ylabel(\"Mean absolute error\")\n",
    "plt.xlabel(\"Counterfactual Age\")\n",
    "# Plot the resulting dataframe\n",
    "grouped_hpca.plot(kind='bar')\n",
    "plt.show()"
   ]
  },
  {
   "cell_type": "code",
   "execution_count": 33,
   "id": "8119424e",
   "metadata": {},
   "outputs": [],
   "source": [
    "df_cf_hpca_sharp = pd.read_csv(pred_path + '/predictions_cf_HPCA_18000_five_scaler_sharp_2.csv')"
   ]
  },
  {
   "cell_type": "code",
   "execution_count": 34,
   "id": "4b97b99a",
   "metadata": {},
   "outputs": [
    {
     "data": {
      "text/plain": [
       "count    2370.000000\n",
       "mean        4.723300\n",
       "std         3.322686\n",
       "min         0.001034\n",
       "25%         2.025355\n",
       "50%         4.017927\n",
       "75%         7.014915\n",
       "max        21.423153\n",
       "Name: ABSError, dtype: float64"
      ]
     },
     "execution_count": 34,
     "metadata": {},
     "output_type": "execute_result"
    }
   ],
   "source": [
    "df_cf_hpca_sharp['ABSError'].describe()"
   ]
  },
  {
   "cell_type": "code",
   "execution_count": 35,
   "id": "00ef5bb5",
   "metadata": {},
   "outputs": [],
   "source": [
    "df_cf_analysis_hpca_sharp = df_cf_hpca_sharp.set_index('EID').join(\n",
    "                                            df_orig[['EID',\n",
    "                                                     'Original_Age',\n",
    "                                                     'Original_Prediction']].set_index('EID'), \n",
    "                                                                                        on='EID', \n",
    "                                                                                        how='left')"
   ]
  },
  {
   "cell_type": "code",
   "execution_count": 36,
   "id": "0063ed98",
   "metadata": {},
   "outputs": [
    {
     "data": {
      "image/png": "[encoded data removed]",
      "text/plain": [
       "<Figure size 2000x500 with 1 Axes>"
      ]
     },
     "metadata": {},
     "output_type": "display_data"
    }
   ],
   "source": [
    "# Create bins for the x column\n",
    "plt.rcParams[\"figure.figsize\"] = (20,5)\n",
    "bins = pd.cut(df_cf_analysis_hpca_sharp['Age'], bins=10, precision=0)\n",
    "\n",
    "# Group the dataframe by the bins and calculate the mean of the y column\n",
    "grouped_hpca_sharp = df_cf_analysis_hpca_sharp.groupby(bins)['ABSError'].mean()\n",
    "plt.ylabel(\"Mean absolute error\")\n",
    "plt.xlabel(\"Counterfactual Age\")\n",
    "# Plot the resulting dataframe\n",
    "grouped_hpca_sharp.plot(kind='bar')\n",
    "plt.show()"
   ]
  },
  {
   "cell_type": "markdown",
   "id": "5ab14692",
   "metadata": {},
   "source": [
    "# PCA3D 15000"
   ]
  },
  {
   "cell_type": "code",
   "execution_count": 37,
   "id": "46f4f711",
   "metadata": {},
   "outputs": [],
   "source": [
    "df_cf_PCA3D = pd.read_csv(pred_path + '/predictions_cf_PCA3D_15000_cor.csv')"
   ]
  },
  {
   "cell_type": "code",
   "execution_count": 38,
   "id": "f4a1bb26",
   "metadata": {},
   "outputs": [
    {
     "data": {
      "text/plain": [
       "count    2370.000000\n",
       "mean        4.757603\n",
       "std         3.462567\n",
       "min         0.002991\n",
       "25%         1.992239\n",
       "50%         4.149374\n",
       "75%         6.839869\n",
       "max        20.174950\n",
       "Name: ABSError, dtype: float64"
      ]
     },
     "execution_count": 38,
     "metadata": {},
     "output_type": "execute_result"
    }
   ],
   "source": [
    "df_cf_PCA3D['ABSError'].describe()"
   ]
  },
  {
   "cell_type": "code",
   "execution_count": 39,
   "id": "c7ed9eaf",
   "metadata": {},
   "outputs": [],
   "source": [
    "df_cf_analysis_PCA3D = df_cf_PCA3D.set_index('EID').join(\n",
    "                                            df_orig[['EID',\n",
    "                                                     'Original_Age',\n",
    "                                                     'Original_Prediction',\n",
    "                                                     'Original_ABSError']].set_index('EID'), \n",
    "                                                on='EID', \n",
    "                                                how='left')"
   ]
  },
  {
   "cell_type": "code",
   "execution_count": 40,
   "id": "aa2df9e4",
   "metadata": {},
   "outputs": [
    {
     "data": {
      "image/png": "[encoded data removed]",
      "text/plain": [
       "<Figure size 2000x500 with 1 Axes>"
      ]
     },
     "metadata": {},
     "output_type": "display_data"
    }
   ],
   "source": [
    "# Create bins for the x column\n",
    "plt.rcParams[\"figure.figsize\"] = (20,5)\n",
    "bins = pd.cut(df_cf_analysis_PCA3D['Age'], bins=10, precision=0)\n",
    "\n",
    "# Group the dataframe by the bins and calculate the mean of the y column\n",
    "grouped_PCA3D = df_cf_analysis_PCA3D.groupby(bins)['ABSError'].mean()\n",
    "plt.ylabel(\"Mean absolute error\")\n",
    "plt.xlabel(\"Counterfactual Age\")\n",
    "# Plot the resulting dataframe\n",
    "grouped_PCA3D.plot(kind='bar')\n",
    "plt.show()"
   ]
  },
  {
   "cell_type": "markdown",
   "id": "3dc66349",
   "metadata": {},
   "source": [
    "# PCA3D 10625"
   ]
  },
  {
   "cell_type": "code",
   "execution_count": 41,
   "id": "371229af",
   "metadata": {},
   "outputs": [],
   "source": [
    "df_cf_PCA3D_10625 = pd.read_csv(pred_path + '/predictions_cf_PCA3D_10625_zero_diff.csv')"
   ]
  },
  {
   "cell_type": "code",
   "execution_count": 42,
   "id": "152aad73",
   "metadata": {},
   "outputs": [
    {
     "data": {
      "text/plain": [
       "count    2370.000000\n",
       "mean        4.141966\n",
       "std         3.012574\n",
       "min         0.001175\n",
       "25%         1.691803\n",
       "50%         3.587793\n",
       "75%         5.990491\n",
       "max        17.742702\n",
       "Name: ABSError, dtype: float64"
      ]
     },
     "execution_count": 42,
     "metadata": {},
     "output_type": "execute_result"
    }
   ],
   "source": [
    "df_cf_PCA3D_10625['ABSError'].describe()"
   ]
  },
  {
   "cell_type": "code",
   "execution_count": null,
   "id": "bbf198ab",
   "metadata": {},
   "outputs": [],
   "source": []
  },
  {
   "cell_type": "code",
   "execution_count": null,
   "id": "fadaf46b",
   "metadata": {},
   "outputs": [],
   "source": []
  },
  {
   "cell_type": "markdown",
   "id": "89169ebf",
   "metadata": {},
   "source": [
    "# Autoencoder"
   ]
  },
  {
   "cell_type": "code",
   "execution_count": 43,
   "id": "567a380d",
   "metadata": {},
   "outputs": [],
   "source": [
    "df_cf_AE3D = pd.read_csv(pred_path + '/predictions_cf_macaw_AE3D_2.csv')"
   ]
  },
  {
   "cell_type": "code",
   "execution_count": 44,
   "id": "3cbbd420",
   "metadata": {},
   "outputs": [
    {
     "data": {
      "text/plain": [
       "count    2370.000000\n",
       "mean        5.707281\n",
       "std         4.222484\n",
       "min         0.000351\n",
       "25%         2.223035\n",
       "50%         4.934410\n",
       "75%         8.417587\n",
       "max        23.890434\n",
       "Name: ABSError, dtype: float64"
      ]
     },
     "execution_count": 44,
     "metadata": {},
     "output_type": "execute_result"
    }
   ],
   "source": [
    "df_cf_AE3D['ABSError'].describe()"
   ]
  },
  {
   "cell_type": "code",
   "execution_count": 45,
   "id": "5e99b33e",
   "metadata": {},
   "outputs": [],
   "source": [
    "df_cf_analysis_AE3D = df_cf_AE3D.set_index('EID').join(\n",
    "                                            df_orig[['EID',\n",
    "                                                     'Original_Age',\n",
    "                                                     'Original_Prediction',\n",
    "                                                     'Original_ABSError']].set_index('EID'), \n",
    "                                                on='EID', \n",
    "                                                how='left')"
   ]
  },
  {
   "cell_type": "code",
   "execution_count": 46,
   "id": "5e966d3d",
   "metadata": {},
   "outputs": [
    {
     "data": {
      "image/png": "[encoded data removed]",
      "text/plain": [
       "<Figure size 2000x500 with 1 Axes>"
      ]
     },
     "metadata": {},
     "output_type": "display_data"
    }
   ],
   "source": [
    "# Create bins for the x column\n",
    "plt.rcParams[\"figure.figsize\"] = (20,5)\n",
    "bins = pd.cut(df_cf_analysis_AE3D['Age'], bins=10, precision=0)\n",
    "\n",
    "# Group the dataframe by the bins and calculate the mean of the y column\n",
    "grouped_AE3D = df_cf_analysis_AE3D.groupby(bins)['ABSError'].mean()\n",
    "plt.ylabel(\"Mean absolute error\")\n",
    "plt.xlabel(\"Counterfactual Age\")\n",
    "# Plot the resulting dataframe\n",
    "grouped_AE3D.plot(kind='bar')\n",
    "plt.show()"
   ]
  },
  {
   "cell_type": "markdown",
   "id": "2f16c111",
   "metadata": {},
   "source": [
    "# Together"
   ]
  },
  {
   "cell_type": "code",
   "execution_count": 47,
   "id": "2caf3c9c",
   "metadata": {},
   "outputs": [],
   "source": [
    "df_together = pd.DataFrame({'Original': grouped_orig, \n",
    "                            'Slice': grouped_slice, \n",
    "                            '2.5': grouped_2_5, \n",
    "                            'HPCA 18000': grouped_hpca_sharp,\n",
    "                            'PCA3D 15000': grouped_PCA3D,\n",
    "                            'AE3D 10625': grouped_AE3D\n",
    "                           }, \n",
    "                           index=grouped_slice.index)"
   ]
  },
  {
   "cell_type": "code",
   "execution_count": 48,
   "id": "4cb18b7a",
   "metadata": {},
   "outputs": [
    {
     "data": {
      "text/plain": [
       "<Axes: xlabel='Counterfactual Age', ylabel='Mean absolute error'>"
      ]
     },
     "execution_count": 48,
     "metadata": {},
     "output_type": "execute_result"
    },
    {
     "data": {
      "image/png": "[encoded data removed]",
      "text/plain": [
       "<Figure size 2000x500 with 1 Axes>"
      ]
     },
     "metadata": {},
     "output_type": "display_data"
    }
   ],
   "source": [
    "df_together.plot(kind='bar',xlabel=\"Counterfactual Age\",ylabel=\"Mean absolute error\")"
   ]
  },
  {
   "cell_type": "code",
   "execution_count": 49,
   "id": "0ddaab51",
   "metadata": {},
   "outputs": [
    {
     "data": {
      "text/plain": [
       "pandas.core.series.Series"
      ]
     },
     "execution_count": 49,
     "metadata": {},
     "output_type": "execute_result"
    }
   ],
   "source": [
    "type(grouped_hpca_sharp)"
   ]
  },
  {
   "cell_type": "code",
   "execution_count": 50,
   "id": "5551ef48",
   "metadata": {},
   "outputs": [
    {
     "data": {
      "text/plain": [
       "CategoricalIndex([(46.0, 50.0], (50.0, 53.0], (53.0, 56.0], (56.0, 60.0],\n",
       "                  (60.0, 64.0], (64.0, 67.0], (67.0, 70.0], (70.0, 74.0],\n",
       "                  (74.0, 78.0], (78.0, 81.0]],\n",
       "                 categories=[(46.0, 50.0], (50.0, 53.0], (53.0, 56.0], (56.0, 60.0], ..., (67.0, 70.0], (70.0, 74.0], (74.0, 78.0], (78.0, 81.0]], ordered=True, dtype='category', name='Age')"
      ]
     },
     "execution_count": 50,
     "metadata": {},
     "output_type": "execute_result"
    }
   ],
   "source": [
    "grouped_hpca_sharp.index"
   ]
  },
  {
   "cell_type": "code",
   "execution_count": 51,
   "id": "c8801541",
   "metadata": {},
   "outputs": [
    {
     "data": {
      "text/plain": [
       "<pandas.plotting._core.PlotAccessor object at 0x7fd1dfd6fcd0>"
      ]
     },
     "execution_count": 51,
     "metadata": {},
     "output_type": "execute_result"
    }
   ],
   "source": [
    "grouped_hpca_sharp.plot"
   ]
  },
  {
   "cell_type": "code",
   "execution_count": null,
   "id": "4725b035",
   "metadata": {},
   "outputs": [],
   "source": []
  }
 ],
 "metadata": {
  "kernelspec": {
   "display_name": "Python 3 (ipykernel)",
   "language": "python",
   "name": "python3"
  },
  "language_info": {
   "codemirror_mode": {
    "name": "ipython",
    "version": 3
   },
   "file_extension": ".py",
   "mimetype": "text/x-python",
   "name": "python",
   "nbconvert_exporter": "python",
   "pygments_lexer": "ipython3",
   "version": "3.10.11"
  }
 },
 "nbformat": 4,
 "nbformat_minor": 5
}
