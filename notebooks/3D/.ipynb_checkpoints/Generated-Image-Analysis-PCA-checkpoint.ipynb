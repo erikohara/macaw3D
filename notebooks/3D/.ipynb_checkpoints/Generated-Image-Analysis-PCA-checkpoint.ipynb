{
 "cells": [
  {
   "cell_type": "code",
   "execution_count": 1,
   "id": "0ccefdbd",
   "metadata": {},
   "outputs": [],
   "source": [
    "import os\n",
    "import sys\n",
    "from pathlib import Path\n",
    "sys.path.append(str(Path(os.getcwd()).parent.parent) +'/')\n",
    "from utils.visualize import img_grid\n",
    "\n",
    "from torchvision import transforms \n",
    "\n",
    "import numpy as np\n",
    "import pandas as pd\n",
    "import torchio as tio\n",
    "import nibabel as nib\n",
    "\n",
    "import ipywidgets as ipyw\n",
    "\n",
    "import matplotlib.pyplot as plt\n",
    "import SimpleITK as sitk\n",
    "import torch\n",
    "from torch import nn\n",
    "from  torch.utils.data import Dataset, DataLoader\n",
    "from tqdm.notebook import tqdm\n",
    "from torchmetrics.image.fid import FrechetInceptionDistance\n",
    "import scipy\n",
    "from sklearn import metrics\n",
    "import json "
   ]
  },
  {
   "cell_type": "code",
   "execution_count": 2,
   "id": "62825b91",
   "metadata": {},
   "outputs": [
    {
     "data": {
      "text/plain": [
       "PosixPath('/home/erik.ohara/macaw')"
      ]
     },
     "execution_count": 2,
     "metadata": {},
     "output_type": "execute_result"
    }
   ],
   "source": [
    "Path(os.getcwd()).parent.parent"
   ]
  },
  {
   "cell_type": "code",
   "execution_count": 3,
   "id": "9f553c5f",
   "metadata": {},
   "outputs": [],
   "source": [
    "macaw_path = str(Path(os.getcwd()).parent.parent)\n",
    "ukbb_path = '/home/erik.ohara/UKBB'\n",
    "original_folder = '/work/forkert_lab/erik/T1_warped/test'\n",
    "generated_path = '/work/forkert_lab/erik/MACAW/cf_images/PCA_five_diff_denormalized'\n",
    "ukbb_T1_warped_folder = '/work/forkert_lab/erik/T1_warped'\n",
    "z_initial = 41\n",
    "z_fim = 140\n",
    "nsamples = 5"
   ]
  },
  {
   "cell_type": "code",
   "execution_count": 4,
   "id": "1a892018",
   "metadata": {},
   "outputs": [],
   "source": [
    "data_path = ukbb_path + '/ukbb_img.csv'\n",
    "df = pd.read_csv(data_path,low_memory=False)"
   ]
  },
  {
   "cell_type": "code",
   "execution_count": 5,
   "id": "a99ccdb6",
   "metadata": {},
   "outputs": [
    {
     "data": {
      "application/vnd.jupyter.widget-view+json": {
       "model_id": "250a76d11f104374b63ccaf109d0f1fc",
       "version_major": 2,
       "version_minor": 0
      },
      "text/plain": [
       "  0%|          | 0/2370 [00:00<?, ?it/s]"
      ]
     },
     "metadata": {},
     "output_type": "display_data"
    },
    {
     "name": "stdout",
     "output_type": "stream",
     "text": [
      "2370\n"
     ]
    }
   ],
   "source": [
    "# Getting the generated images\n",
    "subjects_eid = np.array([])\n",
    "cf_age = np.array([])\n",
    "cf_sex = np.array([])\n",
    "images_generated = []\n",
    "files_generated = []\n",
    "for file in tqdm(os.listdir(generated_path)):\n",
    "    if '.nii' in file:\n",
    "        files_generated.append(file)\n",
    "        splits = file.split(\"_\")\n",
    "        subject_eid = int(splits[0])\n",
    "        age = splits[1]\n",
    "        sex = splits[2].split(\".\")[0]\n",
    "        subjects_eid = np.append(subjects_eid,subject_eid)\n",
    "        cf_age = np.append(cf_age, age)\n",
    "        cf_sex = np.append(cf_sex, sex)\n",
    "        image_load = nib.load(os.path.join(generated_path, file)).get_fdata()\n",
    "        images_generated.append(image_load)\n",
    "print(len(images_generated))\n",
    "images_generated = np.array(images_generated)"
   ]
  },
  {
   "cell_type": "code",
   "execution_count": 6,
   "id": "27e71c33",
   "metadata": {},
   "outputs": [
    {
     "data": {
      "application/vnd.jupyter.widget-view+json": {
       "model_id": "fc7d11d85d4e4ae7a15863129b30d44b",
       "version_major": 2,
       "version_minor": 0
      },
      "text/plain": [
       "  0%|          | 0/2370 [00:00<?, ?it/s]"
      ]
     },
     "metadata": {},
     "output_type": "display_data"
    },
    {
     "name": "stdout",
     "output_type": "stream",
     "text": [
      "2370\n"
     ]
    }
   ],
   "source": [
    "# Getting the original images\n",
    "images_original = []\n",
    "real_age = []\n",
    "real_sex = []\n",
    "for individual in tqdm(subjects_eid):\n",
    "    individual = int(individual)\n",
    "    real_age.append(df[df[\"eid\"] == individual][\"Age\"].item())\n",
    "    real_sex.append(df[df[\"eid\"] == individual][\"Sex\"].item())\n",
    "    image_load = nib.load(os.path.join(original_folder, str(individual) + \".nii.gz\")).get_fdata()\n",
    "    images_original.append(image_load)\n",
    "real_age = np.array(real_age)\n",
    "real_sex = np.array(real_sex)\n",
    "images_original = np.array(images_original)\n",
    "print(len(images_original))"
   ]
  },
  {
   "cell_type": "code",
   "execution_count": 7,
   "id": "565c4551",
   "metadata": {},
   "outputs": [
    {
     "data": {
      "text/plain": [
       "(2370, 150, 150, 100)"
      ]
     },
     "execution_count": 7,
     "metadata": {},
     "output_type": "execute_result"
    }
   ],
   "source": [
    "images_generated.shape"
   ]
  },
  {
   "cell_type": "code",
   "execution_count": 8,
   "id": "24cce366",
   "metadata": {},
   "outputs": [
    {
     "data": {
      "text/plain": [
       "(2370, 182, 218, 182)"
      ]
     },
     "execution_count": 8,
     "metadata": {},
     "output_type": "execute_result"
    }
   ],
   "source": [
    "images_original.shape"
   ]
  },
  {
   "cell_type": "code",
   "execution_count": 9,
   "id": "2b15e6e9",
   "metadata": {},
   "outputs": [],
   "source": [
    "#cropping original image\n",
    "generated_shape = images_generated[0].shape\n",
    "original_shape = images_original[0].shape\n",
    "x_initial = int((original_shape[0] - generated_shape[0])/2)\n",
    "x_fim = x_initial +  generated_shape[0]\n",
    "y_initial = int((original_shape[1] - generated_shape[1])/2)\n",
    "y_fim = y_initial +  generated_shape[1]\n",
    "images_original = [image[x_initial:x_fim,y_initial:y_fim,z_initial:z_fim+1] for image in images_original]"
   ]
  },
  {
   "cell_type": "code",
   "execution_count": 11,
   "id": "d16a0d50",
   "metadata": {},
   "outputs": [
    {
     "ename": "AttributeError",
     "evalue": "'list' object has no attribute 'shape'",
     "output_type": "error",
     "traceback": [
      "\u001b[0;31m---------------------------------------------------------------------------\u001b[0m",
      "\u001b[0;31mAttributeError\u001b[0m                            Traceback (most recent call last)",
      "Cell \u001b[0;32mIn[11], line 1\u001b[0m\n\u001b[0;32m----> 1\u001b[0m \u001b[43mimages_original\u001b[49m\u001b[38;5;241;43m.\u001b[39;49m\u001b[43mshape\u001b[49m\n",
      "\u001b[0;31mAttributeError\u001b[0m: 'list' object has no attribute 'shape'"
     ]
    }
   ],
   "source": []
  },
  {
   "cell_type": "code",
   "execution_count": 12,
   "id": "c04cb9b3",
   "metadata": {},
   "outputs": [],
   "source": [
    "images_original_normalized = np.copy(images_original)"
   ]
  },
  {
   "cell_type": "code",
   "execution_count": 13,
   "id": "d86209ff",
   "metadata": {},
   "outputs": [],
   "source": [
    "images_generated_normalized = np.copy(images_generated)"
   ]
  },
  {
   "cell_type": "code",
   "execution_count": 14,
   "id": "d7f16e54",
   "metadata": {},
   "outputs": [],
   "source": [
    "# Normalizing\n",
    "for one_image in images_original_normalized:\n",
    "    maxv = np.max(one_image[:,:,:])\n",
    "    one_image[:,:,:] = ((one_image[:,:,:]) / maxv)"
   ]
  },
  {
   "cell_type": "code",
   "execution_count": 15,
   "id": "0f9608b0",
   "metadata": {},
   "outputs": [
    {
     "name": "stderr",
     "output_type": "stream",
     "text": [
      "/tmp/ipykernel_866181/333596938.py:4: RuntimeWarning: invalid value encountered in divide\n",
      "  one_image[:,:,:] = ((one_image[:,:,:]) / maxv)\n"
     ]
    }
   ],
   "source": [
    "# Normalizing Generated\n",
    "for one_image in images_generated_normalized:\n",
    "    maxv = np.max(one_image[:,:,:])\n",
    "    one_image[:,:,:] = ((one_image[:,:,:]) / maxv)\n"
   ]
  },
  {
   "cell_type": "markdown",
   "id": "ddbb3515",
   "metadata": {},
   "source": [
    "## Frechet Inception Distance (FID) Inceptionv3 - Original X Generated"
   ]
  },
  {
   "cell_type": "code",
   "execution_count": 14,
   "id": "97ed13a7",
   "metadata": {},
   "outputs": [],
   "source": [
    "torch_images_original = torch.from_numpy(images_original_normalized)\n",
    "torch_images_generated = torch.from_numpy(images_generated_normalized)\n",
    "# Add channel dimension\n",
    "torch_images_original = torch_images_original[:,None, :,:, :]\n",
    "torch_images_generated = torch_images_generated[:,None, :,:, :]"
   ]
  },
  {
   "cell_type": "code",
   "execution_count": 15,
   "id": "26646e6a",
   "metadata": {},
   "outputs": [],
   "source": [
    "# https://torchmetrics.readthedocs.io/en/stable/image/frechet_inception_distance.html\n",
    "\n",
    "batch_size, channel, x_size, y_size, z_size = torch_images_original.shape\n",
    "\n",
    "torch_images_original = nn.functional.interpolate(torch_images_original, size=[299, 299,z_size])\n",
    "torch_images_generated = nn.functional.interpolate(torch_images_generated,size=[299, 299,z_size])"
   ]
  },
  {
   "cell_type": "code",
   "execution_count": 25,
   "id": "cf5477ef",
   "metadata": {},
   "outputs": [],
   "source": [
    "padding = torch.zeros(batch_size, 2, 299, 299, z_size)"
   ]
  },
  {
   "cell_type": "code",
   "execution_count": 16,
   "id": "cc4d4616",
   "metadata": {},
   "outputs": [],
   "source": [
    "torch_images_original = torch.cat((torch_images_original, padding), 1)\n",
    "torch_images_generated = torch.cat((torch_images_generated, padding), 1)"
   ]
  },
  {
   "cell_type": "code",
   "execution_count": 17,
   "id": "5bec08c6",
   "metadata": {},
   "outputs": [
    {
     "data": {
      "application/vnd.jupyter.widget-view+json": {
       "model_id": "5635a9deeddb4a97b10309398571f305",
       "version_major": 2,
       "version_minor": 0
      },
      "text/plain": [
       "  0%|          | 0/100 [00:00<?, ?it/s]"
      ]
     },
     "metadata": {},
     "output_type": "display_data"
    }
   ],
   "source": [
    "metric = FrechetInceptionDistance(feature=2048, normalize=True)\n",
    "np_fid = np.array([])\n",
    "\n",
    "for z_slice in tqdm(range(images_generated.shape[3])):\n",
    "    metric.update(torch_images_original[:,:,:,:,z_slice], real=True)\n",
    "    metric.update(torch_images_generated[:,:,:,:,z_slice], real=False)\n",
    "    np_fid = np.append(np_fid, metric.compute())\n",
    "    metric.reset()"
   ]
  },
  {
   "cell_type": "code",
   "execution_count": 18,
   "id": "3d22b151",
   "metadata": {},
   "outputs": [
    {
     "name": "stdout",
     "output_type": "stream",
     "text": [
      "50.375554752349856\n",
      "10.983078209429209\n",
      "29.307849884033203\n",
      "75.718017578125\n"
     ]
    }
   ],
   "source": [
    "print(np_fid.mean())\n",
    "print(np_fid.std())\n",
    "print(np_fid.min())\n",
    "print(np_fid.max())"
   ]
  },
  {
   "cell_type": "markdown",
   "id": "b413e4e1",
   "metadata": {},
   "source": [
    "## Frechet Inception Distance (FID) Inceptionv3 - Original X Other subjects with 55 and 70"
   ]
  },
  {
   "cell_type": "code",
   "execution_count": 16,
   "id": "4cdc9c13",
   "metadata": {},
   "outputs": [],
   "source": [
    "# Getting random subjects with 55 and 70\n",
    "df_55 = df[df['Age'] == 55]['eid'].to_numpy()\n",
    "df_70 = df[df['Age'] == 70]['eid'].to_numpy()\n",
    "random_quantity_55 = int(batch_size / 2)\n",
    "random_quantity_70 = batch_size - random_quantity_55\n",
    "no_repeated = False\n",
    "\n",
    "while (no_repeated == False):\n",
    "    random_55 = np.random.randint(0,len(df_55),random_quantity_55) \n",
    "    random_70 = np.random.randint(0,len(df_70),random_quantity_70) \n",
    "    eid_55_random = df_55[random_55]\n",
    "    eid_70_random = df_70[random_70]\n",
    "    repeated_55 = False\n",
    "    for each_eid in eid_55_random:\n",
    "        if each_eid in subjects_eid:\n",
    "            print(\"Error\")\n",
    "            print(each_eid)\n",
    "            repeated_55 = True\n",
    "    repeated_70 = False\n",
    "    for each_eid in eid_70_random:\n",
    "        if each_eid in subjects_eid:\n",
    "            print(\"Error\")\n",
    "            print(each_eid)\n",
    "            repeated_70 = True\n",
    "    if ((repeated_70 == False) and (repeated_55 == False)):   \n",
    "        no_repeated = True"
   ]
  },
  {
   "cell_type": "code",
   "execution_count": 17,
   "id": "885c5e97",
   "metadata": {},
   "outputs": [],
   "source": [
    "for each_eid in eid_55_random:\n",
    "    if each_eid in subjects_eid:\n",
    "        print(\"Error\")\n",
    "        print(each_eid)"
   ]
  },
  {
   "cell_type": "code",
   "execution_count": 18,
   "id": "a2f9d9d1",
   "metadata": {},
   "outputs": [],
   "source": [
    "for each_eid in eid_70_random:\n",
    "    if each_eid in subjects_eid:\n",
    "        print(\"Error\")\n",
    "        print(each_eid)"
   ]
  },
  {
   "cell_type": "code",
   "execution_count": 19,
   "id": "0601a68d",
   "metadata": {},
   "outputs": [
    {
     "data": {
      "application/vnd.jupyter.widget-view+json": {
       "model_id": "705edb5a6a0c4b12b3c307d61c2748dd",
       "version_major": 2,
       "version_minor": 0
      },
      "text/plain": [
       "  0%|          | 0/200 [00:00<?, ?it/s]"
      ]
     },
     "metadata": {},
     "output_type": "display_data"
    }
   ],
   "source": [
    "# Getting the original images with 55 and 70\n",
    "images_real = []\n",
    "\n",
    "for individual in tqdm(subjects_eid):\n",
    "    individual = int(individual)\n",
    "    if os.path.exists(ukbb_T1_warped_folder + '/train/' + str(individual) + \".nii.gz\"):\n",
    "        image_load = nib.load(os.path.join(ukbb_T1_warped_folder,'train', str(individual) + \".nii.gz\")).get_fdata()\n",
    "    elif os.path.exists(ukbb_T1_warped_folder + '/val/' + str(individual) + \".nii.gz\"):\n",
    "        image_load = nib.load(os.path.join(ukbb_T1_warped_folder,'val', str(individual) + \".nii.gz\")).get_fdata()\n",
    "    else:\n",
    "        image_load = nib.load(os.path.join(ukbb_T1_warped_folder,'test', str(individual) + \".nii.gz\")).get_fdata()\n",
    "    images_real.append(image_load)\n",
    "images_real = np.array(images_real)"
   ]
  },
  {
   "cell_type": "code",
   "execution_count": 20,
   "id": "cc4e6d2a",
   "metadata": {},
   "outputs": [],
   "source": [
    "#cropping real image\n",
    "generated_shape = images_generated[0].shape\n",
    "real_shape = images_real[0].shape\n",
    "x_initial = int((real_shape[0] - generated_shape[0])/2)\n",
    "x_fim = x_initial +  generated_shape[0]\n",
    "y_initial = int((real_shape[1] - generated_shape[1])/2)\n",
    "y_fim = y_initial +  generated_shape[1]\n",
    "images_real = [image[x_initial:x_fim,y_initial:y_fim,z_initial:z_fim+1] for image in images_real]"
   ]
  },
  {
   "cell_type": "code",
   "execution_count": 21,
   "id": "bb677bd4",
   "metadata": {},
   "outputs": [],
   "source": [
    "# Normalizing\n",
    "for one_image in images_real:\n",
    "    maxv = np.max(one_image[:,:,:])\n",
    "    one_image[:,:,:] = ((one_image[:,:,:]) / maxv)"
   ]
  },
  {
   "cell_type": "code",
   "execution_count": 22,
   "id": "562265c5",
   "metadata": {},
   "outputs": [],
   "source": [
    "images_real = np.array(images_real)"
   ]
  },
  {
   "cell_type": "code",
   "execution_count": 23,
   "id": "75afcb7a",
   "metadata": {},
   "outputs": [],
   "source": [
    "torch_images_real = torch.from_numpy(images_real)\n",
    "# Add channel dimension\n",
    "torch_images_real = torch_images_real[:,None, :,:, :]\n",
    "\n",
    "batch_size, channel, x_size, y_size, z_size = torch_images_real.shape\n",
    "\n",
    "torch_images_real = nn.functional.interpolate(torch_images_real, size=[299, 299,z_size])"
   ]
  },
  {
   "cell_type": "code",
   "execution_count": null,
   "id": "e1c2b9ae",
   "metadata": {},
   "outputs": [],
   "source": [
    "# padding \n",
    "padding = torch.zeros(batch_size, 2, 299, 299, z_size)\n",
    "torch_images_real = torch.cat((torch_images_real, padding), 1)"
   ]
  },
  {
   "cell_type": "code",
   "execution_count": null,
   "id": "682b0cc5",
   "metadata": {},
   "outputs": [],
   "source": [
    "torch_images_original.shape"
   ]
  },
  {
   "cell_type": "code",
   "execution_count": 28,
   "id": "cdcaf370",
   "metadata": {},
   "outputs": [
    {
     "data": {
      "application/vnd.jupyter.widget-view+json": {
       "model_id": "dfe4082e7d1f47c98e6d06ceb6251f04",
       "version_major": 2,
       "version_minor": 0
      },
      "text/plain": [
       "  0%|          | 0/100 [00:00<?, ?it/s]"
      ]
     },
     "metadata": {},
     "output_type": "display_data"
    },
    {
     "ename": "RuntimeError",
     "evalue": "Given groups=1, weight of size [32, 3, 3, 3], expected input[200, 1, 299, 299] to have 3 channels, but got 1 channels instead",
     "output_type": "error",
     "traceback": [
      "\u001b[0;31m---------------------------------------------------------------------------\u001b[0m",
      "\u001b[0;31mRuntimeError\u001b[0m                              Traceback (most recent call last)",
      "Cell \u001b[0;32mIn[28], line 6\u001b[0m\n\u001b[1;32m      3\u001b[0m metric\u001b[38;5;241m.\u001b[39mreset()\n\u001b[1;32m      5\u001b[0m \u001b[38;5;28;01mfor\u001b[39;00m z_slice \u001b[38;5;129;01min\u001b[39;00m tqdm(\u001b[38;5;28mrange\u001b[39m(images_generated\u001b[38;5;241m.\u001b[39mshape[\u001b[38;5;241m3\u001b[39m])):\n\u001b[0;32m----> 6\u001b[0m     \u001b[43mmetric\u001b[49m\u001b[38;5;241;43m.\u001b[39;49m\u001b[43mupdate\u001b[49m\u001b[43m(\u001b[49m\u001b[43mtorch_images_original\u001b[49m\u001b[43m[\u001b[49m\u001b[43m:\u001b[49m\u001b[43m,\u001b[49m\u001b[43m:\u001b[49m\u001b[43m,\u001b[49m\u001b[43m:\u001b[49m\u001b[43m,\u001b[49m\u001b[43m:\u001b[49m\u001b[43m,\u001b[49m\u001b[43mz_slice\u001b[49m\u001b[43m]\u001b[49m\u001b[43m,\u001b[49m\u001b[43m \u001b[49m\u001b[43mreal\u001b[49m\u001b[38;5;241;43m=\u001b[39;49m\u001b[38;5;28;43;01mTrue\u001b[39;49;00m\u001b[43m)\u001b[49m\n\u001b[1;32m      7\u001b[0m     metric\u001b[38;5;241m.\u001b[39mupdate(torch_images_real[:,:,:,:,z_slice], real\u001b[38;5;241m=\u001b[39m\u001b[38;5;28;01mFalse\u001b[39;00m)\n\u001b[1;32m      8\u001b[0m     np_fid_baseline \u001b[38;5;241m=\u001b[39m np\u001b[38;5;241m.\u001b[39mappend(np_fid_baseline, metric\u001b[38;5;241m.\u001b[39mcompute())\n",
      "File \u001b[0;32m~/software/miniconda3/envs/macaw/lib/python3.10/site-packages/torchmetrics/metric.py:456\u001b[0m, in \u001b[0;36mMetric._wrap_update.<locals>.wrapped_func\u001b[0;34m(*args, **kwargs)\u001b[0m\n\u001b[1;32m    448\u001b[0m         \u001b[38;5;28;01mif\u001b[39;00m \u001b[38;5;124m\"\u001b[39m\u001b[38;5;124mExpected all tensors to be on\u001b[39m\u001b[38;5;124m\"\u001b[39m \u001b[38;5;129;01min\u001b[39;00m \u001b[38;5;28mstr\u001b[39m(err):\n\u001b[1;32m    449\u001b[0m             \u001b[38;5;28;01mraise\u001b[39;00m \u001b[38;5;167;01mRuntimeError\u001b[39;00m(\n\u001b[1;32m    450\u001b[0m                 \u001b[38;5;124m\"\u001b[39m\u001b[38;5;124mEncountered different devices in metric calculation (see stacktrace for details).\u001b[39m\u001b[38;5;124m\"\u001b[39m\n\u001b[1;32m    451\u001b[0m                 \u001b[38;5;124m\"\u001b[39m\u001b[38;5;124m This could be due to the metric class not being on the same device as input.\u001b[39m\u001b[38;5;124m\"\u001b[39m\n\u001b[0;32m   (...)\u001b[0m\n\u001b[1;32m    454\u001b[0m                 \u001b[38;5;124m\"\u001b[39m\u001b[38;5;124m device corresponds to the device of the input.\u001b[39m\u001b[38;5;124m\"\u001b[39m\n\u001b[1;32m    455\u001b[0m             ) \u001b[38;5;28;01mfrom\u001b[39;00m \u001b[38;5;21;01merr\u001b[39;00m\n\u001b[0;32m--> 456\u001b[0m         \u001b[38;5;28;01mraise\u001b[39;00m err\n\u001b[1;32m    458\u001b[0m \u001b[38;5;28;01mif\u001b[39;00m \u001b[38;5;28mself\u001b[39m\u001b[38;5;241m.\u001b[39mcompute_on_cpu:\n\u001b[1;32m    459\u001b[0m     \u001b[38;5;28mself\u001b[39m\u001b[38;5;241m.\u001b[39m_move_list_states_to_cpu()\n",
      "File \u001b[0;32m~/software/miniconda3/envs/macaw/lib/python3.10/site-packages/torchmetrics/metric.py:446\u001b[0m, in \u001b[0;36mMetric._wrap_update.<locals>.wrapped_func\u001b[0;34m(*args, **kwargs)\u001b[0m\n\u001b[1;32m    444\u001b[0m \u001b[38;5;28;01mwith\u001b[39;00m torch\u001b[38;5;241m.\u001b[39mset_grad_enabled(\u001b[38;5;28mself\u001b[39m\u001b[38;5;241m.\u001b[39m_enable_grad):\n\u001b[1;32m    445\u001b[0m     \u001b[38;5;28;01mtry\u001b[39;00m:\n\u001b[0;32m--> 446\u001b[0m         \u001b[43mupdate\u001b[49m\u001b[43m(\u001b[49m\u001b[38;5;241;43m*\u001b[39;49m\u001b[43margs\u001b[49m\u001b[43m,\u001b[49m\u001b[43m \u001b[49m\u001b[38;5;241;43m*\u001b[39;49m\u001b[38;5;241;43m*\u001b[39;49m\u001b[43mkwargs\u001b[49m\u001b[43m)\u001b[49m\n\u001b[1;32m    447\u001b[0m     \u001b[38;5;28;01mexcept\u001b[39;00m \u001b[38;5;167;01mRuntimeError\u001b[39;00m \u001b[38;5;28;01mas\u001b[39;00m err:\n\u001b[1;32m    448\u001b[0m         \u001b[38;5;28;01mif\u001b[39;00m \u001b[38;5;124m\"\u001b[39m\u001b[38;5;124mExpected all tensors to be on\u001b[39m\u001b[38;5;124m\"\u001b[39m \u001b[38;5;129;01min\u001b[39;00m \u001b[38;5;28mstr\u001b[39m(err):\n",
      "File \u001b[0;32m~/software/miniconda3/envs/macaw/lib/python3.10/site-packages/torchmetrics/image/fid.py:328\u001b[0m, in \u001b[0;36mFrechetInceptionDistance.update\u001b[0;34m(self, imgs, real)\u001b[0m\n\u001b[1;32m    326\u001b[0m \u001b[38;5;250m\u001b[39m\u001b[38;5;124;03m\"\"\"Update the state with extracted features.\"\"\"\u001b[39;00m\n\u001b[1;32m    327\u001b[0m imgs \u001b[38;5;241m=\u001b[39m (imgs \u001b[38;5;241m*\u001b[39m \u001b[38;5;241m255\u001b[39m)\u001b[38;5;241m.\u001b[39mbyte() \u001b[38;5;28;01mif\u001b[39;00m \u001b[38;5;28mself\u001b[39m\u001b[38;5;241m.\u001b[39mnormalize \u001b[38;5;28;01melse\u001b[39;00m imgs\n\u001b[0;32m--> 328\u001b[0m features \u001b[38;5;241m=\u001b[39m \u001b[38;5;28;43mself\u001b[39;49m\u001b[38;5;241;43m.\u001b[39;49m\u001b[43minception\u001b[49m\u001b[43m(\u001b[49m\u001b[43mimgs\u001b[49m\u001b[43m)\u001b[49m\n\u001b[1;32m    329\u001b[0m \u001b[38;5;28mself\u001b[39m\u001b[38;5;241m.\u001b[39morig_dtype \u001b[38;5;241m=\u001b[39m features\u001b[38;5;241m.\u001b[39mdtype\n\u001b[1;32m    330\u001b[0m features \u001b[38;5;241m=\u001b[39m features\u001b[38;5;241m.\u001b[39mdouble()\n",
      "File \u001b[0;32m~/software/miniconda3/envs/macaw/lib/python3.10/site-packages/torch/nn/modules/module.py:1194\u001b[0m, in \u001b[0;36mModule._call_impl\u001b[0;34m(self, *input, **kwargs)\u001b[0m\n\u001b[1;32m   1190\u001b[0m \u001b[38;5;66;03m# If we don't have any hooks, we want to skip the rest of the logic in\u001b[39;00m\n\u001b[1;32m   1191\u001b[0m \u001b[38;5;66;03m# this function, and just call forward.\u001b[39;00m\n\u001b[1;32m   1192\u001b[0m \u001b[38;5;28;01mif\u001b[39;00m \u001b[38;5;129;01mnot\u001b[39;00m (\u001b[38;5;28mself\u001b[39m\u001b[38;5;241m.\u001b[39m_backward_hooks \u001b[38;5;129;01mor\u001b[39;00m \u001b[38;5;28mself\u001b[39m\u001b[38;5;241m.\u001b[39m_forward_hooks \u001b[38;5;129;01mor\u001b[39;00m \u001b[38;5;28mself\u001b[39m\u001b[38;5;241m.\u001b[39m_forward_pre_hooks \u001b[38;5;129;01mor\u001b[39;00m _global_backward_hooks\n\u001b[1;32m   1193\u001b[0m         \u001b[38;5;129;01mor\u001b[39;00m _global_forward_hooks \u001b[38;5;129;01mor\u001b[39;00m _global_forward_pre_hooks):\n\u001b[0;32m-> 1194\u001b[0m     \u001b[38;5;28;01mreturn\u001b[39;00m \u001b[43mforward_call\u001b[49m\u001b[43m(\u001b[49m\u001b[38;5;241;43m*\u001b[39;49m\u001b[38;5;28;43minput\u001b[39;49m\u001b[43m,\u001b[49m\u001b[43m \u001b[49m\u001b[38;5;241;43m*\u001b[39;49m\u001b[38;5;241;43m*\u001b[39;49m\u001b[43mkwargs\u001b[49m\u001b[43m)\u001b[49m\n\u001b[1;32m   1195\u001b[0m \u001b[38;5;66;03m# Do not call functions when jit is used\u001b[39;00m\n\u001b[1;32m   1196\u001b[0m full_backward_hooks, non_full_backward_hooks \u001b[38;5;241m=\u001b[39m [], []\n",
      "File \u001b[0;32m~/software/miniconda3/envs/macaw/lib/python3.10/site-packages/torchmetrics/image/fid.py:156\u001b[0m, in \u001b[0;36mNoTrainInceptionV3.forward\u001b[0;34m(self, x)\u001b[0m\n\u001b[1;32m    154\u001b[0m \u001b[38;5;28;01mdef\u001b[39;00m \u001b[38;5;21mforward\u001b[39m(\u001b[38;5;28mself\u001b[39m, x: Tensor) \u001b[38;5;241m-\u001b[39m\u001b[38;5;241m>\u001b[39m Tensor:\n\u001b[1;32m    155\u001b[0m \u001b[38;5;250m    \u001b[39m\u001b[38;5;124;03m\"\"\"Forward pass of neural network with reshaping of output.\"\"\"\u001b[39;00m\n\u001b[0;32m--> 156\u001b[0m     out \u001b[38;5;241m=\u001b[39m \u001b[38;5;28;43mself\u001b[39;49m\u001b[38;5;241;43m.\u001b[39;49m\u001b[43m_torch_fidelity_forward\u001b[49m\u001b[43m(\u001b[49m\u001b[43mx\u001b[49m\u001b[43m)\u001b[49m\n\u001b[1;32m    157\u001b[0m     \u001b[38;5;28;01mreturn\u001b[39;00m out[\u001b[38;5;241m0\u001b[39m]\u001b[38;5;241m.\u001b[39mreshape(x\u001b[38;5;241m.\u001b[39mshape[\u001b[38;5;241m0\u001b[39m], \u001b[38;5;241m-\u001b[39m\u001b[38;5;241m1\u001b[39m)\n",
      "File \u001b[0;32m~/software/miniconda3/envs/macaw/lib/python3.10/site-packages/torchmetrics/image/fid.py:91\u001b[0m, in \u001b[0;36mNoTrainInceptionV3._torch_fidelity_forward\u001b[0;34m(self, x)\u001b[0m\n\u001b[1;32m     84\u001b[0m x \u001b[38;5;241m=\u001b[39m interpolate_bilinear_2d_like_tensorflow1x(\n\u001b[1;32m     85\u001b[0m     x,\n\u001b[1;32m     86\u001b[0m     size\u001b[38;5;241m=\u001b[39m(\u001b[38;5;28mself\u001b[39m\u001b[38;5;241m.\u001b[39mINPUT_IMAGE_SIZE, \u001b[38;5;28mself\u001b[39m\u001b[38;5;241m.\u001b[39mINPUT_IMAGE_SIZE),\n\u001b[1;32m     87\u001b[0m     align_corners\u001b[38;5;241m=\u001b[39m\u001b[38;5;28;01mFalse\u001b[39;00m,\n\u001b[1;32m     88\u001b[0m )\n\u001b[1;32m     89\u001b[0m x \u001b[38;5;241m=\u001b[39m (x \u001b[38;5;241m-\u001b[39m \u001b[38;5;241m128\u001b[39m) \u001b[38;5;241m/\u001b[39m \u001b[38;5;241m128\u001b[39m\n\u001b[0;32m---> 91\u001b[0m x \u001b[38;5;241m=\u001b[39m \u001b[38;5;28;43mself\u001b[39;49m\u001b[38;5;241;43m.\u001b[39;49m\u001b[43mConv2d_1a_3x3\u001b[49m\u001b[43m(\u001b[49m\u001b[43mx\u001b[49m\u001b[43m)\u001b[49m\n\u001b[1;32m     92\u001b[0m x \u001b[38;5;241m=\u001b[39m \u001b[38;5;28mself\u001b[39m\u001b[38;5;241m.\u001b[39mConv2d_2a_3x3(x)\n\u001b[1;32m     93\u001b[0m x \u001b[38;5;241m=\u001b[39m \u001b[38;5;28mself\u001b[39m\u001b[38;5;241m.\u001b[39mConv2d_2b_3x3(x)\n",
      "File \u001b[0;32m~/software/miniconda3/envs/macaw/lib/python3.10/site-packages/torch/nn/modules/module.py:1194\u001b[0m, in \u001b[0;36mModule._call_impl\u001b[0;34m(self, *input, **kwargs)\u001b[0m\n\u001b[1;32m   1190\u001b[0m \u001b[38;5;66;03m# If we don't have any hooks, we want to skip the rest of the logic in\u001b[39;00m\n\u001b[1;32m   1191\u001b[0m \u001b[38;5;66;03m# this function, and just call forward.\u001b[39;00m\n\u001b[1;32m   1192\u001b[0m \u001b[38;5;28;01mif\u001b[39;00m \u001b[38;5;129;01mnot\u001b[39;00m (\u001b[38;5;28mself\u001b[39m\u001b[38;5;241m.\u001b[39m_backward_hooks \u001b[38;5;129;01mor\u001b[39;00m \u001b[38;5;28mself\u001b[39m\u001b[38;5;241m.\u001b[39m_forward_hooks \u001b[38;5;129;01mor\u001b[39;00m \u001b[38;5;28mself\u001b[39m\u001b[38;5;241m.\u001b[39m_forward_pre_hooks \u001b[38;5;129;01mor\u001b[39;00m _global_backward_hooks\n\u001b[1;32m   1193\u001b[0m         \u001b[38;5;129;01mor\u001b[39;00m _global_forward_hooks \u001b[38;5;129;01mor\u001b[39;00m _global_forward_pre_hooks):\n\u001b[0;32m-> 1194\u001b[0m     \u001b[38;5;28;01mreturn\u001b[39;00m \u001b[43mforward_call\u001b[49m\u001b[43m(\u001b[49m\u001b[38;5;241;43m*\u001b[39;49m\u001b[38;5;28;43minput\u001b[39;49m\u001b[43m,\u001b[49m\u001b[43m \u001b[49m\u001b[38;5;241;43m*\u001b[39;49m\u001b[38;5;241;43m*\u001b[39;49m\u001b[43mkwargs\u001b[49m\u001b[43m)\u001b[49m\n\u001b[1;32m   1195\u001b[0m \u001b[38;5;66;03m# Do not call functions when jit is used\u001b[39;00m\n\u001b[1;32m   1196\u001b[0m full_backward_hooks, non_full_backward_hooks \u001b[38;5;241m=\u001b[39m [], []\n",
      "File \u001b[0;32m~/software/miniconda3/envs/macaw/lib/python3.10/site-packages/torch_fidelity/feature_extractor_inceptionv3.py:208\u001b[0m, in \u001b[0;36mBasicConv2d.forward\u001b[0;34m(self, x)\u001b[0m\n\u001b[1;32m    207\u001b[0m \u001b[38;5;28;01mdef\u001b[39;00m \u001b[38;5;21mforward\u001b[39m(\u001b[38;5;28mself\u001b[39m, x):\n\u001b[0;32m--> 208\u001b[0m     x \u001b[38;5;241m=\u001b[39m \u001b[38;5;28;43mself\u001b[39;49m\u001b[38;5;241;43m.\u001b[39;49m\u001b[43mconv\u001b[49m\u001b[43m(\u001b[49m\u001b[43mx\u001b[49m\u001b[43m)\u001b[49m\n\u001b[1;32m    209\u001b[0m     x \u001b[38;5;241m=\u001b[39m \u001b[38;5;28mself\u001b[39m\u001b[38;5;241m.\u001b[39mbn(x)\n\u001b[1;32m    210\u001b[0m     \u001b[38;5;28;01mreturn\u001b[39;00m F\u001b[38;5;241m.\u001b[39mrelu(x, inplace\u001b[38;5;241m=\u001b[39m\u001b[38;5;28;01mTrue\u001b[39;00m)\n",
      "File \u001b[0;32m~/software/miniconda3/envs/macaw/lib/python3.10/site-packages/torch/nn/modules/module.py:1194\u001b[0m, in \u001b[0;36mModule._call_impl\u001b[0;34m(self, *input, **kwargs)\u001b[0m\n\u001b[1;32m   1190\u001b[0m \u001b[38;5;66;03m# If we don't have any hooks, we want to skip the rest of the logic in\u001b[39;00m\n\u001b[1;32m   1191\u001b[0m \u001b[38;5;66;03m# this function, and just call forward.\u001b[39;00m\n\u001b[1;32m   1192\u001b[0m \u001b[38;5;28;01mif\u001b[39;00m \u001b[38;5;129;01mnot\u001b[39;00m (\u001b[38;5;28mself\u001b[39m\u001b[38;5;241m.\u001b[39m_backward_hooks \u001b[38;5;129;01mor\u001b[39;00m \u001b[38;5;28mself\u001b[39m\u001b[38;5;241m.\u001b[39m_forward_hooks \u001b[38;5;129;01mor\u001b[39;00m \u001b[38;5;28mself\u001b[39m\u001b[38;5;241m.\u001b[39m_forward_pre_hooks \u001b[38;5;129;01mor\u001b[39;00m _global_backward_hooks\n\u001b[1;32m   1193\u001b[0m         \u001b[38;5;129;01mor\u001b[39;00m _global_forward_hooks \u001b[38;5;129;01mor\u001b[39;00m _global_forward_pre_hooks):\n\u001b[0;32m-> 1194\u001b[0m     \u001b[38;5;28;01mreturn\u001b[39;00m \u001b[43mforward_call\u001b[49m\u001b[43m(\u001b[49m\u001b[38;5;241;43m*\u001b[39;49m\u001b[38;5;28;43minput\u001b[39;49m\u001b[43m,\u001b[49m\u001b[43m \u001b[49m\u001b[38;5;241;43m*\u001b[39;49m\u001b[38;5;241;43m*\u001b[39;49m\u001b[43mkwargs\u001b[49m\u001b[43m)\u001b[49m\n\u001b[1;32m   1195\u001b[0m \u001b[38;5;66;03m# Do not call functions when jit is used\u001b[39;00m\n\u001b[1;32m   1196\u001b[0m full_backward_hooks, non_full_backward_hooks \u001b[38;5;241m=\u001b[39m [], []\n",
      "File \u001b[0;32m~/software/miniconda3/envs/macaw/lib/python3.10/site-packages/torch/nn/modules/conv.py:463\u001b[0m, in \u001b[0;36mConv2d.forward\u001b[0;34m(self, input)\u001b[0m\n\u001b[1;32m    462\u001b[0m \u001b[38;5;28;01mdef\u001b[39;00m \u001b[38;5;21mforward\u001b[39m(\u001b[38;5;28mself\u001b[39m, \u001b[38;5;28minput\u001b[39m: Tensor) \u001b[38;5;241m-\u001b[39m\u001b[38;5;241m>\u001b[39m Tensor:\n\u001b[0;32m--> 463\u001b[0m     \u001b[38;5;28;01mreturn\u001b[39;00m \u001b[38;5;28;43mself\u001b[39;49m\u001b[38;5;241;43m.\u001b[39;49m\u001b[43m_conv_forward\u001b[49m\u001b[43m(\u001b[49m\u001b[38;5;28;43minput\u001b[39;49m\u001b[43m,\u001b[49m\u001b[43m \u001b[49m\u001b[38;5;28;43mself\u001b[39;49m\u001b[38;5;241;43m.\u001b[39;49m\u001b[43mweight\u001b[49m\u001b[43m,\u001b[49m\u001b[43m \u001b[49m\u001b[38;5;28;43mself\u001b[39;49m\u001b[38;5;241;43m.\u001b[39;49m\u001b[43mbias\u001b[49m\u001b[43m)\u001b[49m\n",
      "File \u001b[0;32m~/software/miniconda3/envs/macaw/lib/python3.10/site-packages/torch/nn/modules/conv.py:459\u001b[0m, in \u001b[0;36mConv2d._conv_forward\u001b[0;34m(self, input, weight, bias)\u001b[0m\n\u001b[1;32m    455\u001b[0m \u001b[38;5;28;01mif\u001b[39;00m \u001b[38;5;28mself\u001b[39m\u001b[38;5;241m.\u001b[39mpadding_mode \u001b[38;5;241m!=\u001b[39m \u001b[38;5;124m'\u001b[39m\u001b[38;5;124mzeros\u001b[39m\u001b[38;5;124m'\u001b[39m:\n\u001b[1;32m    456\u001b[0m     \u001b[38;5;28;01mreturn\u001b[39;00m F\u001b[38;5;241m.\u001b[39mconv2d(F\u001b[38;5;241m.\u001b[39mpad(\u001b[38;5;28minput\u001b[39m, \u001b[38;5;28mself\u001b[39m\u001b[38;5;241m.\u001b[39m_reversed_padding_repeated_twice, mode\u001b[38;5;241m=\u001b[39m\u001b[38;5;28mself\u001b[39m\u001b[38;5;241m.\u001b[39mpadding_mode),\n\u001b[1;32m    457\u001b[0m                     weight, bias, \u001b[38;5;28mself\u001b[39m\u001b[38;5;241m.\u001b[39mstride,\n\u001b[1;32m    458\u001b[0m                     _pair(\u001b[38;5;241m0\u001b[39m), \u001b[38;5;28mself\u001b[39m\u001b[38;5;241m.\u001b[39mdilation, \u001b[38;5;28mself\u001b[39m\u001b[38;5;241m.\u001b[39mgroups)\n\u001b[0;32m--> 459\u001b[0m \u001b[38;5;28;01mreturn\u001b[39;00m \u001b[43mF\u001b[49m\u001b[38;5;241;43m.\u001b[39;49m\u001b[43mconv2d\u001b[49m\u001b[43m(\u001b[49m\u001b[38;5;28;43minput\u001b[39;49m\u001b[43m,\u001b[49m\u001b[43m \u001b[49m\u001b[43mweight\u001b[49m\u001b[43m,\u001b[49m\u001b[43m \u001b[49m\u001b[43mbias\u001b[49m\u001b[43m,\u001b[49m\u001b[43m \u001b[49m\u001b[38;5;28;43mself\u001b[39;49m\u001b[38;5;241;43m.\u001b[39;49m\u001b[43mstride\u001b[49m\u001b[43m,\u001b[49m\n\u001b[1;32m    460\u001b[0m \u001b[43m                \u001b[49m\u001b[38;5;28;43mself\u001b[39;49m\u001b[38;5;241;43m.\u001b[39;49m\u001b[43mpadding\u001b[49m\u001b[43m,\u001b[49m\u001b[43m \u001b[49m\u001b[38;5;28;43mself\u001b[39;49m\u001b[38;5;241;43m.\u001b[39;49m\u001b[43mdilation\u001b[49m\u001b[43m,\u001b[49m\u001b[43m \u001b[49m\u001b[38;5;28;43mself\u001b[39;49m\u001b[38;5;241;43m.\u001b[39;49m\u001b[43mgroups\u001b[49m\u001b[43m)\u001b[49m\n",
      "\u001b[0;31mRuntimeError\u001b[0m: Given groups=1, weight of size [32, 3, 3, 3], expected input[200, 1, 299, 299] to have 3 channels, but got 1 channels instead"
     ]
    }
   ],
   "source": [
    "metric = FrechetInceptionDistance(feature=2048, normalize=True)\n",
    "np_fid_baseline = np.array([])\n",
    "metric.reset()\n",
    "\n",
    "for z_slice in tqdm(range(images_generated.shape[3])):\n",
    "    metric.update(torch_images_original[:,:,:,:,z_slice], real=True)\n",
    "    metric.update(torch_images_real[:,:,:,:,z_slice], real=False)\n",
    "    np_fid_baseline = np.append(np_fid_baseline, metric.compute())\n",
    "    metric.reset()"
   ]
  },
  {
   "cell_type": "code",
   "execution_count": null,
   "id": "b9204aa9",
   "metadata": {},
   "outputs": [],
   "source": [
    "len(np_fid)"
   ]
  },
  {
   "cell_type": "code",
   "execution_count": null,
   "id": "01f6ab33",
   "metadata": {},
   "outputs": [],
   "source": [
    "print(np_fid_baseline.mean())\n",
    "print(np_fid_baseline.std())\n",
    "print(np_fid_baseline.min())\n",
    "print(np_fid_baseline.max())"
   ]
  },
  {
   "cell_type": "code",
   "execution_count": null,
   "id": "c3570b29",
   "metadata": {},
   "outputs": [],
   "source": [
    "print(np_fid)\n",
    "print(np_fid_baseline)"
   ]
  },
  {
   "cell_type": "code",
   "execution_count": null,
   "id": "424adf2c",
   "metadata": {},
   "outputs": [],
   "source": [
    "len(np_fid)"
   ]
  },
  {
   "cell_type": "code",
   "execution_count": null,
   "id": "a1cff90c",
   "metadata": {},
   "outputs": [],
   "source": [
    "print(np_fid)"
   ]
  },
  {
   "cell_type": "markdown",
   "id": "5268a45b",
   "metadata": {},
   "source": [
    "## Difference map"
   ]
  },
  {
   "cell_type": "code",
   "execution_count": 16,
   "id": "0022081c",
   "metadata": {},
   "outputs": [],
   "source": [
    "rands = np.random.randint(0,len(images_generated_normalized),nsamples) \n",
    "images_generated_rand = images_generated_normalized[rands]\n",
    "image_original_rand = images_original_normalized[rands]\n",
    "subjects_eid_rand  = subjects_eid[rands].astype(int)\n",
    "cf_age_rand  = cf_age[rands]\n",
    "cf_sex_rand  = cf_sex[rands]\n",
    "real_age_rand = real_age[rands]\n",
    "real_sex_rand = real_sex[rands]"
   ]
  },
  {
   "cell_type": "code",
   "execution_count": 17,
   "id": "fdfee7e9",
   "metadata": {},
   "outputs": [
    {
     "data": {
      "text/plain": [
       "array([3903249, 2697793, 4832287, 1184760, 2810655])"
      ]
     },
     "execution_count": 17,
     "metadata": {},
     "output_type": "execute_result"
    }
   ],
   "source": [
    "subjects_eid_rand"
   ]
  },
  {
   "cell_type": "code",
   "execution_count": 18,
   "id": "123d8614",
   "metadata": {},
   "outputs": [],
   "source": [
    "titles_cf = [f'Age:{a}, Sex:{s}' for a,s in zip(cf_age_rand,cf_sex_rand)]\n",
    "real_sex_rand = ['M' if round(s) else 'F' for s in real_sex_rand]\n",
    "titles_real = [f'Age:{a}, Sex:{s}' for a,s in zip(real_age_rand,real_sex_rand)]"
   ]
  },
  {
   "cell_type": "code",
   "execution_count": 19,
   "id": "bef42f11",
   "metadata": {},
   "outputs": [],
   "source": [
    "# Mapping the difference\n",
    "\n",
    "diff = [np.subtract(a,s) for a,s in zip(image_original_rand,images_generated_rand)]"
   ]
  },
  {
   "cell_type": "code",
   "execution_count": 20,
   "id": "edc06abe",
   "metadata": {},
   "outputs": [],
   "source": [
    "def plot_slice(z_slice):\n",
    "    order_slice = z_slice - z_initial\n",
    "    plt.rcParams[\"figure.figsize\"] = (20,5)\n",
    "    img_grid([one_image[:,:,order_slice] for one_image in image_original_rand],cols=nsamples,titles=titles_real)\n",
    "    img_grid([one_image[:,:,order_slice] for one_image in images_generated_rand],cols=nsamples,titles=titles_cf)\n",
    "    img_grid([one_image[:,:,order_slice] for one_image in diff],cols=nsamples, cmap='seismic', clim=(-1,1))"
   ]
  },
  {
   "cell_type": "code",
   "execution_count": 21,
   "id": "6f4545dc",
   "metadata": {},
   "outputs": [
    {
     "data": {
      "application/vnd.jupyter.widget-view+json": {
       "model_id": "7f3efe37ab5c493cbeee7e3984a32841",
       "version_major": 2,
       "version_minor": 0
      },
      "text/plain": [
       "interactive(children=(IntSlider(value=41, continuous_update=False, description='Image Slice:', max=140, min=41…"
      ]
     },
     "metadata": {},
     "output_type": "display_data"
    },
    {
     "data": {
      "text/plain": [
       "<function __main__.plot_slice(z_slice)>"
      ]
     },
     "execution_count": 21,
     "metadata": {},
     "output_type": "execute_result"
    }
   ],
   "source": [
    "ipyw.interact(plot_slice, \n",
    "              z_slice=ipyw.IntSlider(min=z_initial, max=z_fim, step=1, continuous_update=False, description='Image Slice:'))"
   ]
  },
  {
   "cell_type": "code",
   "execution_count": null,
   "id": "47ba94a4",
   "metadata": {},
   "outputs": [],
   "source": []
  }
 ],
 "metadata": {
  "kernelspec": {
   "display_name": "Python 3 (ipykernel)",
   "language": "python",
   "name": "python3"
  },
  "language_info": {
   "codemirror_mode": {
    "name": "ipython",
    "version": 3
   },
   "file_extension": ".py",
   "mimetype": "text/x-python",
   "name": "python",
   "nbconvert_exporter": "python",
   "pygments_lexer": "ipython3",
   "version": "3.10.11"
  }
 },
 "nbformat": 4,
 "nbformat_minor": 5
}
