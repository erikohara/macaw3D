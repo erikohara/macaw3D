{
 "cells": [
  {
   "cell_type": "code",
   "execution_count": 1,
   "id": "bfb5c807",
   "metadata": {},
   "outputs": [],
   "source": [
    "import os\n",
    "import sys\n",
    "from pathlib import Path\n",
    "sys.path.append(str(Path(os.getcwd()).parent.parent) +'/')\n",
    "from utils.visualize import img_grid\n",
    "\n",
    "from torchvision import transforms \n",
    "\n",
    "import numpy as np\n",
    "import pandas as pd\n",
    "import torchio as tio\n",
    "import nibabel as nib\n",
    "\n",
    "import ipywidgets as ipyw\n",
    "import matplotlib.pyplot as plt\n",
    "import SimpleITK as sitk\n",
    "import torch\n",
    "from torch import nn\n",
    "from  torch.utils.data import Dataset, DataLoader\n",
    "from tqdm.notebook import tqdm\n",
    "from torchmetrics.image.fid import FrechetInceptionDistance\n",
    "import scipy\n",
    "from sklearn import metrics\n",
    "import json "
   ]
  },
  {
   "cell_type": "code",
   "execution_count": 2,
   "id": "d942d335",
   "metadata": {},
   "outputs": [],
   "source": [
    "macaw_path = str(Path(os.getcwd()).parent.parent)\n",
    "ukbb_path = '/home/erik.ohara/UKBB'\n",
    "generated_path = '/work/forkert_lab/erik/MACAW/cf_images/HPCA_18000_five_scaler'\n",
    "output_path = '/work/forkert_lab/erik/MACAW/cf_images/HPCA_18000_five_scaler_sharp'\n",
    "output_path_2 = '/work/forkert_lab/erik/MACAW/cf_images/HPCA_18000_five_scaler_sharp_2'"
   ]
  },
  {
   "cell_type": "code",
   "execution_count": 3,
   "id": "d68c7ada",
   "metadata": {},
   "outputs": [
    {
     "data": {
      "application/vnd.jupyter.widget-view+json": {
       "model_id": "d7f059805ccd4209bddd47fdf31adbcf",
       "version_major": 2,
       "version_minor": 0
      },
      "text/plain": [
       "  0%|          | 0/2370 [00:00<?, ?it/s]"
      ]
     },
     "metadata": {},
     "output_type": "display_data"
    },
    {
     "name": "stdout",
     "output_type": "stream",
     "text": [
      "2370\n"
     ]
    }
   ],
   "source": [
    "# Getting the generated images\n",
    "subjects_eid = np.array([])\n",
    "cf_age = np.array([])\n",
    "cf_sex = np.array([])\n",
    "images_generated = []\n",
    "files_generated = []\n",
    "for file in tqdm(os.listdir(generated_path)):\n",
    "    if '.nii' in file:\n",
    "        files_generated.append(file)\n",
    "        splits = file.split(\"_\")\n",
    "        subject_eid = int(splits[0])\n",
    "        age = splits[1]\n",
    "        sex = splits[2].split(\".\")[0]\n",
    "        subjects_eid = np.append(subjects_eid,subject_eid)\n",
    "        cf_age = np.append(cf_age, age)\n",
    "        cf_sex = np.append(cf_sex, sex)\n",
    "        image_load = sitk.ReadImage(os.path.join(generated_path, file))\n",
    "        #image_load = nib.load(os.path.join(generated_path, file)).get_fdata()\n",
    "        images_generated.append(image_load)\n",
    "print(len(images_generated))"
   ]
  },
  {
   "cell_type": "code",
   "execution_count": 6,
   "id": "bfd68b1c",
   "metadata": {},
   "outputs": [
    {
     "data": {
      "application/vnd.jupyter.widget-view+json": {
       "model_id": "5845f11977fd4783a8ee04988610b5cb",
       "version_major": 2,
       "version_minor": 0
      },
      "text/plain": [
       "0it [00:00, ?it/s]"
      ]
     },
     "metadata": {},
     "output_type": "display_data"
    }
   ],
   "source": [
    "for idx,each_image in tqdm(enumerate(images_generated)):\n",
    "    sharpening_filter = sitk.LaplacianSharpeningImageFilter()\n",
    "    # Set filter parameters\n",
    "    sharpened_image = sharpening_filter.Execute(each_image)\n",
    "    sitk.WriteImage(sharpened_image, os.path.join(output_path, files_generated[idx]))"
   ]
  },
  {
   "cell_type": "code",
   "execution_count": 4,
   "id": "e0065ec4",
   "metadata": {},
   "outputs": [
    {
     "data": {
      "application/vnd.jupyter.widget-view+json": {
       "model_id": "6b5e01acab0d42d8a3afd3250e1c0b63",
       "version_major": 2,
       "version_minor": 0
      },
      "text/plain": [
       "0it [00:00, ?it/s]"
      ]
     },
     "metadata": {},
     "output_type": "display_data"
    }
   ],
   "source": [
    "for idx,each_image in tqdm(enumerate(images_generated)):\n",
    "    sharpening_filter_2 = sitk.UnsharpMaskImageFilter()\n",
    "    # Set filter parameters\n",
    "    sharpened_image_2 = sharpening_filter_2.Execute(each_image)\n",
    "    sitk.WriteImage(sharpened_image_2, os.path.join(output_path_2, files_generated[idx]))"
   ]
  },
  {
   "cell_type": "code",
   "execution_count": null,
   "id": "5ba15e55",
   "metadata": {},
   "outputs": [],
   "source": []
  }
 ],
 "metadata": {
  "kernelspec": {
   "display_name": "Python 3 (ipykernel)",
   "language": "python",
   "name": "python3"
  },
  "language_info": {
   "codemirror_mode": {
    "name": "ipython",
    "version": 3
   },
   "file_extension": ".py",
   "mimetype": "text/x-python",
   "name": "python",
   "nbconvert_exporter": "python",
   "pygments_lexer": "ipython3",
   "version": "3.10.11"
  }
 },
 "nbformat": 4,
 "nbformat_minor": 5
}
