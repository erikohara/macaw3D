{
 "cells": [
  {
   "cell_type": "code",
   "execution_count": 1,
   "id": "9d10cc4f",
   "metadata": {},
   "outputs": [],
   "source": [
    "import numpy as np\n",
    "import pickle\n",
    "import yaml\n",
    "import pandas as pd\n",
    "import sys\n",
    "import torch\n",
    "import torch.distributions as td\n",
    "sys.path.append('/home/erik.ohara/macaw/')\n",
    "from utils.helpers import dict2namespace\n",
    "from macaw import MACAW\n",
    "import matplotlib.pyplot as plt"
   ]
  },
  {
   "cell_type": "code",
   "execution_count": 2,
   "id": "139e6eb0",
   "metadata": {},
   "outputs": [],
   "source": [
    "pca_path = '/work/forkert_lab/erik/PCA/mitacs_no_crop_2'\n",
    "reshaped_path = '/work/forkert_lab/erik/MACAW/reshaped/mitacs_no_crop/all'\n",
    "data_path = '/home/erik.ohara/SFCN_PD_scanner'\n",
    "macaw_path = '/home/erik.ohara/macaw'\n",
    "model_path = '/work/forkert_lab/erik/MACAW/models/PD_PCA3_age_sex_indsite_whole_obj_rever'\n",
    "ncauses = 3\n",
    "nevecs = 50\n",
    "ncomps = 575\n",
    "nbasecomps = 25"
   ]
  },
  {
   "cell_type": "code",
   "execution_count": 3,
   "id": "d44c8983",
   "metadata": {},
   "outputs": [],
   "source": [
    "data_train = np.load(reshaped_path + '/reshaped_3D_train.npy')\n",
    "data_val = np.load(reshaped_path + '/reshaped_3D_val.npy')"
   ]
  },
  {
   "cell_type": "code",
   "execution_count": null,
   "id": "3f36a92c",
   "metadata": {},
   "outputs": [],
   "source": [
    "with open(pca_path + '/pca.pkl','rb') as f:  \n",
    "    pca = pickle.load(f)"
   ]
  },
  {
   "cell_type": "code",
   "execution_count": null,
   "id": "7c4ddbeb",
   "metadata": {},
   "outputs": [],
   "source": [
    "def one_hot(a, veclen=10):\n",
    "    b = np.zeros((a.size, veclen))\n",
    "    b[np.arange(a.size), a] = 1\n",
    "    return b\n",
    "\n",
    "def inverse_one_hot(b):\n",
    "    return np.argmax(b,axis=1)"
   ]
  },
  {
   "cell_type": "code",
   "execution_count": null,
   "id": "1e2b3b45",
   "metadata": {},
   "outputs": [],
   "source": [
    "df = pd.read_csv(data_path + '/all_df_2.csv',low_memory=False)\n",
    "print(f\"The original size of the dataframe is {df.shape}\")\n",
    "df_train = pd.read_csv(data_path + '/split/all/df_train.csv',low_memory=False)\n",
    "df_val = pd.read_csv(data_path + '/split/all/df_val.csv',low_memory=False)\n",
    "print(f\"The size of the df_train is {df_train.shape}\")\n",
    "print(f\"The size of the df_train is {df_val.shape}\")"
   ]
  },
  {
   "cell_type": "code",
   "execution_count": null,
   "id": "910af75f",
   "metadata": {},
   "outputs": [],
   "source": [
    "site = df['Site_3']\n",
    "age = df['Age'].astype(int) - df['Age'].astype(int).min()\n",
    "sex = df['Sex_bin'] \n",
    "number_sites = len(df['Site_3'].unique())\n",
    "ncauses = ncauses -1 + number_sites\n",
    "site_one_hot = one_hot(site)\n",
    "\n",
    "site_train = df_train['Site_3']\n",
    "age_train = df_train['Age'].astype(int) - df['Age'].astype(int).min()\n",
    "site_one_hot_train = one_hot(site_train) \n",
    "sex_train = df_train['Sex_bin'] \n",
    "\n",
    "site_val = df_val['Site_3']\n",
    "age_val = df_val['Age'].astype(int) - df['Age'].astype(int).min()\n",
    "site_one_hot_val = one_hot(site_val) \n",
    "sex_val = df_val['Sex_bin'] "
   ]
  },
  {
   "cell_type": "code",
   "execution_count": null,
   "id": "ee671a15",
   "metadata": {},
   "outputs": [],
   "source": [
    "# causal Graph\n",
    "site_to_latents = [(l,i)  for l in range(number_sites) for i in range(ncauses,nevecs+ncauses)]\n",
    "#site_to_age_sex = [(l,i)  for l in range(number_sites) for i in range(number_sites,ncauses)]\n",
    "age_to_latents = [(number_sites,i) for i in range(ncauses,nevecs+ncauses)]\n",
    "sex_to_latents = [(number_sites+1,i) for i in range(ncauses,nevecs+ncauses)]\n",
    "#autoregressive_latents = [(i,j) for i in range(ncauses,nevecs+ncauses-1) for j in range(i+1,nevecs+ncauses)]\n",
    "edges =  site_to_latents + age_to_latents + sex_to_latents #+ autoregressive_latents"
   ]
  },
  {
   "cell_type": "code",
   "execution_count": null,
   "id": "837f9f50",
   "metadata": {},
   "outputs": [],
   "source": [
    "with open(macaw_path + '/config/mitacs.yaml', 'r') as f:\n",
    "    config_raw = yaml.load(f, Loader=yaml.FullLoader)\n",
    "    \n",
    "config = dict2namespace(config_raw)\n",
    "config.device = torch.device('cuda') if torch.cuda.is_available() else torch.device('cpu')"
   ]
  },
  {
   "cell_type": "code",
   "execution_count": null,
   "id": "124b46ed",
   "metadata": {},
   "outputs": [],
   "source": [
    "#Priors\n",
    "unique_values, counts = np.unique(site, return_counts=True)\n",
    "print(unique_values)\n",
    "P_site = counts/np.sum(counts)\n",
    "\n",
    "P_sex = np.sum(sex)/len(sex)\n",
    "\n",
    "unique_values_age, counts_age = np.unique(age, return_counts=True)\n",
    "P_age = counts_age/np.sum(counts_age)\n",
    "# Filling P_Ages with 0 when there is no one on age\n",
    "new_P_age = np.array([])\n",
    "for each_age in range(age.max()+1):\n",
    "    achou = False\n",
    "    for idx, age_comparing in enumerate(unique_values_age):\n",
    "        if each_age == age_comparing:\n",
    "            new_P_age = np.append(new_P_age,P_age[idx])\n",
    "            achou = True\n",
    "    if not achou:   \n",
    "        new_P_age = np.append(new_P_age,0)\n",
    "print(f\"P_age shape: {P_age.shape}\")\n",
    "print(f\"new_P_age shape: {new_P_age.shape}\")\n",
    "\n",
    "priors = [(slice(0,number_sites),td.OneHotCategorical(torch.tensor([P_site]).to(config.device))), # site\n",
    "          #(slice(number_sites,number_sites+1),td.Normal(torch.zeros(1).to(config.device), torch.ones(1).to(config.device))), # age\n",
    "          (slice(number_sites,number_sites+1),td.Categorical(torch.tensor([new_P_age]).to(config.device))), # age\n",
    "          #(slice(number_sites+1,ncauses),td.Normal(torch.zeros(1).to(config.device), torch.ones(1).to(config.device))), # sex\n",
    "          (slice(number_sites+1,ncauses),td.Bernoulli(torch.tensor([P_sex]).to(config.device))), # sex\n",
    "          (slice(ncauses,nbasecomps+ncauses),td.Normal(torch.zeros(nbasecomps).to(config.device), torch.ones(nbasecomps).to(config.device))), # base_comps\n",
    "          (slice(nbasecomps+ncauses,nevecs+ncauses),td.Normal(torch.zeros(nevecs-nbasecomps).to(config.device), torch.ones(nevecs-nbasecomps).to(config.device))), # new_comps\n",
    "         ]"
   ]
  },
  {
   "cell_type": "code",
   "execution_count": null,
   "id": "a75e604a",
   "metadata": {},
   "outputs": [],
   "source": [
    "with open(model_path + '/scalers.pkl','rb') as f:  \n",
    "    scalers = pickle.load(f)"
   ]
  },
  {
   "cell_type": "code",
   "execution_count": null,
   "id": "9bf3946f",
   "metadata": {},
   "outputs": [],
   "source": [
    "all_encoded_obs_train = pca.transform(data_train)\n",
    "all_encoded_obs_val = pca.transform(data_val)"
   ]
  },
  {
   "cell_type": "code",
   "execution_count": null,
   "id": "2d56c821",
   "metadata": {},
   "outputs": [],
   "source": [
    "np.zeros(all_encoded_obs_train.shape)"
   ]
  },
  {
   "cell_type": "code",
   "execution_count": null,
   "id": "927dda90",
   "metadata": {},
   "outputs": [],
   "source": [
    "datashape1 = ncauses + nevecs\n",
    "all_z_obs_train = np.zeros(all_encoded_obs_train.shape)\n",
    "all_z_obs_val = np.zeros(all_encoded_obs_val.shape)\n",
    "all_x_obs_train = np.zeros(all_encoded_obs_train.shape)\n",
    "all_x_obs_val = np.zeros(all_encoded_obs_val.shape)\n",
    "for e in range(0,ncomps-nbasecomps,nevecs-nbasecomps):\n",
    "    encoded_data_train = all_encoded_obs_train[:,e:e+nevecs]\n",
    "    encoded_data_val = all_encoded_obs_val[:,e:e+nevecs]\n",
    "    macaw = MACAW.MACAW(config)\n",
    "    macaw.load_model(model_path + f'/macaw_pd_PCA_{e}.pt', edges, priors, datashape1)\n",
    "    macaw.model.to(config.device)\n",
    "    for each_flow in macaw.flow_list:\n",
    "        each_flow.to(config.device)\n",
    "        each_flow.device = config.device\n",
    "    macaw.device = config.device\n",
    "    scaler = scalers[f\"{e}\"]\n",
    "    encoded_data_train = scaler.transform(encoded_data_train)\n",
    "    encoded_data_val = scaler.transform(encoded_data_val)\n",
    "    X_train = np.hstack([site_one_hot_train,\n",
    "                       np.array(age_train)[:,np.newaxis],\n",
    "                       np.array(sex_train)[:,np.newaxis],\n",
    "                       encoded_data_train]) \n",
    "    X_val = np.hstack([site_one_hot_val,\n",
    "                   np.array(age_val)[:,np.newaxis],\n",
    "                   np.array(sex_val)[:,np.newaxis],\n",
    "                   encoded_data_val]) \n",
    "    z_obs_train = macaw._forward_flow(X_train)\n",
    "    z_obs_val = macaw._forward_flow(X_val)\n",
    "    diff_train = z_obs_train - X_train\n",
    "    all_x_obs_train[:,e:e+nevecs] = encoded_data_train\n",
    "    all_x_obs_val[:,e:e+nevecs] = encoded_data_val\n",
    "    all_z_obs_train[:,e:e+nevecs] = z_obs_train[:,ncauses:]\n",
    "    all_z_obs_val[:,e:e+nevecs] = z_obs_val[:,ncauses:]"
   ]
  },
  {
   "cell_type": "code",
   "execution_count": null,
   "id": "541f0af5",
   "metadata": {},
   "outputs": [],
   "source": [
    "all_x_obs_train[:,11]"
   ]
  },
  {
   "cell_type": "code",
   "execution_count": null,
   "id": "65b5b590",
   "metadata": {},
   "outputs": [],
   "source": [
    "all_z_obs_train[:,11]"
   ]
  },
  {
   "cell_type": "markdown",
   "id": "9651accc",
   "metadata": {},
   "source": [
    "# X_obs train distribution"
   ]
  },
  {
   "cell_type": "code",
   "execution_count": null,
   "id": "293e7154",
   "metadata": {},
   "outputs": [],
   "source": [
    "fig, axs = plt.subplots(4, 3, figsize=(15, 10))\n",
    "plot_limit = 12\n",
    "# Flatten the axes array for easy iteration\n",
    "axs = axs.flatten()\n",
    "\n",
    "# Plot each loss value in the grid\n",
    "nplot = 0\n",
    "for i in range(all_x_obs_train.shape[1]):\n",
    "    if nplot < plot_limit:\n",
    "        nplot += 1\n",
    "    else:\n",
    "        break\n",
    "    axs[i].hist(all_x_obs_train[:,i], bins='auto') \n",
    "    axs[i].set_title(f\"PCA {i} \")\n",
    "    #axs[i].set_xlim(left=-.9, right=1)\n",
    "    #axs[i].set_ylim(top=5e4)\n",
    "\n",
    "plt.tight_layout()\n",
    "plt.show()"
   ]
  },
  {
   "cell_type": "markdown",
   "id": "b9bc81df",
   "metadata": {},
   "source": [
    "# Z_obs train distribution"
   ]
  },
  {
   "cell_type": "code",
   "execution_count": null,
   "id": "98d4d866",
   "metadata": {},
   "outputs": [],
   "source": [
    "fig, axs = plt.subplots(4, 3, figsize=(15, 10))\n",
    "plot_limit = 12\n",
    "# Flatten the axes array for easy iteration\n",
    "axs = axs.flatten()\n",
    "\n",
    "# Plot each loss value in the grid\n",
    "nplot = 0\n",
    "for i in range(all_z_obs_train.shape[1]):\n",
    "    if nplot < plot_limit:\n",
    "        nplot += 1\n",
    "    else:\n",
    "        break\n",
    "    axs[i].hist(all_z_obs_train[:,i], bins='auto') \n",
    "    axs[i].set_title(f\"PCA {i} \")\n",
    "    #axs[i].set_xlim(left=-.9, right=1)\n",
    "    #axs[i].set_ylim(top=5e4)\n",
    "\n",
    "plt.tight_layout()\n",
    "plt.show()"
   ]
  },
  {
   "cell_type": "code",
   "execution_count": null,
   "id": "438dd91e",
   "metadata": {},
   "outputs": [],
   "source": []
  }
 ],
 "metadata": {
  "kernelspec": {
   "display_name": "Python 3 (ipykernel)",
   "language": "python",
   "name": "python3"
  },
  "language_info": {
   "codemirror_mode": {
    "name": "ipython",
    "version": 3
   },
   "file_extension": ".py",
   "mimetype": "text/x-python",
   "name": "python",
   "nbconvert_exporter": "python",
   "pygments_lexer": "ipython3",
   "version": "3.10.11"
  }
 },
 "nbformat": 4,
 "nbformat_minor": 5
}
