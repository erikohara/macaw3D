{
 "cells": [
  {
   "cell_type": "code",
   "execution_count": 1,
   "id": "f0aa50aa",
   "metadata": {},
   "outputs": [],
   "source": [
    "import numpy as np\n",
    "import pickle\n",
    "import sys\n",
    "macaw_path = '/home/erik.ohara/macaw'\n",
    "sys.path.append(macaw_path +'/')\n",
    "from macaw import MACAW\n",
    "from utils.helpers import dict2namespace\n",
    "import yaml\n",
    "import torch\n",
    "import torch.distributions as td\n",
    "import pandas as pd"
   ]
  },
  {
   "cell_type": "code",
   "execution_count": 2,
   "id": "b8b44655",
   "metadata": {},
   "outputs": [],
   "source": [
    "path = '/work/forkert_lab/erik/MACAW/cf_images/macaw_vqvae8_50nevecs_2_zero'\n",
    "vqvae_path = '/work/forkert_lab/erik/MACAW/models/vqvae3D_8'\n",
    "ukbb_path = '/home/erik.ohara/UKBB'\n",
    "model_path = f\"/work/forkert_lab/erik/MACAW/models/macaw_vqvae8_50nevecs_2\"\n",
    "nevecs = 50\n",
    "ncauses = 2\n",
    "ncomps = 10625\n",
    "nbasecomps = 25"
   ]
  },
  {
   "cell_type": "code",
   "execution_count": 3,
   "id": "b59136b5",
   "metadata": {},
   "outputs": [],
   "source": [
    "with open(macaw_path + '/config/ukbbVQVAE.yaml', 'r') as f:\n",
    "    config_raw = yaml.load(f, Loader=yaml.FullLoader)\n",
    "    \n",
    "config = dict2namespace(config_raw)\n",
    "config.device = torch.device('cuda') if torch.cuda.is_available() else torch.device('cpu')"
   ]
  },
  {
   "cell_type": "code",
   "execution_count": 4,
   "id": "d0cf966d",
   "metadata": {},
   "outputs": [],
   "source": [
    "diff_0 = np.load(path + \"/diff_0.npy\")"
   ]
  },
  {
   "cell_type": "code",
   "execution_count": 5,
   "id": "ec7a6b82",
   "metadata": {},
   "outputs": [
    {
     "data": {
      "text/plain": [
       "402"
      ]
     },
     "execution_count": 5,
     "metadata": {},
     "output_type": "execute_result"
    }
   ],
   "source": [
    "diff_0.shape[1]"
   ]
  },
  {
   "cell_type": "code",
   "execution_count": 6,
   "id": "5e127776",
   "metadata": {},
   "outputs": [
    {
     "data": {
      "text/plain": [
       "array([0.88822135, 0.90224285, 0.89696575, ..., 0.88498354, 0.88383241,\n",
       "       0.88658599])"
      ]
     },
     "execution_count": 6,
     "metadata": {},
     "output_type": "execute_result"
    }
   ],
   "source": [
    "diff_0[:,2]"
   ]
  },
  {
   "cell_type": "code",
   "execution_count": 7,
   "id": "edb89c10",
   "metadata": {},
   "outputs": [
    {
     "name": "stdout",
     "output_type": "stream",
     "text": [
      "2\n",
      "3\n",
      "4\n",
      "5\n",
      "6\n",
      "7\n",
      "8\n",
      "9\n",
      "10\n",
      "11\n",
      "12\n",
      "13\n",
      "14\n",
      "15\n",
      "16\n",
      "17\n",
      "18\n",
      "19\n",
      "20\n",
      "21\n",
      "22\n",
      "23\n",
      "24\n",
      "25\n",
      "26\n",
      "27\n",
      "28\n",
      "29\n",
      "30\n",
      "31\n",
      "32\n",
      "33\n",
      "34\n",
      "35\n",
      "36\n",
      "37\n",
      "38\n",
      "39\n",
      "40\n",
      "41\n",
      "42\n",
      "43\n",
      "44\n",
      "45\n",
      "46\n",
      "47\n",
      "48\n",
      "49\n",
      "50\n",
      "51\n"
     ]
    }
   ],
   "source": [
    "for ev in range(diff_0.shape[1]):\n",
    "    if diff_0[:,ev].sum() != 0:\n",
    "        print(ev)"
   ]
  },
  {
   "cell_type": "code",
   "execution_count": 8,
   "id": "ddce2d0e",
   "metadata": {},
   "outputs": [
    {
     "name": "stdout",
     "output_type": "stream",
     "text": [
      "2\n",
      "3\n",
      "4\n",
      "5\n",
      "6\n",
      "7\n",
      "8\n",
      "9\n",
      "10\n",
      "11\n",
      "12\n",
      "13\n",
      "14\n",
      "15\n",
      "16\n",
      "17\n",
      "18\n",
      "19\n",
      "20\n",
      "21\n",
      "22\n",
      "23\n",
      "24\n",
      "25\n",
      "26\n",
      "27\n",
      "28\n",
      "29\n",
      "30\n",
      "31\n",
      "32\n",
      "33\n",
      "34\n",
      "35\n",
      "36\n",
      "37\n",
      "38\n",
      "39\n",
      "40\n",
      "41\n",
      "42\n",
      "43\n",
      "44\n",
      "45\n",
      "46\n",
      "47\n",
      "48\n",
      "49\n",
      "50\n",
      "51\n"
     ]
    }
   ],
   "source": [
    "diff_1 = np.load(path + \"/diff_50.npy\")\n",
    "for ev in range(diff_1.shape[1]):\n",
    "    if diff_0[:,ev].sum() != 0:\n",
    "        print(ev)"
   ]
  },
  {
   "cell_type": "code",
   "execution_count": 9,
   "id": "7a9c4e72",
   "metadata": {},
   "outputs": [],
   "source": [
    "with open(vqvae_path + '/encoded_data_val_all.pkl','rb') as file_val_data:  \n",
    "        encoded_data_val_all = pickle.load(file_val_data)"
   ]
  },
  {
   "cell_type": "code",
   "execution_count": 10,
   "id": "759f9584",
   "metadata": {},
   "outputs": [
    {
     "data": {
      "text/plain": [
       "(2369, 8, 10625)"
      ]
     },
     "execution_count": 10,
     "metadata": {},
     "output_type": "execute_result"
    }
   ],
   "source": [
    "encoded_data_val_all.shape"
   ]
  },
  {
   "cell_type": "code",
   "execution_count": 11,
   "id": "b16f945c",
   "metadata": {},
   "outputs": [
    {
     "data": {
      "text/plain": [
       "array([0.0326902 , 0.03645178, 0.03649143, 0.0364942 , 0.03642333,\n",
       "       0.03647562, 0.03648647, 0.03659338, 0.03669963, 0.03606642,\n",
       "       0.03520264, 0.03727198, 0.03776916, 0.0381999 , 0.03804722,\n",
       "       0.03806691, 0.03735187, 0.03700652, 0.03694885, 0.03670905,\n",
       "       0.03653187, 0.03654395, 0.03654039, 0.03697416, 0.03193894,\n",
       "       0.03582074, 0.03589864, 0.03650068, 0.03630941, 0.03707056,\n",
       "       0.03721583, 0.03704946, 0.03621329, 0.03545854, 0.03565918,\n",
       "       0.03942621, 0.04174054, 0.04166941, 0.04194109, 0.03874976,\n",
       "       0.03812994, 0.03853172, 0.03990479, 0.03794438, 0.03713609,\n",
       "       0.03684948, 0.03658118, 0.03653095, 0.03616025, 0.03462523],\n",
       "      dtype=float32)"
      ]
     },
     "execution_count": 11,
     "metadata": {},
     "output_type": "execute_result"
    }
   ],
   "source": [
    "encoded_data_val_all[0,7,:50]"
   ]
  },
  {
   "cell_type": "code",
   "execution_count": 12,
   "id": "46b48f64",
   "metadata": {},
   "outputs": [
    {
     "name": "stderr",
     "output_type": "stream",
     "text": [
      "/tmp/ipykernel_1235600/1127431686.py:11: UserWarning: Creating a tensor from a list of numpy.ndarrays is extremely slow. Please consider converting the list to a single numpy.ndarray with numpy.array() before converting to a tensor. (Triggered internally at /opt/conda/conda-bld/pytorch_1670525552843/work/torch/csrc/utils/tensor_new.cpp:230.)\n",
      "  (slice(1,2),td.Categorical(torch.tensor([P_age]).to(config.device))), # age\n"
     ]
    }
   ],
   "source": [
    "data_all_path = ukbb_path + '/ukbb_img.csv'\n",
    "df_all = pd.read_csv(data_all_path,low_memory=False)\n",
    "min_age = df_all['Age'].min()\n",
    "\n",
    "sex = df_all['Sex'] \n",
    "age = df_all['Age'] - min_age\n",
    "P_sex = np.sum(sex)/len(sex)\n",
    "unique_values, counts = np.unique(age, return_counts=True)\n",
    "P_age = counts/np.sum(counts)\n",
    "priors = [(slice(0,1),td.Bernoulli(torch.tensor([P_sex]).to(config.device))), # sex\n",
    "          (slice(1,2),td.Categorical(torch.tensor([P_age]).to(config.device))), # age\n",
    "          (slice(ncauses,nbasecomps+ncauses),td.Normal(torch.zeros(nbasecomps).to(config.device), torch.ones(nbasecomps).to(config.device))), # base_comps\n",
    "          (slice(nbasecomps+ncauses,nevecs+ncauses),td.Normal(torch.zeros(nevecs-nbasecomps).to(config.device), torch.ones(nevecs-nbasecomps).to(config.device))), # new_comps\n",
    "         ]"
   ]
  },
  {
   "cell_type": "code",
   "execution_count": 13,
   "id": "f1a67af5",
   "metadata": {},
   "outputs": [],
   "source": [
    "# causal Graph\n",
    "sex_to_latents = [(0,i) for i in range(ncauses,nevecs+ncauses)]\n",
    "age_to_latents = [(1,i) for i in range(ncauses,nevecs+ncauses)]\n",
    "autoregressive_latents = [(i,j) for i in range(ncauses,nevecs+ncauses-1) for j in range(i+1,nevecs+ncauses)]\n",
    "edges = sex_to_latents + age_to_latents + autoregressive_latents"
   ]
  },
  {
   "cell_type": "code",
   "execution_count": 14,
   "id": "69994b62",
   "metadata": {},
   "outputs": [],
   "source": [
    "n_channels = encoded_data_val_all.shape[1]"
   ]
  },
  {
   "cell_type": "code",
   "execution_count": 15,
   "id": "1d773dc6",
   "metadata": {},
   "outputs": [],
   "source": [
    "macaw = MACAW.MACAW(config)\n",
    "datashape1 = ncauses + (nevecs * n_channels)\n",
    "macaw.load_model(model_path + f'/macaw_ukbb_PCA3D_0.pt',\n",
    "                            edges,priors,datashape1)"
   ]
  },
  {
   "cell_type": "code",
   "execution_count": 16,
   "id": "90b2a7f6",
   "metadata": {},
   "outputs": [
    {
     "name": "stdout",
     "output_type": "stream",
     "text": [
      "Age min: 46\n"
     ]
    }
   ],
   "source": [
    "# val data\n",
    "data_path = ukbb_path + '/val.csv'\n",
    "df = pd.read_csv(data_path,low_memory=False)\n",
    "all_eid = df[['eid']].to_numpy()\n",
    "#causes = df[['Age','Sex']].to_numpy()\n",
    "min_age = df['Age'].min()\n",
    "print(f\"Age min: {min_age}\")\n",
    "sex = df['Sex'] \n",
    "age = df['Age'] - min_age"
   ]
  },
  {
   "cell_type": "code",
   "execution_count": 17,
   "id": "e8e8f08f",
   "metadata": {},
   "outputs": [],
   "source": [
    "encoded_obs = encoded_data_val_all[:,:,0:0+nevecs].reshape(encoded_data_val_all.shape[0],-1)\n",
    "X_obs = np.hstack([np.array(sex)[:,np.newaxis], np.array(age)[:,np.newaxis], encoded_obs])"
   ]
  },
  {
   "cell_type": "code",
   "execution_count": 18,
   "id": "cbef77e8",
   "metadata": {},
   "outputs": [],
   "source": [
    "macaw.model.eval()\n",
    "with torch.no_grad():\n",
    "    z_obs = macaw._forward_flow(X_obs) \n",
    "    cc = macaw._backward_flow(z_obs)"
   ]
  },
  {
   "cell_type": "code",
   "execution_count": 19,
   "id": "e5004ad6",
   "metadata": {},
   "outputs": [],
   "source": [
    "diff = z_obs - X_obs"
   ]
  },
  {
   "cell_type": "code",
   "execution_count": 24,
   "id": "17220eb5",
   "metadata": {},
   "outputs": [
    {
     "name": "stdout",
     "output_type": "stream",
     "text": [
      "35.0\n",
      "-0.0013158321380615234\n"
     ]
    }
   ],
   "source": [
    "print(X_obs.max())\n",
    "print(X_obs.min())"
   ]
  },
  {
   "cell_type": "code",
   "execution_count": 25,
   "id": "dd18fe8e",
   "metadata": {},
   "outputs": [
    {
     "name": "stdout",
     "output_type": "stream",
     "text": [
      "35.0\n",
      "-6.807508\n"
     ]
    }
   ],
   "source": [
    "print(z_obs.max())\n",
    "print(z_obs.min())"
   ]
  },
  {
   "cell_type": "code",
   "execution_count": 22,
   "id": "a539084c",
   "metadata": {},
   "outputs": [
    {
     "data": {
      "text/plain": [
       "array([[0.09293685, 0.06166101, 0.05740533, ..., 0.0643393 , 0.06910811,\n",
       "        0.0701291 ],\n",
       "       [0.09292493, 0.06158376, 0.05752921, ..., 0.0643706 , 0.06907666,\n",
       "        0.07014233],\n",
       "       [0.09292539, 0.06164406, 0.05758187, ..., 0.0643594 , 0.06910204,\n",
       "        0.07012931],\n",
       "       ...,\n",
       "       [0.08874224, 0.06118666, 0.05661191, ..., 0.0638795 , 0.06943066,\n",
       "        0.07002006],\n",
       "       [0.0887429 , 0.06111928, 0.05617022, ..., 0.06386361, 0.06943824,\n",
       "        0.07001473],\n",
       "       [0.12739179, 0.06210498, 0.06219234, ..., 0.068652  , 0.07362227,\n",
       "        0.07592334]])"
      ]
     },
     "execution_count": 22,
     "metadata": {},
     "output_type": "execute_result"
    }
   ],
   "source": [
    "X_obs[:,2:52]"
   ]
  },
  {
   "cell_type": "code",
   "execution_count": 23,
   "id": "0c9a0a87",
   "metadata": {},
   "outputs": [
    {
     "data": {
      "text/plain": [
       "array([[ 0.8624756 ,  0.03508633, -0.13468707, ..., -0.04518509,\n",
       "        -0.16890526, -0.3085804 ],\n",
       "       [ 0.8587063 , -0.03079271, -0.06704944, ...,  0.22314453,\n",
       "        -0.6955471 , -0.45117378],\n",
       "       [ 0.85885304,  0.0206278 , -0.0382989 , ...,  0.4459133 ,\n",
       "        -0.01369095, -0.13887024],\n",
       "       ...,\n",
       "       [-0.46371177, -0.3694709 , -0.5678869 , ...,  0.01689339,\n",
       "         0.09090042,  0.03864288],\n",
       "       [-0.46350464, -0.42694134, -0.809049  , ...,  0.6482372 ,\n",
       "         0.68356514,  0.9192133 ],\n",
       "       [11.755917  ,  0.41372424,  2.4789772 , ..., -2.8025513 ,\n",
       "        10.994232  , 10.672541  ]], dtype=float32)"
      ]
     },
     "execution_count": 23,
     "metadata": {},
     "output_type": "execute_result"
    }
   ],
   "source": [
    "z_obs[:,2:52]"
   ]
  },
  {
   "cell_type": "code",
   "execution_count": null,
   "id": "45c9a8bc",
   "metadata": {},
   "outputs": [],
   "source": []
  },
  {
   "cell_type": "code",
   "execution_count": 20,
   "id": "280c6dcc",
   "metadata": {},
   "outputs": [
    {
     "name": "stdout",
     "output_type": "stream",
     "text": [
      "2\n",
      "3\n",
      "4\n",
      "5\n",
      "6\n",
      "7\n",
      "8\n",
      "9\n",
      "10\n",
      "11\n",
      "12\n",
      "13\n",
      "14\n",
      "15\n",
      "16\n",
      "17\n",
      "18\n",
      "19\n",
      "20\n",
      "21\n",
      "22\n",
      "23\n",
      "24\n",
      "25\n",
      "26\n",
      "27\n",
      "28\n",
      "29\n",
      "30\n",
      "31\n",
      "32\n",
      "33\n",
      "34\n",
      "35\n",
      "36\n",
      "37\n",
      "38\n",
      "39\n",
      "40\n",
      "41\n",
      "42\n",
      "43\n",
      "44\n",
      "45\n",
      "46\n",
      "47\n",
      "48\n",
      "49\n",
      "50\n",
      "51\n"
     ]
    }
   ],
   "source": [
    "for ev in range(diff.shape[1]):\n",
    "    if diff_0[:,ev].sum() != 0:\n",
    "        print(ev)"
   ]
  },
  {
   "cell_type": "code",
   "execution_count": null,
   "id": "bb5dfbc5",
   "metadata": {},
   "outputs": [],
   "source": []
  },
  {
   "cell_type": "code",
   "execution_count": null,
   "id": "7549ebde",
   "metadata": {},
   "outputs": [],
   "source": []
  }
 ],
 "metadata": {
  "kernelspec": {
   "display_name": "Python 3 (ipykernel)",
   "language": "python",
   "name": "python3"
  },
  "language_info": {
   "codemirror_mode": {
    "name": "ipython",
    "version": 3
   },
   "file_extension": ".py",
   "mimetype": "text/x-python",
   "name": "python",
   "nbconvert_exporter": "python",
   "pygments_lexer": "ipython3",
   "version": "3.10.11"
  }
 },
 "nbformat": 4,
 "nbformat_minor": 5
}
