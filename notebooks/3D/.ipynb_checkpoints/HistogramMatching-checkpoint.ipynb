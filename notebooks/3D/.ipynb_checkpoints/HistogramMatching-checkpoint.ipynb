{
 "cells": [
  {
   "cell_type": "code",
   "execution_count": 1,
   "id": "aca1e992",
   "metadata": {},
   "outputs": [],
   "source": [
    "import os\n",
    "import sys\n",
    "from pathlib import Path\n",
    "sys.path.append(str(Path(os.getcwd()).parent.parent) +'/')\n",
    "from utils.visualize import img_grid\n",
    "\n",
    "from torchvision import transforms \n",
    "\n",
    "import numpy as np\n",
    "import pandas as pd\n",
    "import torchio as tio\n",
    "import nibabel as nib\n",
    "\n",
    "import ipywidgets as ipyw\n",
    "import matplotlib.pyplot as plt\n",
    "import SimpleITK as sitk\n",
    "import torch\n",
    "from torch import nn\n",
    "from  torch.utils.data import Dataset, DataLoader\n",
    "from tqdm.notebook import tqdm\n",
    "from torchmetrics.image.fid import FrechetInceptionDistance\n",
    "import scipy\n",
    "from sklearn import metrics\n",
    "import json "
   ]
  },
  {
   "cell_type": "code",
   "execution_count": 2,
   "id": "d1155e4d",
   "metadata": {},
   "outputs": [],
   "source": [
    "macaw_path = str(Path(os.getcwd()).parent.parent)\n",
    "ukbb_path = '/home/erik.ohara/UKBB'\n",
    "generated_path = '/work/forkert_lab/erik/MACAW/cf_images/PCA_five_diff_res_denormalized'\n",
    "crop_path = '/work/forkert_lab/erik/T1_cropped'\n",
    "output_path = '/work/forkert_lab/erik/MACAW/cf_images/PCA_five_diff_res_hm'\n",
    "z_initial = 41\n",
    "z_fim = 140\n",
    "nsamples = 5\n",
    "# histogram matching parameters\n",
    "m_number_histogram_levels = 500\n",
    "m_number_match_points = 50\n",
    "m_threshold_mean_intensity = False"
   ]
  },
  {
   "cell_type": "code",
   "execution_count": 3,
   "id": "fd9abae6",
   "metadata": {},
   "outputs": [],
   "source": [
    "data_path = ukbb_path + '/ukbb_img.csv'\n",
    "df = pd.read_csv(data_path,low_memory=False)"
   ]
  },
  {
   "cell_type": "code",
   "execution_count": 4,
   "id": "11b7fba8",
   "metadata": {},
   "outputs": [
    {
     "data": {
      "application/vnd.jupyter.widget-view+json": {
       "model_id": "fba184cea8a249978b5ec60d1024e07e",
       "version_major": 2,
       "version_minor": 0
      },
      "text/plain": [
       "  0%|          | 0/2370 [00:00<?, ?it/s]"
      ]
     },
     "metadata": {},
     "output_type": "display_data"
    },
    {
     "ename": "KeyboardInterrupt",
     "evalue": "",
     "output_type": "error",
     "traceback": [
      "\u001b[0;31m---------------------------------------------------------------------------\u001b[0m",
      "\u001b[0;31mKeyboardInterrupt\u001b[0m                         Traceback (most recent call last)",
      "Cell \u001b[0;32mIn[4], line 17\u001b[0m\n\u001b[1;32m     15\u001b[0m cf_age \u001b[38;5;241m=\u001b[39m np\u001b[38;5;241m.\u001b[39mappend(cf_age, age)\n\u001b[1;32m     16\u001b[0m cf_sex \u001b[38;5;241m=\u001b[39m np\u001b[38;5;241m.\u001b[39mappend(cf_sex, sex)\n\u001b[0;32m---> 17\u001b[0m image_load \u001b[38;5;241m=\u001b[39m \u001b[43msitk\u001b[49m\u001b[38;5;241;43m.\u001b[39;49m\u001b[43mReadImage\u001b[49m\u001b[43m(\u001b[49m\u001b[43mos\u001b[49m\u001b[38;5;241;43m.\u001b[39;49m\u001b[43mpath\u001b[49m\u001b[38;5;241;43m.\u001b[39;49m\u001b[43mjoin\u001b[49m\u001b[43m(\u001b[49m\u001b[43mgenerated_path\u001b[49m\u001b[43m,\u001b[49m\u001b[43m \u001b[49m\u001b[43mfile\u001b[49m\u001b[43m)\u001b[49m\u001b[43m)\u001b[49m\n\u001b[1;32m     18\u001b[0m \u001b[38;5;66;03m#image_load = nib.load(os.path.join(generated_path, file)).get_fdata()\u001b[39;00m\n\u001b[1;32m     19\u001b[0m images_generated\u001b[38;5;241m.\u001b[39mappend(image_load)\n",
      "File \u001b[0;32m~/software/miniconda3/envs/macaw/lib/python3.10/site-packages/SimpleITK/extra.py:355\u001b[0m, in \u001b[0;36mReadImage\u001b[0;34m(fileName, outputPixelType, imageIO)\u001b[0m\n\u001b[1;32m    353\u001b[0m reader\u001b[38;5;241m.\u001b[39mSetImageIO(imageIO)\n\u001b[1;32m    354\u001b[0m reader\u001b[38;5;241m.\u001b[39mSetOutputPixelType(outputPixelType)\n\u001b[0;32m--> 355\u001b[0m \u001b[38;5;28;01mreturn\u001b[39;00m \u001b[43mreader\u001b[49m\u001b[38;5;241;43m.\u001b[39;49m\u001b[43mExecute\u001b[49m\u001b[43m(\u001b[49m\u001b[43m)\u001b[49m\n",
      "File \u001b[0;32m~/software/miniconda3/envs/macaw/lib/python3.10/site-packages/SimpleITK/SimpleITK.py:8438\u001b[0m, in \u001b[0;36mImageFileReader.Execute\u001b[0;34m(self)\u001b[0m\n\u001b[1;32m   8425\u001b[0m \u001b[38;5;28;01mdef\u001b[39;00m \u001b[38;5;21mExecute\u001b[39m(\u001b[38;5;28mself\u001b[39m):\n\u001b[1;32m   8426\u001b[0m \u001b[38;5;250m    \u001b[39m\u001b[38;5;124mr\u001b[39m\u001b[38;5;124;03m\"\"\"\u001b[39;00m\n\u001b[1;32m   8427\u001b[0m \u001b[38;5;124;03m    Execute(ImageFileReader self) -> Image\u001b[39;00m\n\u001b[1;32m   8428\u001b[0m \n\u001b[0;32m   (...)\u001b[0m\n\u001b[1;32m   8436\u001b[0m \n\u001b[1;32m   8437\u001b[0m \u001b[38;5;124;03m    \"\"\"\u001b[39;00m\n\u001b[0;32m-> 8438\u001b[0m     \u001b[38;5;28;01mreturn\u001b[39;00m \u001b[43m_SimpleITK\u001b[49m\u001b[38;5;241;43m.\u001b[39;49m\u001b[43mImageFileReader_Execute\u001b[49m\u001b[43m(\u001b[49m\u001b[38;5;28;43mself\u001b[39;49m\u001b[43m)\u001b[49m\n",
      "\u001b[0;31mKeyboardInterrupt\u001b[0m: "
     ]
    }
   ],
   "source": [
    "# Getting the generated images\n",
    "subjects_eid = np.array([])\n",
    "cf_age = np.array([])\n",
    "cf_sex = np.array([])\n",
    "images_generated = []\n",
    "files_generated = []\n",
    "for file in tqdm(os.listdir(generated_path)):\n",
    "    if '.nii' in file:\n",
    "        files_generated.append(file)\n",
    "        splits = file.split(\"_\")\n",
    "        subject_eid = int(splits[0])\n",
    "        age = splits[1]\n",
    "        sex = splits[2].split(\".\")[0]\n",
    "        subjects_eid = np.append(subjects_eid,subject_eid)\n",
    "        cf_age = np.append(cf_age, age)\n",
    "        cf_sex = np.append(cf_sex, sex)\n",
    "        image_load = sitk.ReadImage(os.path.join(generated_path, file))\n",
    "        #image_load = nib.load(os.path.join(generated_path, file)).get_fdata()\n",
    "        images_generated.append(image_load)\n",
    "print(len(images_generated))"
   ]
  },
  {
   "cell_type": "code",
   "execution_count": null,
   "id": "e2790db6",
   "metadata": {},
   "outputs": [],
   "source": [
    "# Getting the cropped original images\n",
    "images_original = []\n",
    "real_age = []\n",
    "real_sex = []\n",
    "for individual in tqdm(subjects_eid):\n",
    "    individual = int(individual)\n",
    "    real_age.append(df[df[\"eid\"] == individual][\"Age\"].item())\n",
    "    real_sex.append(df[df[\"eid\"] == individual][\"Sex\"].item())\n",
    "    #image_load = nib.load(os.path.join(ukbb_T1_warped, str(individual) + \".nii.gz\")).get_fdata()\n",
    "    image_load = sitk.ReadImage(os.path.join(crop_path, str(individual) + \".nii.gz\"))\n",
    "    images_original.append(image_load)\n",
    "print(len(images_original))"
   ]
  },
  {
   "cell_type": "code",
   "execution_count": null,
   "id": "0c560c26",
   "metadata": {},
   "outputs": [],
   "source": [
    "stats_filter = sitk.StatisticsImageFilter()\n",
    "stats_filter.Execute(images_original[1])\n",
    "print(stats_filter.GetMean())\n",
    "print(stats_filter.GetMaximum())\n",
    "print(stats_filter.GetMinimum())"
   ]
  },
  {
   "cell_type": "code",
   "execution_count": null,
   "id": "ea92d76d",
   "metadata": {},
   "outputs": [],
   "source": [
    "stats_filter = sitk.StatisticsImageFilter()\n",
    "stats_filter.Execute(images_generated[1])\n",
    "print(stats_filter.GetMean())\n",
    "print(stats_filter.GetMaximum())\n",
    "print(stats_filter.GetMinimum())"
   ]
  },
  {
   "cell_type": "code",
   "execution_count": null,
   "id": "664519f5",
   "metadata": {},
   "outputs": [],
   "source": [
    "stats_filter = sitk.StatisticsImageFilter()\n",
    "stats_filter.Execute(images_original[130])\n",
    "print(stats_filter.GetMean())\n",
    "print(stats_filter.GetMaximum())\n",
    "print(stats_filter.GetMinimum())"
   ]
  },
  {
   "cell_type": "code",
   "execution_count": null,
   "id": "8a1d3ff0",
   "metadata": {},
   "outputs": [],
   "source": [
    "stats_filter = sitk.StatisticsImageFilter()\n",
    "stats_filter.Execute(images_generated[130])\n",
    "print(stats_filter.GetMean())\n",
    "print(stats_filter.GetMaximum())\n",
    "print(stats_filter.GetMinimum())"
   ]
  },
  {
   "cell_type": "code",
   "execution_count": null,
   "id": "672d1f3c",
   "metadata": {},
   "outputs": [],
   "source": [
    "images_generated[0].GetSize()[2]"
   ]
  },
  {
   "cell_type": "code",
   "execution_count": null,
   "id": "38751ab8",
   "metadata": {},
   "outputs": [],
   "source": [
    "for idx,each_image in tqdm(enumerate(images_generated)):\n",
    "    for z_slice in range(each_image.GetSize()[2]):\n",
    "        reference_slice = images_original[idx][:,:,z_slice]\n",
    "        hist_filter = sitk.HistogramMatchingImageFilter()\n",
    "        # Set filter parameters\n",
    "        hist_filter.SetNumberOfHistogramLevels(m_number_histogram_levels) # number of bins for the histograms\n",
    "        hist_filter.SetNumberOfMatchPoints(m_number_match_points) # number of quantile values to be matched\n",
    "        hist_filter.SetThresholdAtMeanIntensity(m_threshold_mean_intensity)\n",
    "\n",
    "        each_image[:,:,z_slice] = hist_filter.Execute(each_image[:,:,z_slice], reference_slice)"
   ]
  },
  {
   "cell_type": "code",
   "execution_count": null,
   "id": "0ee39797",
   "metadata": {},
   "outputs": [],
   "source": [
    "stats_filter = sitk.StatisticsImageFilter()\n",
    "stats_filter.Execute(images_generated[1])\n",
    "print(stats_filter.GetMean())\n",
    "print(stats_filter.GetMaximum())\n",
    "print(stats_filter.GetMinimum())"
   ]
  },
  {
   "cell_type": "code",
   "execution_count": null,
   "id": "8912e6b1",
   "metadata": {},
   "outputs": [],
   "source": [
    "stats_filter = sitk.StatisticsImageFilter()\n",
    "stats_filter.Execute(images_generated[130])\n",
    "print(stats_filter.GetMean())\n",
    "print(stats_filter.GetMaximum())\n",
    "print(stats_filter.GetMinimum())"
   ]
  },
  {
   "cell_type": "code",
   "execution_count": null,
   "id": "4d3488b8",
   "metadata": {},
   "outputs": [],
   "source": [
    "for idx,each_image in tqdm(enumerate(images_generated)):\n",
    "    sitk.WriteImage(each_image, os.path.join(output_path, files_generated[idx]))"
   ]
  },
  {
   "cell_type": "code",
   "execution_count": null,
   "id": "e2bb4915",
   "metadata": {},
   "outputs": [],
   "source": []
  }
 ],
 "metadata": {
  "kernelspec": {
   "display_name": "Python 3 (ipykernel)",
   "language": "python",
   "name": "python3"
  },
  "language_info": {
   "codemirror_mode": {
    "name": "ipython",
    "version": 3
   },
   "file_extension": ".py",
   "mimetype": "text/x-python",
   "name": "python",
   "nbconvert_exporter": "python",
   "pygments_lexer": "ipython3",
   "version": "3.10.11"
  }
 },
 "nbformat": 4,
 "nbformat_minor": 5
}
