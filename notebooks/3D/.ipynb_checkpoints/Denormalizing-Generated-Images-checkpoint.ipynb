{
 "cells": [
  {
   "cell_type": "code",
   "execution_count": 1,
   "id": "16da314c",
   "metadata": {},
   "outputs": [],
   "source": [
    "import os\n",
    "import sys\n",
    "from pathlib import Path\n",
    "sys.path.append(str(Path(os.getcwd()).parent.parent) +'/')\n",
    "from utils.visualize import img_grid\n",
    "\n",
    "from torchvision import transforms \n",
    "\n",
    "import numpy as np\n",
    "import pandas as pd\n",
    "import torchio as tio\n",
    "import nibabel as nib\n",
    "\n",
    "import ipywidgets as ipyw\n",
    "\n",
    "import matplotlib.pyplot as plt\n",
    "import SimpleITK as sitk\n",
    "import torch\n",
    "from torch import nn\n",
    "from  torch.utils.data import Dataset, DataLoader\n",
    "from tqdm.notebook import tqdm\n",
    "from torchmetrics.image.fid import FrechetInceptionDistance\n",
    "import scipy\n",
    "from sklearn import metrics\n",
    "import json "
   ]
  },
  {
   "cell_type": "code",
   "execution_count": 2,
   "id": "ea360706",
   "metadata": {},
   "outputs": [],
   "source": [
    "macaw_path = str(Path(os.getcwd()).parent.parent)\n",
    "ukbb_path = '/home/erik.ohara/UKBB'\n",
    "ukbb_T1_warped = '/work/forkert_lab/erik/T1_cropped'\n",
    "generated_path = '/work/forkert_lab/erik/MACAW/cf_images/2_5Y'\n",
    "output_image = '/work/forkert_lab/erik/MACAW/cf_images/2_5Y_denormalized'\n",
    "z_initial = 41\n",
    "z_fim = 140\n",
    "nsamples = 5"
   ]
  },
  {
   "cell_type": "code",
   "execution_count": 3,
   "id": "9a73658e",
   "metadata": {},
   "outputs": [],
   "source": [
    "data_path = ukbb_path + '/ukbb_img.csv'\n",
    "df = pd.read_csv(data_path,low_memory=False)"
   ]
  },
  {
   "cell_type": "code",
   "execution_count": 4,
   "id": "d8dba014",
   "metadata": {},
   "outputs": [
    {
     "data": {
      "application/vnd.jupyter.widget-view+json": {
       "model_id": "c2568da8e733447db1580102357ac95d",
       "version_major": 2,
       "version_minor": 0
      },
      "text/plain": [
       "  0%|          | 0/2370 [00:00<?, ?it/s]"
      ]
     },
     "metadata": {},
     "output_type": "display_data"
    },
    {
     "name": "stdout",
     "output_type": "stream",
     "text": [
      "2370\n"
     ]
    }
   ],
   "source": [
    "# Getting the generated images\n",
    "subjects_eid = np.array([])\n",
    "cf_age = np.array([])\n",
    "cf_sex = np.array([])\n",
    "images_generated = []\n",
    "files_generated = []\n",
    "for file in tqdm(os.listdir(generated_path)):\n",
    "    if '.nii' in file:\n",
    "        files_generated.append(file)\n",
    "        splits = file.split(\"_\")\n",
    "        subject_eid = int(splits[0])\n",
    "        age = splits[1]\n",
    "        sex = splits[2].split(\".\")[0]\n",
    "        subjects_eid = np.append(subjects_eid,subject_eid)\n",
    "        cf_age = np.append(cf_age, age)\n",
    "        cf_sex = np.append(cf_sex, sex)\n",
    "        image_load = nib.load(os.path.join(generated_path, file)).get_fdata()\n",
    "        images_generated.append(image_load)\n",
    "print(len(images_generated))\n",
    "images_generated = np.array(images_generated)"
   ]
  },
  {
   "cell_type": "code",
   "execution_count": 5,
   "id": "f5a3d268",
   "metadata": {},
   "outputs": [
    {
     "data": {
      "text/plain": [
       "-0.01760438270866871"
      ]
     },
     "execution_count": 5,
     "metadata": {},
     "output_type": "execute_result"
    }
   ],
   "source": [
    "images_generated[0].min()"
   ]
  },
  {
   "cell_type": "code",
   "execution_count": 6,
   "id": "b6bfcf51",
   "metadata": {},
   "outputs": [
    {
     "data": {
      "text/plain": [
       "0.9957194924354553"
      ]
     },
     "execution_count": 6,
     "metadata": {},
     "output_type": "execute_result"
    }
   ],
   "source": [
    "images_generated[0].max()"
   ]
  },
  {
   "cell_type": "code",
   "execution_count": 7,
   "id": "1008515c",
   "metadata": {},
   "outputs": [
    {
     "data": {
      "text/plain": [
       "(2370, 150, 150, 100)"
      ]
     },
     "execution_count": 7,
     "metadata": {},
     "output_type": "execute_result"
    }
   ],
   "source": [
    "images_generated.shape"
   ]
  },
  {
   "cell_type": "code",
   "execution_count": 8,
   "id": "92f7cc4f",
   "metadata": {},
   "outputs": [],
   "source": [
    "for idx, slice_y in enumerate(images_generated[0]):\n",
    "    min_value = slice_y.min()\n",
    "    max_value = slice_y.max()\n",
    "    if min_value < -2:\n",
    "        print(f\"Slice {z_initial+34} is strange with maxvalue of {min_value}\")"
   ]
  },
  {
   "cell_type": "code",
   "execution_count": 9,
   "id": "6b8c31ef",
   "metadata": {},
   "outputs": [
    {
     "data": {
      "application/vnd.jupyter.widget-view+json": {
       "model_id": "1729e5bf7f93430a8f14aa67d17d2fc9",
       "version_major": 2,
       "version_minor": 0
      },
      "text/plain": [
       "  0%|          | 0/2370 [00:00<?, ?it/s]"
      ]
     },
     "metadata": {},
     "output_type": "display_data"
    }
   ],
   "source": [
    "# Getting the original images\n",
    "images_original = []\n",
    "real_age = []\n",
    "real_sex = []\n",
    "for individual in tqdm(subjects_eid):\n",
    "    individual = int(individual)\n",
    "    real_age.append(df[df[\"eid\"] == individual][\"Age\"].item())\n",
    "    real_sex.append(df[df[\"eid\"] == individual][\"Sex\"].item())\n",
    "    image_load = nib.load(os.path.join(ukbb_T1_warped, str(individual) + \".nii.gz\")).get_fdata()\n",
    "    images_original.append(image_load)"
   ]
  },
  {
   "cell_type": "code",
   "execution_count": 10,
   "id": "a83bdb0e",
   "metadata": {},
   "outputs": [],
   "source": [
    "real_age = np.array(real_age)"
   ]
  },
  {
   "cell_type": "code",
   "execution_count": 11,
   "id": "1f4d12e2",
   "metadata": {},
   "outputs": [],
   "source": [
    "real_sex = np.array(real_sex)"
   ]
  },
  {
   "cell_type": "code",
   "execution_count": 12,
   "id": "827f3690",
   "metadata": {},
   "outputs": [],
   "source": [
    "images_original = np.array(images_original)"
   ]
  },
  {
   "cell_type": "code",
   "execution_count": 13,
   "id": "21deed78",
   "metadata": {},
   "outputs": [
    {
     "data": {
      "text/plain": [
       "(2370, 150, 150, 100)"
      ]
     },
     "execution_count": 13,
     "metadata": {},
     "output_type": "execute_result"
    }
   ],
   "source": [
    "images_original.shape"
   ]
  },
  {
   "cell_type": "markdown",
   "id": "1a275467",
   "metadata": {},
   "source": [
    "## Denormalizing"
   ]
  },
  {
   "cell_type": "code",
   "execution_count": 14,
   "id": "3234e3f1",
   "metadata": {},
   "outputs": [],
   "source": [
    "# Getting max and min per image per slice\n",
    "max_original = []\n",
    "for one_image in images_original:\n",
    "    #slices = one_image.shape[2]\n",
    "    maxv = np.max(one_image)\n",
    "    max_original.append(maxv)"
   ]
  },
  {
   "cell_type": "code",
   "execution_count": 15,
   "id": "7a486c94",
   "metadata": {},
   "outputs": [
    {
     "name": "stdout",
     "output_type": "stream",
     "text": [
      "2370\n"
     ]
    }
   ],
   "source": [
    "print(len(max_original))"
   ]
  },
  {
   "cell_type": "code",
   "execution_count": 16,
   "id": "3ae22d56",
   "metadata": {},
   "outputs": [
    {
     "name": "stdout",
     "output_type": "stream",
     "text": [
      "1033.198486328125\n",
      "0.5110400915145874\n"
     ]
    }
   ],
   "source": [
    "print(images_original[0,50,50,90])\n",
    "print(images_generated[0,50,50,90])"
   ]
  },
  {
   "cell_type": "code",
   "execution_count": 17,
   "id": "31220ed6",
   "metadata": {},
   "outputs": [],
   "source": [
    "for idx, one_image in enumerate(images_generated):\n",
    "    maxv = max_original[idx]\n",
    "    #minv = max_min_original[idx][z]['min']\n",
    "    one_image[:,:,:]= one_image[:,:,:] * maxv"
   ]
  },
  {
   "cell_type": "code",
   "execution_count": 18,
   "id": "7f6a6f08",
   "metadata": {},
   "outputs": [
    {
     "name": "stdout",
     "output_type": "stream",
     "text": [
      "1033.198486328125\n",
      "1043.8781764248415\n"
     ]
    }
   ],
   "source": [
    "print(images_original[0,50,50,90])\n",
    "print(images_generated[0,50,50,90])"
   ]
  },
  {
   "cell_type": "code",
   "execution_count": 19,
   "id": "74c33a79",
   "metadata": {},
   "outputs": [
    {
     "data": {
      "application/vnd.jupyter.widget-view+json": {
       "model_id": "fe52fe0a557346f292cdf9e64af8a9bf",
       "version_major": 2,
       "version_minor": 0
      },
      "text/plain": [
       "0it [00:00, ?it/s]"
      ]
     },
     "metadata": {},
     "output_type": "display_data"
    }
   ],
   "source": [
    "for idx, individual in tqdm(enumerate(subjects_eid)):\n",
    "    image_load = nib.load(os.path.join(ukbb_T1_warped, str(int(individual)) + \".nii.gz\"))\n",
    "    ni_img = nib.Nifti1Image(images_generated[idx], image_load.affine, image_load.header)\n",
    "    nib.save(ni_img, output_image + \"/\" + files_generated[idx])"
   ]
  },
  {
   "cell_type": "code",
   "execution_count": null,
   "id": "f0322e58",
   "metadata": {},
   "outputs": [],
   "source": []
  }
 ],
 "metadata": {
  "kernelspec": {
   "display_name": "Python 3 (ipykernel)",
   "language": "python",
   "name": "python3"
  },
  "language_info": {
   "codemirror_mode": {
    "name": "ipython",
    "version": 3
   },
   "file_extension": ".py",
   "mimetype": "text/x-python",
   "name": "python",
   "nbconvert_exporter": "python",
   "pygments_lexer": "ipython3",
   "version": "3.10.11"
  }
 },
 "nbformat": 4,
 "nbformat_minor": 5
}
