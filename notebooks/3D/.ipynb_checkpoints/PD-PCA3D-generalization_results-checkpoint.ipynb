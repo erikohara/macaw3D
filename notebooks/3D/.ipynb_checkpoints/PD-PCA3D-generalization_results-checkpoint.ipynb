{
 "cells": [
  {
   "cell_type": "code",
   "execution_count": 1,
   "id": "2acd4aa0",
   "metadata": {},
   "outputs": [],
   "source": [
    "import pickle\n",
    "import pprint\n",
    "import pandas as pd\n",
    "import numpy as np"
   ]
  },
  {
   "cell_type": "code",
   "execution_count": 2,
   "id": "92396fd7",
   "metadata": {},
   "outputs": [],
   "source": [
    "output_path = '/work/forkert_lab/erik/MACAW/predictions'\n",
    "data_path = '/home/erik.ohara/SFCN_PD_scanner'"
   ]
  },
  {
   "cell_type": "code",
   "execution_count": 3,
   "id": "5b516eda",
   "metadata": {},
   "outputs": [],
   "source": [
    "likelihood = []\n",
    "for site in range(10):\n",
    "    with open(output_path + f'/PD_PCA3D_site_aside_{site}/likehood_for_each_site.pkl','rb') as f2:  \n",
    "        likelihood.append(pickle.load(f2))"
   ]
  },
  {
   "cell_type": "code",
   "execution_count": 4,
   "id": "16bf170a",
   "metadata": {},
   "outputs": [],
   "source": [
    "likelihood_without_site = []\n",
    "for site in range(10):\n",
    "    with open(output_path + f'/PD_PCA3D_site_aside_{site}_without/likehood_for_each_site.pkl','rb') as f2:  \n",
    "        likelihood_without_site.append(pickle.load(f2))"
   ]
  },
  {
   "cell_type": "code",
   "execution_count": 5,
   "id": "15fd5b6c",
   "metadata": {},
   "outputs": [],
   "source": [
    "likelihood_no_scalers = []\n",
    "for site in range(10):\n",
    "    with open(output_path + f'/PD_PCA3D_site_aside_{site}_no_scalers/likehood_for_each_site.pkl','rb') as f2:  \n",
    "        likelihood_no_scalers.append(pickle.load(f2))"
   ]
  },
  {
   "cell_type": "code",
   "execution_count": 6,
   "id": "f501b852",
   "metadata": {},
   "outputs": [],
   "source": [
    "likelihood_all = []\n",
    "for site in range(10):\n",
    "    with open(output_path + f'/PD_PCA3D_site_aside_{site}_all/likehood_for_each_site.pkl','rb') as f2:  \n",
    "        likelihood_all.append(pickle.load(f2))"
   ]
  },
  {
   "cell_type": "code",
   "execution_count": 7,
   "id": "91232709",
   "metadata": {},
   "outputs": [],
   "source": [
    "likelihood_ind = []\n",
    "for site in range(10):\n",
    "    with open(output_path + f'/PD_PCA3D_site_aside_{site}_ind/likehood_for_each_site.pkl','rb') as f2:  \n",
    "        likelihood_ind.append(pickle.load(f2))"
   ]
  },
  {
   "cell_type": "code",
   "execution_count": 8,
   "id": "554e0f2d",
   "metadata": {},
   "outputs": [],
   "source": [
    "likelihood_imagelike = []\n",
    "for site in range(10):\n",
    "    with open(output_path + f'/PD_PCA3D_site_aside_{site}_imagelike/likehood_for_each_site.pkl','rb') as f2:  \n",
    "        likelihood_imagelike.append(pickle.load(f2))"
   ]
  },
  {
   "cell_type": "code",
   "execution_count": 9,
   "id": "f77c74e8",
   "metadata": {},
   "outputs": [],
   "source": [
    "likelihood_rever = []\n",
    "for site in range(10):\n",
    "    with open(output_path + f'/PD_PCA3D_site_aside_{site}_ind_obj_rever/likehood_for_each_site.pkl','rb') as f2:  \n",
    "        likelihood_rever.append(pickle.load(f2))"
   ]
  },
  {
   "cell_type": "code",
   "execution_count": 10,
   "id": "3a217723",
   "metadata": {},
   "outputs": [],
   "source": [
    "df_site_aside = {}\n",
    "for site_aside in range(10):\n",
    "    df = pd.read_csv(data_path + '/all_df_2.csv',low_memory=False)\n",
    "    df = df[df['Site_3'] == site_aside].reset_index()\n",
    "    df_site_aside[site_aside] = df"
   ]
  },
  {
   "cell_type": "code",
   "execution_count": 11,
   "id": "340cfbef",
   "metadata": {},
   "outputs": [],
   "source": [
    "def predictions_with_closest_site2(likelihood_var, df_site_aside, with_site='with_site'):\n",
    "    # Finding the closest site\n",
    "    closest_site = {}\n",
    "    for site in range(10):\n",
    "        likelihood_max = float('-inf')  # Better than arbitrary large negative number\n",
    "        current_closest = None\n",
    "        \n",
    "        # First pass to find maximum\n",
    "        for possible_closest in likelihood_var[site].keys():\n",
    "            likehood_sum = 0.0  # Explicit float\n",
    "            for diag in likelihood_var[site][possible_closest].keys():\n",
    "                for ecomp in likelihood_var[site][possible_closest][diag][with_site].keys():\n",
    "                    # Use float64 for better precision\n",
    "                    likehood_sum += np.sum(likelihood_var[site][possible_closest][diag][with_site][ecomp], dtype=np.float64)\n",
    "            \n",
    "            if likehood_sum > likelihood_max:  # Strictly greater than\n",
    "                likelihood_max = likehood_sum\n",
    "                current_closest = possible_closest\n",
    "        \n",
    "        closest_site[site] = current_closest\n",
    "    \n",
    "    print(\"Closest sites found:\", closest_site)\n",
    "    \n",
    "    # Calculating the predictions\n",
    "    likelihood_PD = {}\n",
    "    for site in range(10):\n",
    "        likelihood_PD[site] = {}\n",
    "        \n",
    "        # Initialize arrays for both diagnoses\n",
    "        for diag in likelihood_var[site][closest_site[site]].keys():\n",
    "            likelihood_PD[site][diag] = None\n",
    "            \n",
    "            for ecomp in likelihood_var[site][closest_site[site]][diag][with_site].keys():\n",
    "                current_likelihood = likelihood_var[site][closest_site[site]][diag][with_site][ecomp]\n",
    "                \n",
    "                if likelihood_PD[site][diag] is None:\n",
    "                    likelihood_PD[site][diag] = current_likelihood.copy()\n",
    "                else:\n",
    "                    likelihood_PD[site][diag] += current_likelihood\n",
    "\n",
    "    # Make predictions\n",
    "    predictions_MACAW = {}\n",
    "    acc_per_site = {}\n",
    "    overall_pred = None\n",
    "    total_samples = 0\n",
    "    \n",
    "    for site in range(10):\n",
    "        # Convert to numpy arrays for faster comparison\n",
    "        pred_0 = likelihood_PD[site]['0']\n",
    "        pred_1 = likelihood_PD[site]['1']\n",
    "        \n",
    "        # Make predictions using numpy comparison\n",
    "        predictions_MACAW[site] = (pred_0 < pred_1).astype(int)\n",
    "        \n",
    "        # Calculate accuracy\n",
    "        true_labels = df_site_aside[site]['Group_bin'].to_numpy()\n",
    "        site_pred = (predictions_MACAW[site] == true_labels)\n",
    "        \n",
    "        # Update overall predictions\n",
    "        if overall_pred is None:\n",
    "            overall_pred = site_pred\n",
    "        else:\n",
    "            overall_pred = np.concatenate((overall_pred, site_pred))\n",
    "        \n",
    "        # Calculate and store site accuracy\n",
    "        site_acc = np.mean(site_pred)\n",
    "        acc_per_site[site] = site_acc\n",
    "        total_samples += len(site_pred)\n",
    "        \n",
    "        print(f\"Accuracy on site {site} is {site_acc * 100:.2f}%\")\n",
    "    \n",
    "    print(f\"Total size is {total_samples}\")\n",
    "    overall_acc = np.mean(overall_pred)\n",
    "    print(f\"Overall accuracy is {overall_acc * 100:.2f}%\")\n",
    "    \n",
    "    return acc_per_site, overall_acc"
   ]
  },
  {
   "cell_type": "code",
   "execution_count": 12,
   "id": "b91c987a",
   "metadata": {},
   "outputs": [],
   "source": [
    "def predictions_for_all_sites2(likelihood_var, df_site_aside, with_site='with_site'):\n",
    "    \"\"\"\n",
    "    Calculate predictions for all sites by combining likelihoods across all possible closest sites.\n",
    "    \n",
    "    Args:\n",
    "        likelihood_var: Dictionary containing likelihood values\n",
    "        df_site_aside: DataFrame containing true labels\n",
    "        with_site: Key for accessing site-specific data (default='with_site')\n",
    "    \n",
    "    Returns:\n",
    "        tuple: (accuracy per site dictionary, overall accuracy)\n",
    "    \"\"\"\n",
    "    # Calculate the predictions\n",
    "    likelihood_PD = {}\n",
    "    \n",
    "    for site in range(10):\n",
    "        likelihood_PD[site] = {'0': None, '1': None}  # Initialize both diagnoses\n",
    "        \n",
    "        for possible_closest in likelihood_var[site].keys():\n",
    "            for diag in likelihood_var[site][possible_closest].keys():\n",
    "                temp_likelihood = None\n",
    "                \n",
    "                # Combine likelihoods for all ecomp values\n",
    "                for ecomp in likelihood_var[site][possible_closest][diag][with_site].keys():\n",
    "                    current_likelihood = likelihood_var[site][possible_closest][diag][with_site][ecomp]\n",
    "                    \n",
    "                    if temp_likelihood is None:\n",
    "                        temp_likelihood = current_likelihood.copy()\n",
    "                    else:\n",
    "                        temp_likelihood += current_likelihood\n",
    "                \n",
    "                # Initialize or update the total likelihood for this diagnosis\n",
    "                if likelihood_PD[site][diag] is None:\n",
    "                    likelihood_PD[site][diag] = temp_likelihood.copy()\n",
    "                else:\n",
    "                    likelihood_PD[site][diag] += temp_likelihood\n",
    "\n",
    "    # Calculate predictions using numpy operations\n",
    "    predictions_MACAW = {}\n",
    "    acc_per_site = {}\n",
    "    overall_pred = None\n",
    "    total_samples = 0\n",
    "    \n",
    "    for site in range(10):\n",
    "        # Convert likelihoods to numpy arrays\n",
    "        pred_0 = np.array(likelihood_PD[site]['0'], dtype=np.float64)\n",
    "        pred_1 = np.array(likelihood_PD[site]['1'], dtype=np.float64)\n",
    "        \n",
    "        # Make predictions using numpy comparison\n",
    "        # Note: Using <= instead of >= to match original logic but with better numerical stability\n",
    "        predictions_MACAW[site] = (pred_0 <= pred_1).astype(int)\n",
    "        \n",
    "        # Calculate accuracy\n",
    "        true_labels = df_site_aside[site]['Group_bin'].to_numpy()\n",
    "        site_pred = (predictions_MACAW[site] == true_labels)\n",
    "        \n",
    "        # Update overall predictions\n",
    "        if overall_pred is None:\n",
    "            overall_pred = site_pred\n",
    "        else:\n",
    "            overall_pred = np.concatenate((overall_pred, site_pred))\n",
    "            \n",
    "        # Calculate and store site accuracy\n",
    "        site_acc = np.mean(site_pred)\n",
    "        acc_per_site[site] = site_acc\n",
    "        total_samples += len(site_pred)\n",
    "        \n",
    "        print(f\"Accuracy on site {site} is {site_acc * 100:.2f}%\")\n",
    "        \n",
    "    print(f\"Total size is {total_samples}\")\n",
    "    overall_acc = np.mean(overall_pred)\n",
    "    print(f\"Overall accuracy is {overall_acc * 100:.2f}%\")\n",
    "    \n",
    "    return acc_per_site, overall_acc"
   ]
  },
  {
   "cell_type": "markdown",
   "id": "1bb39fc3",
   "metadata": {},
   "source": [
    "# MACAW with reverse autoregressive"
   ]
  },
  {
   "cell_type": "code",
   "execution_count": 34,
   "id": "4aa63816",
   "metadata": {},
   "outputs": [
    {
     "name": "stdout",
     "output_type": "stream",
     "text": [
      "Closest sites found: {0: '1', 1: '6', 2: '6', 3: '6', 4: '6', 5: '6', 6: '1', 7: '6', 8: '6', 9: '6'}\n",
      "Accuracy on site 0 is 43.62%\n",
      "Accuracy on site 1 is 86.84%\n",
      "Accuracy on site 2 is 64.60%\n",
      "Accuracy on site 3 is 66.67%\n",
      "Accuracy on site 4 is 61.90%\n",
      "Accuracy on site 5 is 65.29%\n",
      "Accuracy on site 6 is 66.13%\n",
      "Accuracy on site 7 is 0.00%\n",
      "Accuracy on site 8 is 45.95%\n",
      "Accuracy on site 9 is 19.59%\n",
      "Total size is 913\n",
      "Overall accuracy is 46.11%\n"
     ]
    }
   ],
   "source": [
    "acc,over = predictions_with_closest_site2(likelihood_rever,df_site_aside,with_site='without_site')"
   ]
  },
  {
   "cell_type": "code",
   "execution_count": 35,
   "id": "786b5926",
   "metadata": {},
   "outputs": [
    {
     "name": "stdout",
     "output_type": "stream",
     "text": [
      "Accuracy on site 0 is 46.81%\n",
      "Accuracy on site 1 is 86.84%\n",
      "Accuracy on site 2 is 65.49%\n",
      "Accuracy on site 3 is 66.67%\n",
      "Accuracy on site 4 is 61.90%\n",
      "Accuracy on site 5 is 65.29%\n",
      "Accuracy on site 6 is 66.13%\n",
      "Accuracy on site 7 is 0.00%\n",
      "Accuracy on site 8 is 45.95%\n",
      "Accuracy on site 9 is 19.59%\n",
      "Total size is 913\n",
      "Overall accuracy is 46.55%\n"
     ]
    }
   ],
   "source": [
    "acc,over = predictions_for_all_sites2(likelihood_rever,df_site_aside,with_site='without_site')"
   ]
  },
  {
   "cell_type": "markdown",
   "id": "5b0fdc75",
   "metadata": {},
   "source": [
    "# Calculating with likelihood only of the images - old causal graph"
   ]
  },
  {
   "cell_type": "code",
   "execution_count": 36,
   "id": "60f456d3",
   "metadata": {},
   "outputs": [
    {
     "name": "stdout",
     "output_type": "stream",
     "text": [
      "Closest sites found: {0: '9', 1: '5', 2: '9', 3: '9', 4: '6', 5: '1', 6: '1', 7: '9', 8: '5', 9: '5'}\n",
      "Accuracy on site 0 is 51.06%\n",
      "Accuracy on site 1 is 75.00%\n",
      "Accuracy on site 2 is 41.59%\n",
      "Accuracy on site 3 is 60.00%\n",
      "Accuracy on site 4 is 30.95%\n",
      "Accuracy on site 5 is 50.41%\n",
      "Accuracy on site 6 is 64.52%\n",
      "Accuracy on site 7 is 73.08%\n",
      "Accuracy on site 8 is 59.46%\n",
      "Accuracy on site 9 is 33.47%\n",
      "Total size is 913\n",
      "Overall accuracy is 49.73%\n"
     ]
    }
   ],
   "source": [
    "acc,over = predictions_with_closest_site2(likelihood_imagelike,df_site_aside,with_site='without_site')"
   ]
  },
  {
   "cell_type": "code",
   "execution_count": 37,
   "id": "e4b09334",
   "metadata": {},
   "outputs": [
    {
     "name": "stdout",
     "output_type": "stream",
     "text": [
      "Accuracy on site 0 is 52.13%\n",
      "Accuracy on site 1 is 13.16%\n",
      "Accuracy on site 2 is 34.51%\n",
      "Accuracy on site 3 is 33.33%\n",
      "Accuracy on site 4 is 38.10%\n",
      "Accuracy on site 5 is 34.71%\n",
      "Accuracy on site 6 is 33.87%\n",
      "Accuracy on site 7 is 34.62%\n",
      "Accuracy on site 8 is 54.05%\n",
      "Accuracy on site 9 is 80.41%\n",
      "Total size is 913\n",
      "Overall accuracy is 47.75%\n"
     ]
    }
   ],
   "source": [
    "acc,over = predictions_for_all_sites2(likelihood_imagelike,df_site_aside,with_site='without_site')"
   ]
  },
  {
   "cell_type": "markdown",
   "id": "4a240fb1",
   "metadata": {},
   "source": [
    "# Calculating the closest site (highest likelihood) with site just affecting the images"
   ]
  },
  {
   "cell_type": "code",
   "execution_count": 38,
   "id": "4643a21b",
   "metadata": {},
   "outputs": [
    {
     "name": "stdout",
     "output_type": "stream",
     "text": [
      "Closest sites found: {0: '9', 1: '6', 2: '9', 3: '5', 4: '6', 5: '7', 6: '1', 7: '9', 8: '5', 9: '5'}\n",
      "Accuracy on site 0 is 47.87%\n",
      "Accuracy on site 1 is 21.05%\n",
      "Accuracy on site 2 is 36.28%\n",
      "Accuracy on site 3 is 42.22%\n",
      "Accuracy on site 4 is 47.62%\n",
      "Accuracy on site 5 is 52.07%\n",
      "Accuracy on site 6 is 38.71%\n",
      "Accuracy on site 7 is 42.31%\n",
      "Accuracy on site 8 is 64.86%\n",
      "Accuracy on site 9 is 66.94%\n",
      "Total size is 913\n",
      "Overall accuracy is 49.18%\n"
     ]
    }
   ],
   "source": [
    "acc,over = predictions_with_closest_site2(likelihood_ind,df_site_aside,with_site='without_site')"
   ]
  },
  {
   "cell_type": "markdown",
   "id": "0e94ebf7",
   "metadata": {},
   "source": [
    "# Calculating for all sites with site just affecting the images"
   ]
  },
  {
   "cell_type": "code",
   "execution_count": 17,
   "id": "d3aac872",
   "metadata": {},
   "outputs": [
    {
     "name": "stdout",
     "output_type": "stream",
     "text": [
      "Accuracy on site 0 is 50.00%\n",
      "Accuracy on site 1 is 34.21%\n",
      "Accuracy on site 2 is 34.51%\n",
      "Accuracy on site 3 is 44.44%\n",
      "Accuracy on site 4 is 52.38%\n",
      "Accuracy on site 5 is 52.07%\n",
      "Accuracy on site 6 is 43.55%\n",
      "Accuracy on site 7 is 37.18%\n",
      "Accuracy on site 8 is 64.86%\n",
      "Accuracy on site 9 is 59.59%\n",
      "Total size is 913\n",
      "Overall accuracy is 48.52%\n"
     ]
    }
   ],
   "source": [
    "acc,over = predictions_for_all_sites2(likelihood_ind,df_site_aside,with_site='without_site')"
   ]
  },
  {
   "cell_type": "markdown",
   "id": "e06504eb",
   "metadata": {},
   "source": [
    "# Calculating the closest site (highest likelihood) with site"
   ]
  },
  {
   "cell_type": "code",
   "execution_count": 18,
   "id": "49ea6631",
   "metadata": {},
   "outputs": [
    {
     "name": "stdout",
     "output_type": "stream",
     "text": [
      "Closest sites found: {0: '9', 1: '5', 2: '9', 3: '9', 4: '6', 5: '9', 6: '5', 7: '9', 8: '5', 9: '5'}\n",
      "Accuracy on site 0 is 51.06%\n",
      "Accuracy on site 1 is 81.58%\n",
      "Accuracy on site 2 is 35.40%\n",
      "Accuracy on site 3 is 37.78%\n",
      "Accuracy on site 4 is 47.62%\n",
      "Accuracy on site 5 is 36.36%\n",
      "Accuracy on site 6 is 75.81%\n",
      "Accuracy on site 7 is 98.72%\n",
      "Accuracy on site 8 is 56.76%\n",
      "Accuracy on site 9 is 23.27%\n",
      "Total size is 913\n",
      "Overall accuracy is 47.43%\n"
     ]
    }
   ],
   "source": [
    "acc,over = predictions_with_closest_site2(likelihood,df_site_aside,with_site='with_site')"
   ]
  },
  {
   "cell_type": "markdown",
   "id": "db77e97c",
   "metadata": {},
   "source": [
    "# Calculating likelihood of all sites"
   ]
  },
  {
   "cell_type": "code",
   "execution_count": 19,
   "id": "3b1914f2",
   "metadata": {},
   "outputs": [
    {
     "name": "stdout",
     "output_type": "stream",
     "text": [
      "Accuracy on site 0 is 52.13%\n",
      "Accuracy on site 1 is 13.16%\n",
      "Accuracy on site 2 is 34.51%\n",
      "Accuracy on site 3 is 33.33%\n",
      "Accuracy on site 4 is 38.10%\n",
      "Accuracy on site 5 is 34.71%\n",
      "Accuracy on site 6 is 33.87%\n",
      "Accuracy on site 7 is 20.51%\n",
      "Accuracy on site 8 is 54.05%\n",
      "Accuracy on site 9 is 80.41%\n",
      "Total size is 913\n",
      "Overall accuracy is 46.55%\n"
     ]
    }
   ],
   "source": [
    "acc,over = predictions_for_all_sites2(likelihood,df_site_aside,with_site='with_site')"
   ]
  },
  {
   "cell_type": "markdown",
   "id": "16e99c49",
   "metadata": {},
   "source": [
    "# Calculating the closest site (highest likelihood) without site"
   ]
  },
  {
   "cell_type": "code",
   "execution_count": 20,
   "id": "c57a0c86",
   "metadata": {},
   "outputs": [
    {
     "name": "stdout",
     "output_type": "stream",
     "text": [
      "Closest sites found: {0: '9', 1: '5', 2: '9', 3: '9', 4: '6', 5: '2', 6: '5', 7: '9', 8: '5', 9: '5'}\n",
      "Accuracy on site 0 is 51.06%\n",
      "Accuracy on site 1 is 81.58%\n",
      "Accuracy on site 2 is 35.40%\n",
      "Accuracy on site 3 is 37.78%\n",
      "Accuracy on site 4 is 47.62%\n",
      "Accuracy on site 5 is 58.68%\n",
      "Accuracy on site 6 is 75.81%\n",
      "Accuracy on site 7 is 98.72%\n",
      "Accuracy on site 8 is 56.76%\n",
      "Accuracy on site 9 is 23.27%\n",
      "Total size is 913\n",
      "Overall accuracy is 50.38%\n"
     ]
    }
   ],
   "source": [
    "acc,over = predictions_with_closest_site2(likelihood_without_site,df_site_aside,with_site='without_site')"
   ]
  },
  {
   "cell_type": "markdown",
   "id": "1863c5a1",
   "metadata": {},
   "source": [
    "# Calculating likelihood of all sites without the site variabe"
   ]
  },
  {
   "cell_type": "code",
   "execution_count": 21,
   "id": "c93254a5",
   "metadata": {},
   "outputs": [
    {
     "name": "stdout",
     "output_type": "stream",
     "text": [
      "Accuracy on site 0 is 52.13%\n",
      "Accuracy on site 1 is 13.16%\n",
      "Accuracy on site 2 is 34.51%\n",
      "Accuracy on site 3 is 33.33%\n",
      "Accuracy on site 4 is 38.10%\n",
      "Accuracy on site 5 is 34.71%\n",
      "Accuracy on site 6 is 33.87%\n",
      "Accuracy on site 7 is 20.51%\n",
      "Accuracy on site 8 is 54.05%\n",
      "Accuracy on site 9 is 80.41%\n",
      "Total size is 913\n",
      "Overall accuracy is 46.55%\n"
     ]
    }
   ],
   "source": [
    "acc,over = predictions_for_all_sites2(likelihood_without_site,df_site_aside,with_site='without_site')"
   ]
  },
  {
   "cell_type": "markdown",
   "id": "fe6e6498",
   "metadata": {},
   "source": [
    "# Calculating the closest site (highest likelihood) without site no scalers"
   ]
  },
  {
   "cell_type": "code",
   "execution_count": 22,
   "id": "3ca2e154",
   "metadata": {},
   "outputs": [
    {
     "name": "stdout",
     "output_type": "stream",
     "text": [
      "Closest sites found: {0: '5', 1: '5', 2: '5', 3: '2', 4: '6', 5: '9', 6: '4', 7: '5', 8: '5', 9: '5'}\n",
      "Accuracy on site 0 is 50.00%\n",
      "Accuracy on site 1 is 78.95%\n",
      "Accuracy on site 2 is 65.49%\n",
      "Accuracy on site 3 is 57.78%\n",
      "Accuracy on site 4 is 64.29%\n",
      "Accuracy on site 5 is 33.88%\n",
      "Accuracy on site 6 is 54.84%\n",
      "Accuracy on site 7 is 21.79%\n",
      "Accuracy on site 8 is 54.05%\n",
      "Accuracy on site 9 is 27.76%\n",
      "Total size is 913\n",
      "Overall accuracy is 45.35%\n"
     ]
    }
   ],
   "source": [
    "acc,over = predictions_with_closest_site2(likelihood_no_scalers,df_site_aside,with_site='without_site')"
   ]
  },
  {
   "cell_type": "markdown",
   "id": "50ed5b43",
   "metadata": {},
   "source": [
    "# Calculating likelihood of all sites without the site variabe no scalers"
   ]
  },
  {
   "cell_type": "code",
   "execution_count": 23,
   "id": "0346e98a",
   "metadata": {},
   "outputs": [
    {
     "name": "stdout",
     "output_type": "stream",
     "text": [
      "Accuracy on site 0 is 52.13%\n",
      "Accuracy on site 1 is 13.16%\n",
      "Accuracy on site 2 is 34.51%\n",
      "Accuracy on site 3 is 33.33%\n",
      "Accuracy on site 4 is 38.10%\n",
      "Accuracy on site 5 is 34.71%\n",
      "Accuracy on site 6 is 33.87%\n",
      "Accuracy on site 7 is 30.77%\n",
      "Accuracy on site 8 is 54.05%\n",
      "Accuracy on site 9 is 80.41%\n",
      "Total size is 913\n",
      "Overall accuracy is 47.43%\n"
     ]
    }
   ],
   "source": [
    "acc,over = predictions_for_all_sites2(likelihood_no_scalers,df_site_aside,with_site='without_site')"
   ]
  },
  {
   "cell_type": "markdown",
   "id": "a8423e9b",
   "metadata": {},
   "source": [
    "# Calculating likelihood with all sites in the causal prior without the site variabe"
   ]
  },
  {
   "cell_type": "code",
   "execution_count": 24,
   "id": "53bd30c7",
   "metadata": {},
   "outputs": [],
   "source": [
    "# calculating the predictions\n",
    "likelihood_PD = {}\n",
    "for site in range(10):\n",
    "    # likelihood of diago = 0\n",
    "    likelihood_PD[site] = {}\n",
    "    for diag in likelihood_all[site].keys():\n",
    "        likelihood_PD\n",
    "        for ecomp in likelihood_all[site][diag]['without_site'].keys():\n",
    "            if ecomp == 0:\n",
    "                likelihood_PD[site][diag] = likelihood_all[site][diag]['without_site'][ecomp]\n",
    "            else:\n",
    "                likelihood_PD[site][diag] += likelihood_all[site][diag]['without_site'][ecomp]"
   ]
  },
  {
   "cell_type": "code",
   "execution_count": 25,
   "id": "111c85c9",
   "metadata": {},
   "outputs": [],
   "source": [
    "# still calculating if is PD or not PD\n",
    "predictions_MACAW = {}\n",
    "for site in range(10):\n",
    "    predictions_MACAW[site] = []\n",
    "    for indiv in range(len(likelihood_PD[site]['0'])):\n",
    "        if likelihood_PD[site]['0'][indiv] >= likelihood_PD[site]['1'][indiv]:\n",
    "            predictions_MACAW[site].append(0)\n",
    "        else:\n",
    "            predictions_MACAW[site].append(1)"
   ]
  },
  {
   "cell_type": "code",
   "execution_count": 26,
   "id": "b7e4d5ec",
   "metadata": {},
   "outputs": [
    {
     "name": "stdout",
     "output_type": "stream",
     "text": [
      "Accuracy on site 0 is 52.13%\n",
      "Accuracy on site 1 is 14.47%\n",
      "Accuracy on site 2 is 37.17%\n",
      "Accuracy on site 3 is 33.33%\n",
      "Accuracy on site 4 is 38.10%\n",
      "Accuracy on site 5 is 36.36%\n",
      "Accuracy on site 6 is 35.48%\n",
      "Accuracy on site 7 is 20.51%\n",
      "Accuracy on site 8 is 54.05%\n",
      "Accuracy on site 9 is 80.41%\n",
      "Total size is 913\n",
      "Overall accuracy is 47.32%\n"
     ]
    }
   ],
   "source": [
    "acc_per_site = {}\n",
    "for site in range(10):\n",
    "    site_pred = np.array(predictions_MACAW[site]) == df_site_aside[site]['Group_bin'].to_numpy()\n",
    "    if site == 0:\n",
    "        overall_pred = site_pred\n",
    "    else:\n",
    "        overall_pred = np.concatenate((overall_pred,site_pred))\n",
    "    site_acc = np.sum(site_pred)/len(site_pred)\n",
    "    print(f\"Accuracy on site {site} is {site_acc* 100:.2f}%\")\n",
    "print(f\"Total size is {len(overall_pred)}\")\n",
    "overall_acc = np.sum(overall_pred)/len(overall_pred)\n",
    "print(f\"Overall accuracy is {overall_acc* 100:.2f}%\")"
   ]
  },
  {
   "cell_type": "code",
   "execution_count": null,
   "id": "0896481a",
   "metadata": {},
   "outputs": [],
   "source": []
  },
  {
   "cell_type": "code",
   "execution_count": 27,
   "id": "131015e4",
   "metadata": {},
   "outputs": [],
   "source": [
    "def predictions_with_closest_site(likelihood_var,with_site='with_site'):\n",
    "    # Finding the closest site\n",
    "    closest_site = {}\n",
    "    for site in range(10):\n",
    "        likelihood_max = float('-inf')\n",
    "        current_closest = None\n",
    "        for possible_closest in likelihood_var[site].keys():\n",
    "            likehood_sum = 0.0\n",
    "            for diag in likelihood_var[site][possible_closest].keys():\n",
    "                for ecomp in likelihood_var[site][possible_closest][diag][with_site].keys():\n",
    "                    likehood_sum += np.sum(likelihood_var[site][possible_closest][diag][with_site][ecomp], dtype=np.float64)\n",
    "            if likehood_sum > likelihood_max:\n",
    "                likelihood_max = likehood_sum\n",
    "                closest_site[site] = possible_closest\n",
    "    print(closest_site)\n",
    "    # calculating the predictions\n",
    "    likelihood_PD = {}\n",
    "    for site in range(10):\n",
    "        # likelihood of diago = 0\n",
    "        likelihood_PD[site] = {}\n",
    "        for diag in likelihood_var[site][closest_site[site]].keys():\n",
    "            for ecomp in likelihood_var[site][closest_site[site]][diag][with_site].keys():\n",
    "                if ecomp == 0:\n",
    "                    likelihood_PD[site][diag] = likelihood_var[site][closest_site[site]][diag][with_site][ecomp]\n",
    "                else:\n",
    "                    likelihood_PD[site][diag] += likelihood_var[site][closest_site[site]][diag][with_site][ecomp]\n",
    "    predictions_MACAW = {}\n",
    "    for site in range(10):\n",
    "        predictions_MACAW[site] = []\n",
    "        for indiv in range(len(likelihood_PD[site]['0'])):\n",
    "            if likelihood_PD[site]['0'][indiv] >= likelihood_PD[site]['1'][indiv]:\n",
    "                predictions_MACAW[site].append(0)\n",
    "            else:\n",
    "                predictions_MACAW[site].append(1)\n",
    "    acc_per_site = {}\n",
    "    for site in range(10):\n",
    "        site_pred = np.array(predictions_MACAW[site]) == df_site_aside[site]['Group_bin'].to_numpy()\n",
    "        if site == 0:\n",
    "            overall_pred = site_pred\n",
    "        else:\n",
    "            overall_pred = np.concatenate((overall_pred,site_pred))\n",
    "        site_acc = site_pred.sum()/len(site_pred)\n",
    "        acc_per_site[site] = site_acc\n",
    "        print(f\"Accuracy on site {site} is {site_acc* 100:.2f}%\")\n",
    "    print(f\"Total size is {len(overall_pred)}\")\n",
    "    overall_acc = overall_pred.sum()/len(overall_pred)\n",
    "    print(f\"Overall accuracy is {overall_acc* 100:.2f}%\")\n",
    "    return acc_per_site,overall_acc"
   ]
  },
  {
   "cell_type": "code",
   "execution_count": 28,
   "id": "15177fad",
   "metadata": {},
   "outputs": [],
   "source": [
    "def predictions_for_all_sites(likelihood_var,with_site='with_site'):\n",
    "    # calculating the predictions\n",
    "    likelihood_PD = {}\n",
    "    for site in range(10):\n",
    "        # likelihood of diago = 0\n",
    "        likelihood_PD[site] = {}\n",
    "        for possible_closest in likelihood_var[site].keys():\n",
    "            for diag in likelihood_var[site][possible_closest].keys():\n",
    "                likelihood_PD\n",
    "                for ecomp in likelihood_var[site][possible_closest][diag][with_site].keys():\n",
    "                    if ecomp == 0:\n",
    "                        likelihood_PD[site][diag] = likelihood_var[site][possible_closest][diag][with_site][ecomp]\n",
    "                    else:\n",
    "                        likelihood_PD[site][diag] += likelihood_var[site][possible_closest][diag][with_site][ecomp]\n",
    "    # still calculating if is PD or not PD\n",
    "    predictions_MACAW = {}\n",
    "    for site in range(10):\n",
    "        predictions_MACAW[site] = []\n",
    "        for indiv in range(len(likelihood_PD[site]['0'])):\n",
    "            if likelihood_PD[site]['0'][indiv] >= likelihood_PD[site]['1'][indiv]:\n",
    "                predictions_MACAW[site].append(0)\n",
    "            else:\n",
    "                predictions_MACAW[site].append(1)\n",
    "    acc_per_site = {}\n",
    "    for site in range(10):\n",
    "        site_pred = np.array(predictions_MACAW[site]) == df_site_aside[site]['Group_bin'].to_numpy()\n",
    "        if site == 0:\n",
    "            overall_pred = site_pred\n",
    "        else:\n",
    "            overall_pred = np.concatenate((overall_pred,site_pred))\n",
    "        site_acc = np.sum(site_pred)/len(site_pred)\n",
    "        acc_per_site[site] = site_acc\n",
    "        print(f\"Accuracy on site {site} is {site_acc* 100:.2f}%\")\n",
    "    print(f\"Total size is {len(overall_pred)}\")\n",
    "    overall_acc = np.sum(overall_pred)/len(overall_pred)\n",
    "    print(f\"Overall accuracy is {overall_acc* 100:.2f}%\")\n",
    "    return acc_per_site,overall_acc"
   ]
  }
 ],
 "metadata": {
  "kernelspec": {
   "display_name": "Python 3 (ipykernel)",
   "language": "python",
   "name": "python3"
  },
  "language_info": {
   "codemirror_mode": {
    "name": "ipython",
    "version": 3
   },
   "file_extension": ".py",
   "mimetype": "text/x-python",
   "name": "python",
   "nbconvert_exporter": "python",
   "pygments_lexer": "ipython3",
   "version": "3.10.11"
  }
 },
 "nbformat": 4,
 "nbformat_minor": 5
}
