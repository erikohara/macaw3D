{
 "cells": [
  {
   "cell_type": "code",
   "execution_count": 4,
   "id": "0ccefdbd",
   "metadata": {},
   "outputs": [],
   "source": [
    "import os\n",
    "import sys\n",
    "from pathlib import Path\n",
    "sys.path.append(str(Path(os.getcwd()).parent.parent) +'/')\n",
    "from utils.visualize import img_grid\n",
    "\n",
    "from torchvision import transforms \n",
    "\n",
    "import numpy as np\n",
    "import pandas as pd\n",
    "import torchio as tio\n",
    "import nibabel as nib\n",
    "\n",
    "import ipywidgets as ipyw\n",
    "\n",
    "import matplotlib.pyplot as plt\n",
    "import SimpleITK as sitk\n",
    "import torch\n",
    "from torch import nn\n",
    "from  torch.utils.data import Dataset, DataLoader\n",
    "from tqdm.notebook import tqdm\n",
    "from torchmetrics.image.fid import FrechetInceptionDistance\n",
    "import scipy\n",
    "from sklearn import metrics\n",
    "import json "
   ]
  },
  {
   "cell_type": "code",
   "execution_count": 5,
   "id": "62825b91",
   "metadata": {},
   "outputs": [
    {
     "data": {
      "text/plain": [
       "PosixPath('/home/erik.ohara/macaw')"
      ]
     },
     "execution_count": 5,
     "metadata": {},
     "output_type": "execute_result"
    }
   ],
   "source": [
    "Path(os.getcwd()).parent.parent"
   ]
  },
  {
   "cell_type": "code",
   "execution_count": 7,
   "id": "9f553c5f",
   "metadata": {},
   "outputs": [],
   "source": [
    "macaw_path = str(Path(os.getcwd()).parent.parent)\n",
    "ukbb_path = '/home/erik.ohara/UKBB'\n",
    "original_folder = '/work/forkert_lab/erik/T1_warped/test'\n",
    "generated_path = '/work/forkert_lab/erik/MACAW/cf_images/PCA_five_diff_res_hm'\n",
    "ukbb_T1_warped_folder = '/work/forkert_lab/erik/T1_warped'\n",
    "z_initial = 41\n",
    "z_fim = 140\n",
    "nsamples = 5\n",
    "predictions_orig = '/home/erik.ohara/BrainAge/predictions_all-2.csv'\n",
    "predictions_cf = '/home/erik.ohara/BrainAge/predictions_cf_five_res_hm.csv'\n",
    "predictions_cf_56 = '/home/erik.ohara/BrainAge/predictions_cf_PCA_sklearn_56.csv'\n",
    "predictions_cf_64 = '/home/erik.ohara/BrainAge/predictions_cf_PCA_sklearn_64.csv'\n",
    "predictions_cf_71 = '/home/erik.ohara/BrainAge/predictions_cf_PCA_sklearn_71.csv'\n",
    "train_path = '/work/forkert_lab/erik/T1_warped/train'\n",
    "val_path = '/work/forkert_lab/erik/T1_warped/val'"
   ]
  },
  {
   "cell_type": "code",
   "execution_count": 4,
   "id": "1a892018",
   "metadata": {},
   "outputs": [],
   "source": [
    "data_path = ukbb_path + '/ukbb_img.csv'\n",
    "df = pd.read_csv(data_path,low_memory=False)"
   ]
  },
  {
   "cell_type": "code",
   "execution_count": 54,
   "id": "a068e836",
   "metadata": {},
   "outputs": [],
   "source": [
    "df_train = pd.DataFrame(columns=df.columns)\n",
    "for each_file in os.listdir(train_path):\n",
    "    if '.nii' in each_file:\n",
    "        file_id = each_file.split('.nii')[0]\n",
    "        df_train = pd.concat([df[df['eid'] == int(file_id)],df_train.loc[:]]).reset_index(drop=True)\n",
    "df_train.sort_values(by=['eid'], inplace=True)"
   ]
  },
  {
   "cell_type": "code",
   "execution_count": 9,
   "id": "11f8a0fb",
   "metadata": {},
   "outputs": [],
   "source": [
    "df_orig = pd.read_csv(predictions_orig)\n",
    "df_cf = pd.read_csv(predictions_cf)\n",
    "df_cf_56 = pd.read_csv(predictions_cf_56)\n",
    "df_cf_64 = pd.read_csv(predictions_cf_64)\n",
    "df_cf_71 = pd.read_csv(predictions_cf_71)"
   ]
  },
  {
   "cell_type": "code",
   "execution_count": 10,
   "id": "85f69630",
   "metadata": {},
   "outputs": [
    {
     "data": {
      "text/plain": [
       "count    2370.000000\n",
       "mean        2.710381\n",
       "std         2.076066\n",
       "min         0.001289\n",
       "25%         1.061237\n",
       "50%         2.309320\n",
       "75%         3.828246\n",
       "max        13.614628\n",
       "Name: ABSError, dtype: float64"
      ]
     },
     "execution_count": 10,
     "metadata": {},
     "output_type": "execute_result"
    }
   ],
   "source": [
    "df_orig['ABSError'].describe()"
   ]
  },
  {
   "cell_type": "code",
   "execution_count": 11,
   "id": "388352b7",
   "metadata": {},
   "outputs": [
    {
     "data": {
      "text/plain": [
       "count    2370.000000\n",
       "mean        4.049137\n",
       "std         2.842523\n",
       "min         0.004143\n",
       "25%         1.738960\n",
       "50%         3.562824\n",
       "75%         5.849777\n",
       "max        16.331635\n",
       "Name: ABSError, dtype: float64"
      ]
     },
     "execution_count": 11,
     "metadata": {},
     "output_type": "execute_result"
    }
   ],
   "source": [
    "df_cf['ABSError'].describe()"
   ]
  },
  {
   "cell_type": "code",
   "execution_count": 13,
   "id": "461777b7",
   "metadata": {},
   "outputs": [
    {
     "data": {
      "text/plain": [
       "count    2370.000000\n",
       "mean       60.881785\n",
       "std         4.939128\n",
       "min        48.558765\n",
       "25%        57.099186\n",
       "50%        60.537233\n",
       "75%        64.566284\n",
       "max        74.506401\n",
       "Name: Prediction, dtype: float64"
      ]
     },
     "execution_count": 13,
     "metadata": {},
     "output_type": "execute_result"
    }
   ],
   "source": [
    "df_cf_56['Prediction'].describe()"
   ]
  },
  {
   "cell_type": "code",
   "execution_count": 14,
   "id": "62c2816d",
   "metadata": {},
   "outputs": [
    {
     "data": {
      "text/plain": [
       "count    2370.000000\n",
       "mean       63.524026\n",
       "std         5.040229\n",
       "min        49.730682\n",
       "25%        59.737428\n",
       "50%        63.422235\n",
       "75%        67.263216\n",
       "max        76.322052\n",
       "Name: Prediction, dtype: float64"
      ]
     },
     "execution_count": 14,
     "metadata": {},
     "output_type": "execute_result"
    }
   ],
   "source": [
    "df_cf_64['Prediction'].describe()"
   ]
  },
  {
   "cell_type": "code",
   "execution_count": 15,
   "id": "63798d07",
   "metadata": {},
   "outputs": [
    {
     "data": {
      "text/plain": [
       "count    2370.000000\n",
       "mean       64.978556\n",
       "std         5.101292\n",
       "min        46.161476\n",
       "25%        61.238873\n",
       "50%        64.916592\n",
       "75%        68.612354\n",
       "max        77.371643\n",
       "Name: Prediction, dtype: float64"
      ]
     },
     "execution_count": 15,
     "metadata": {},
     "output_type": "execute_result"
    }
   ],
   "source": [
    "df_cf_71['Prediction'].describe()"
   ]
  },
  {
   "cell_type": "code",
   "execution_count": 16,
   "id": "f3ba6d26",
   "metadata": {},
   "outputs": [],
   "source": [
    "df_cf_56_64_71 = pd.concat([df_cf_56,df_cf_64,df_cf_71])"
   ]
  },
  {
   "cell_type": "code",
   "execution_count": 17,
   "id": "258a1c18",
   "metadata": {},
   "outputs": [
    {
     "data": {
      "text/html": [
       "<div>\n",
       "<style scoped>\n",
       "    .dataframe tbody tr th:only-of-type {\n",
       "        vertical-align: middle;\n",
       "    }\n",
       "\n",
       "    .dataframe tbody tr th {\n",
       "        vertical-align: top;\n",
       "    }\n",
       "\n",
       "    .dataframe thead th {\n",
       "        text-align: right;\n",
       "    }\n",
       "</style>\n",
       "<table border=\"1\" class=\"dataframe\">\n",
       "  <thead>\n",
       "    <tr style=\"text-align: right;\">\n",
       "      <th></th>\n",
       "      <th>Unnamed: 0</th>\n",
       "      <th>EID</th>\n",
       "      <th>Age</th>\n",
       "      <th>Prediction</th>\n",
       "      <th>ABSError</th>\n",
       "      <th>ABSMEANError</th>\n",
       "    </tr>\n",
       "  </thead>\n",
       "  <tbody>\n",
       "    <tr>\n",
       "      <th>0</th>\n",
       "      <td>0</td>\n",
       "      <td>1020415</td>\n",
       "      <td>65</td>\n",
       "      <td>65.973640</td>\n",
       "      <td>0.973640</td>\n",
       "      <td>1.848945</td>\n",
       "    </tr>\n",
       "    <tr>\n",
       "      <th>1</th>\n",
       "      <td>1</td>\n",
       "      <td>1025653</td>\n",
       "      <td>71</td>\n",
       "      <td>62.652252</td>\n",
       "      <td>8.347748</td>\n",
       "      <td>7.848945</td>\n",
       "    </tr>\n",
       "    <tr>\n",
       "      <th>2</th>\n",
       "      <td>2</td>\n",
       "      <td>1026490</td>\n",
       "      <td>61</td>\n",
       "      <td>57.646732</td>\n",
       "      <td>3.353268</td>\n",
       "      <td>2.151055</td>\n",
       "    </tr>\n",
       "    <tr>\n",
       "      <th>3</th>\n",
       "      <td>3</td>\n",
       "      <td>1027217</td>\n",
       "      <td>60</td>\n",
       "      <td>63.290806</td>\n",
       "      <td>3.290806</td>\n",
       "      <td>3.151055</td>\n",
       "    </tr>\n",
       "    <tr>\n",
       "      <th>4</th>\n",
       "      <td>4</td>\n",
       "      <td>1027582</td>\n",
       "      <td>60</td>\n",
       "      <td>55.746197</td>\n",
       "      <td>4.253803</td>\n",
       "      <td>3.151055</td>\n",
       "    </tr>\n",
       "    <tr>\n",
       "      <th>...</th>\n",
       "      <td>...</td>\n",
       "      <td>...</td>\n",
       "      <td>...</td>\n",
       "      <td>...</td>\n",
       "      <td>...</td>\n",
       "      <td>...</td>\n",
       "    </tr>\n",
       "    <tr>\n",
       "      <th>2365</th>\n",
       "      <td>2365</td>\n",
       "      <td>6002830</td>\n",
       "      <td>47</td>\n",
       "      <td>57.672199</td>\n",
       "      <td>10.672199</td>\n",
       "      <td>16.311392</td>\n",
       "    </tr>\n",
       "    <tr>\n",
       "      <th>2366</th>\n",
       "      <td>2366</td>\n",
       "      <td>6003437</td>\n",
       "      <td>72</td>\n",
       "      <td>69.944405</td>\n",
       "      <td>2.055595</td>\n",
       "      <td>8.688608</td>\n",
       "    </tr>\n",
       "    <tr>\n",
       "      <th>2367</th>\n",
       "      <td>2367</td>\n",
       "      <td>6004251</td>\n",
       "      <td>70</td>\n",
       "      <td>74.031151</td>\n",
       "      <td>4.031151</td>\n",
       "      <td>6.688608</td>\n",
       "    </tr>\n",
       "    <tr>\n",
       "      <th>2368</th>\n",
       "      <td>2368</td>\n",
       "      <td>6007875</td>\n",
       "      <td>71</td>\n",
       "      <td>67.200073</td>\n",
       "      <td>3.799927</td>\n",
       "      <td>7.688608</td>\n",
       "    </tr>\n",
       "    <tr>\n",
       "      <th>2369</th>\n",
       "      <td>2369</td>\n",
       "      <td>6023202</td>\n",
       "      <td>69</td>\n",
       "      <td>73.824745</td>\n",
       "      <td>4.824745</td>\n",
       "      <td>5.688608</td>\n",
       "    </tr>\n",
       "  </tbody>\n",
       "</table>\n",
       "<p>7110 rows × 6 columns</p>\n",
       "</div>"
      ],
      "text/plain": [
       "      Unnamed: 0      EID  Age  Prediction   ABSError  ABSMEANError\n",
       "0              0  1020415   65   65.973640   0.973640      1.848945\n",
       "1              1  1025653   71   62.652252   8.347748      7.848945\n",
       "2              2  1026490   61   57.646732   3.353268      2.151055\n",
       "3              3  1027217   60   63.290806   3.290806      3.151055\n",
       "4              4  1027582   60   55.746197   4.253803      3.151055\n",
       "...          ...      ...  ...         ...        ...           ...\n",
       "2365        2365  6002830   47   57.672199  10.672199     16.311392\n",
       "2366        2366  6003437   72   69.944405   2.055595      8.688608\n",
       "2367        2367  6004251   70   74.031151   4.031151      6.688608\n",
       "2368        2368  6007875   71   67.200073   3.799927      7.688608\n",
       "2369        2369  6023202   69   73.824745   4.824745      5.688608\n",
       "\n",
       "[7110 rows x 6 columns]"
      ]
     },
     "execution_count": 17,
     "metadata": {},
     "output_type": "execute_result"
    }
   ],
   "source": [
    "df_cf_56_64_71"
   ]
  },
  {
   "cell_type": "code",
   "execution_count": 8,
   "id": "b2657adf",
   "metadata": {},
   "outputs": [
    {
     "data": {
      "text/html": [
       "<div>\n",
       "<style scoped>\n",
       "    .dataframe tbody tr th:only-of-type {\n",
       "        vertical-align: middle;\n",
       "    }\n",
       "\n",
       "    .dataframe tbody tr th {\n",
       "        vertical-align: top;\n",
       "    }\n",
       "\n",
       "    .dataframe thead th {\n",
       "        text-align: right;\n",
       "    }\n",
       "</style>\n",
       "<table border=\"1\" class=\"dataframe\">\n",
       "  <thead>\n",
       "    <tr style=\"text-align: right;\">\n",
       "      <th></th>\n",
       "      <th>Unnamed: 0</th>\n",
       "      <th>EID</th>\n",
       "      <th>Age</th>\n",
       "      <th>Prediction</th>\n",
       "      <th>ABSError</th>\n",
       "      <th>ABSMEANError</th>\n",
       "    </tr>\n",
       "  </thead>\n",
       "  <tbody>\n",
       "    <tr>\n",
       "      <th>1774</th>\n",
       "      <td>1774</td>\n",
       "      <td>4789508</td>\n",
       "      <td>71</td>\n",
       "      <td>54.668365</td>\n",
       "      <td>16.331635</td>\n",
       "      <td>7.675949</td>\n",
       "    </tr>\n",
       "    <tr>\n",
       "      <th>402</th>\n",
       "      <td>402</td>\n",
       "      <td>1889567</td>\n",
       "      <td>78</td>\n",
       "      <td>62.119667</td>\n",
       "      <td>15.880333</td>\n",
       "      <td>14.675949</td>\n",
       "    </tr>\n",
       "    <tr>\n",
       "      <th>666</th>\n",
       "      <td>666</td>\n",
       "      <td>2430763</td>\n",
       "      <td>47</td>\n",
       "      <td>61.933048</td>\n",
       "      <td>14.933048</td>\n",
       "      <td>16.324051</td>\n",
       "    </tr>\n",
       "    <tr>\n",
       "      <th>260</th>\n",
       "      <td>260</td>\n",
       "      <td>1571589</td>\n",
       "      <td>47</td>\n",
       "      <td>61.290035</td>\n",
       "      <td>14.290035</td>\n",
       "      <td>16.324051</td>\n",
       "    </tr>\n",
       "    <tr>\n",
       "      <th>1508</th>\n",
       "      <td>1508</td>\n",
       "      <td>4261600</td>\n",
       "      <td>46</td>\n",
       "      <td>60.242756</td>\n",
       "      <td>14.242756</td>\n",
       "      <td>17.324051</td>\n",
       "    </tr>\n",
       "  </tbody>\n",
       "</table>\n",
       "</div>"
      ],
      "text/plain": [
       "      Unnamed: 0      EID  Age  Prediction   ABSError  ABSMEANError\n",
       "1774        1774  4789508   71   54.668365  16.331635      7.675949\n",
       "402          402  1889567   78   62.119667  15.880333     14.675949\n",
       "666          666  2430763   47   61.933048  14.933048     16.324051\n",
       "260          260  1571589   47   61.290035  14.290035     16.324051\n",
       "1508        1508  4261600   46   60.242756  14.242756     17.324051"
      ]
     },
     "execution_count": 8,
     "metadata": {},
     "output_type": "execute_result"
    }
   ],
   "source": [
    "# Getting the best and the worst \n",
    "df_cf.nlargest(nsamples, 'ABSError')"
   ]
  },
  {
   "cell_type": "code",
   "execution_count": 9,
   "id": "806995c7",
   "metadata": {},
   "outputs": [
    {
     "data": {
      "text/html": [
       "<div>\n",
       "<style scoped>\n",
       "    .dataframe tbody tr th:only-of-type {\n",
       "        vertical-align: middle;\n",
       "    }\n",
       "\n",
       "    .dataframe tbody tr th {\n",
       "        vertical-align: top;\n",
       "    }\n",
       "\n",
       "    .dataframe thead th {\n",
       "        text-align: right;\n",
       "    }\n",
       "</style>\n",
       "<table border=\"1\" class=\"dataframe\">\n",
       "  <thead>\n",
       "    <tr style=\"text-align: right;\">\n",
       "      <th></th>\n",
       "      <th>Unnamed: 0</th>\n",
       "      <th>EID</th>\n",
       "      <th>Age</th>\n",
       "      <th>Prediction</th>\n",
       "      <th>ABSError</th>\n",
       "      <th>ABSMEANError</th>\n",
       "    </tr>\n",
       "  </thead>\n",
       "  <tbody>\n",
       "    <tr>\n",
       "      <th>943</th>\n",
       "      <td>943</td>\n",
       "      <td>3066046</td>\n",
       "      <td>74</td>\n",
       "      <td>74.004143</td>\n",
       "      <td>0.004143</td>\n",
       "      <td>10.675949</td>\n",
       "    </tr>\n",
       "    <tr>\n",
       "      <th>2350</th>\n",
       "      <td>2350</td>\n",
       "      <td>5978060</td>\n",
       "      <td>70</td>\n",
       "      <td>69.991821</td>\n",
       "      <td>0.008179</td>\n",
       "      <td>6.675949</td>\n",
       "    </tr>\n",
       "    <tr>\n",
       "      <th>2065</th>\n",
       "      <td>2065</td>\n",
       "      <td>5432248</td>\n",
       "      <td>64</td>\n",
       "      <td>64.012230</td>\n",
       "      <td>0.012230</td>\n",
       "      <td>0.675949</td>\n",
       "    </tr>\n",
       "    <tr>\n",
       "      <th>175</th>\n",
       "      <td>175</td>\n",
       "      <td>1388775</td>\n",
       "      <td>60</td>\n",
       "      <td>60.014565</td>\n",
       "      <td>0.014565</td>\n",
       "      <td>3.324051</td>\n",
       "    </tr>\n",
       "    <tr>\n",
       "      <th>914</th>\n",
       "      <td>914</td>\n",
       "      <td>2981624</td>\n",
       "      <td>72</td>\n",
       "      <td>72.017464</td>\n",
       "      <td>0.017464</td>\n",
       "      <td>8.675949</td>\n",
       "    </tr>\n",
       "  </tbody>\n",
       "</table>\n",
       "</div>"
      ],
      "text/plain": [
       "      Unnamed: 0      EID  Age  Prediction  ABSError  ABSMEANError\n",
       "943          943  3066046   74   74.004143  0.004143     10.675949\n",
       "2350        2350  5978060   70   69.991821  0.008179      6.675949\n",
       "2065        2065  5432248   64   64.012230  0.012230      0.675949\n",
       "175          175  1388775   60   60.014565  0.014565      3.324051\n",
       "914          914  2981624   72   72.017464  0.017464      8.675949"
      ]
     },
     "execution_count": 9,
     "metadata": {},
     "output_type": "execute_result"
    }
   ],
   "source": [
    "df_cf.nsmallest(nsamples, 'ABSError')"
   ]
  },
  {
   "cell_type": "code",
   "execution_count": 10,
   "id": "2ff6ac23",
   "metadata": {},
   "outputs": [],
   "source": [
    "subjects_eid_worst = df_cf.nlargest(5, 'ABSError')['EID']\n",
    "subjects_eid_best = df_cf.nsmallest(5, 'ABSError')['EID']"
   ]
  },
  {
   "cell_type": "code",
   "execution_count": 11,
   "id": "b2cbfc91",
   "metadata": {},
   "outputs": [
    {
     "data": {
      "application/vnd.jupyter.widget-view+json": {
       "model_id": "cd8b0aeaae644788a62f8648df66c12e",
       "version_major": 2,
       "version_minor": 0
      },
      "text/plain": [
       "  0%|          | 0/5 [00:00<?, ?it/s]"
      ]
     },
     "metadata": {},
     "output_type": "display_data"
    },
    {
     "data": {
      "application/vnd.jupyter.widget-view+json": {
       "model_id": "5e6e3794a9ff4894979cac49b218ec52",
       "version_major": 2,
       "version_minor": 0
      },
      "text/plain": [
       "  0%|          | 0/5 [00:00<?, ?it/s]"
      ]
     },
     "metadata": {},
     "output_type": "display_data"
    }
   ],
   "source": [
    "# Getting the generated best and worst images\n",
    "cf_age_best = np.array([])\n",
    "cf_sex_best = np.array([])\n",
    "images_generated_best = []\n",
    "files_generated_best = []\n",
    "for individual in tqdm(subjects_eid_best):\n",
    "    for file in os.listdir(generated_path):\n",
    "        if '.nii' in file:\n",
    "            splits = file.split(\"_\")\n",
    "            subject_eid = int(splits[0])\n",
    "            if int(subject_eid) == individual:\n",
    "                files_generated_best.append(file)\n",
    "                age = splits[1]\n",
    "                sex = splits[2].split(\".\")[0]\n",
    "                cf_age_best = np.append(cf_age_best, age)\n",
    "                cf_sex_best = np.append(cf_sex_best, sex)\n",
    "                image_load = nib.load(os.path.join(generated_path, file)).get_fdata()\n",
    "                images_generated_best.append(image_load)\n",
    "            \n",
    "\n",
    "cf_age_worst = np.array([])\n",
    "cf_sex_worst = np.array([])\n",
    "images_generated_worst = []\n",
    "files_generated_worst = []\n",
    "for individual in tqdm(subjects_eid_worst):\n",
    "     for file in os.listdir(generated_path):\n",
    "        if '.nii' in file:\n",
    "            splits = file.split(\"_\")\n",
    "            subject_eid = int(splits[0])\n",
    "            if int(subject_eid) == individual:\n",
    "                files_generated_worst.append(file)\n",
    "                age = splits[1]\n",
    "                sex = splits[2].split(\".\")[0]\n",
    "                cf_age_worst = np.append(cf_age_worst, age)\n",
    "                cf_sex_worst = np.append(cf_sex_worst, sex)\n",
    "                image_load = nib.load(os.path.join(generated_path, file)).get_fdata()\n",
    "                images_generated_worst.append(image_load)\n",
    "images_generated_best = np.array(images_generated_best)\n",
    "images_generated_worst = np.array(images_generated_worst)"
   ]
  },
  {
   "cell_type": "code",
   "execution_count": 12,
   "id": "a99ccdb6",
   "metadata": {},
   "outputs": [
    {
     "data": {
      "application/vnd.jupyter.widget-view+json": {
       "model_id": "1acdf31763904d6f8c4c8fca676e12bf",
       "version_major": 2,
       "version_minor": 0
      },
      "text/plain": [
       "  0%|          | 0/5 [00:00<?, ?it/s]"
      ]
     },
     "metadata": {},
     "output_type": "display_data"
    },
    {
     "name": "stdout",
     "output_type": "stream",
     "text": [
      "5\n"
     ]
    },
    {
     "data": {
      "application/vnd.jupyter.widget-view+json": {
       "model_id": "c98f71d889024f83adbaa7b9d3147a92",
       "version_major": 2,
       "version_minor": 0
      },
      "text/plain": [
       "  0%|          | 0/5 [00:00<?, ?it/s]"
      ]
     },
     "metadata": {},
     "output_type": "display_data"
    },
    {
     "name": "stdout",
     "output_type": "stream",
     "text": [
      "5\n"
     ]
    }
   ],
   "source": [
    "# Getting the original best and worst images\n",
    "images_original_best = []\n",
    "real_age_best = []\n",
    "real_sex_best = []\n",
    "for individual in tqdm(subjects_eid_best):\n",
    "    individual = int(individual)\n",
    "    real_age_best.append(df[df[\"eid\"] == individual][\"Age\"].item())\n",
    "    real_sex_best.append(df[df[\"eid\"] == individual][\"Sex\"].item())\n",
    "    image_load = nib.load(os.path.join(original_folder, str(individual) + \".nii.gz\")).get_fdata()\n",
    "    images_original_best.append(image_load)\n",
    "real_age_best = np.array(real_age_best)\n",
    "real_sex_best = np.array(real_sex_best)\n",
    "images_original_best = np.array(images_original_best)\n",
    "print(len(images_original_best))\n",
    "\n",
    "images_original_worst = []\n",
    "real_age_worst = []\n",
    "real_sex_worst = []\n",
    "for individual in tqdm(subjects_eid_worst):\n",
    "    individual = int(individual)\n",
    "    real_age_worst.append(df[df[\"eid\"] == individual][\"Age\"].item())\n",
    "    real_sex_worst.append(df[df[\"eid\"] == individual][\"Sex\"].item())\n",
    "    image_load = nib.load(os.path.join(original_folder, str(individual) + \".nii.gz\")).get_fdata()\n",
    "    images_original_worst.append(image_load)\n",
    "real_age_worst = np.array(real_age_worst)\n",
    "real_sex_best = np.array(real_sex_best)\n",
    "images_original_worst = np.array(images_original_worst)\n",
    "print(len(images_original_worst))"
   ]
  },
  {
   "cell_type": "code",
   "execution_count": 13,
   "id": "565c4551",
   "metadata": {},
   "outputs": [
    {
     "data": {
      "text/plain": [
       "(5, 150, 150, 100)"
      ]
     },
     "execution_count": 13,
     "metadata": {},
     "output_type": "execute_result"
    }
   ],
   "source": [
    "images_generated_worst.shape"
   ]
  },
  {
   "cell_type": "code",
   "execution_count": 14,
   "id": "24cce366",
   "metadata": {},
   "outputs": [
    {
     "data": {
      "text/plain": [
       "(5, 182, 218, 182)"
      ]
     },
     "execution_count": 14,
     "metadata": {},
     "output_type": "execute_result"
    }
   ],
   "source": [
    "images_original_best.shape"
   ]
  },
  {
   "cell_type": "code",
   "execution_count": 15,
   "id": "2b15e6e9",
   "metadata": {},
   "outputs": [],
   "source": [
    "#cropping original image\n",
    "generated_shape = images_generated_best[0].shape\n",
    "original_shape = images_original_best[0].shape\n",
    "x_initial = int((original_shape[0] - generated_shape[0])/2)\n",
    "x_fim = x_initial +  generated_shape[0]\n",
    "y_initial = int((original_shape[1] - generated_shape[1])/2)\n",
    "y_fim = y_initial +  generated_shape[1]\n",
    "images_original_best = np.array([image[x_initial:x_fim,y_initial:y_fim,z_initial:z_fim+1] for image in images_original_best])\n",
    "images_original_worst = np.array([image[x_initial:x_fim,y_initial:y_fim,z_initial:z_fim+1] for image in images_original_worst])                       "
   ]
  },
  {
   "cell_type": "code",
   "execution_count": 16,
   "id": "c04cb9b3",
   "metadata": {},
   "outputs": [],
   "source": [
    "images_original_normalized_best = np.copy(images_original_best)\n",
    "images_original_normalized_worst = np.copy(images_original_worst)\n",
    "images_generated_normalized_best = np.copy(images_generated_best)\n",
    "images_generated_normalized_worst = np.copy(images_generated_worst)"
   ]
  },
  {
   "cell_type": "code",
   "execution_count": 17,
   "id": "d7f16e54",
   "metadata": {},
   "outputs": [],
   "source": [
    "# Normalizing\n",
    "for one_image in images_original_normalized_best:\n",
    "    maxv = np.max(one_image[:,:,:])\n",
    "    one_image[:,:,:] = ((one_image[:,:,:]) / maxv)\n",
    "for one_image in images_original_normalized_worst:\n",
    "    maxv = np.max(one_image[:,:,:])\n",
    "    one_image[:,:,:] = ((one_image[:,:,:]) / maxv)"
   ]
  },
  {
   "cell_type": "code",
   "execution_count": 18,
   "id": "0f9608b0",
   "metadata": {},
   "outputs": [],
   "source": [
    "# Normalizing Generated\n",
    "for one_image in images_generated_normalized_best:\n",
    "    maxv = np.max(one_image[:,:,:])\n",
    "    one_image[:,:,:] = ((one_image[:,:,:]) / maxv)\n",
    "for one_image in images_generated_normalized_worst:\n",
    "    maxv = np.max(one_image[:,:,:])\n",
    "    one_image[:,:,:] = ((one_image[:,:,:]) / maxv)"
   ]
  },
  {
   "cell_type": "markdown",
   "id": "5268a45b",
   "metadata": {},
   "source": [
    "## Best results - Difference map"
   ]
  },
  {
   "cell_type": "code",
   "execution_count": 19,
   "id": "fdfee7e9",
   "metadata": {},
   "outputs": [
    {
     "data": {
      "text/plain": [
       "943     3066046\n",
       "2350    5978060\n",
       "2065    5432248\n",
       "175     1388775\n",
       "914     2981624\n",
       "Name: EID, dtype: int64"
      ]
     },
     "execution_count": 19,
     "metadata": {},
     "output_type": "execute_result"
    }
   ],
   "source": [
    "subjects_eid_best"
   ]
  },
  {
   "cell_type": "code",
   "execution_count": 20,
   "id": "123d8614",
   "metadata": {},
   "outputs": [],
   "source": [
    "titles_cf_best = [f'Age:{a}, Sex:{s}' for a,s in zip(cf_age_best,cf_sex_best)]\n",
    "real_sex_best_2 = ['M' if round(s) else 'F' for s in real_sex_best]\n",
    "titles_real_best = [f'Age:{a}, Sex:{s}' for a,s in zip(real_age_best,real_sex_best_2)]"
   ]
  },
  {
   "cell_type": "code",
   "execution_count": 21,
   "id": "24de080b",
   "metadata": {},
   "outputs": [
    {
     "data": {
      "text/plain": [
       "array(['Female', 'Male', 'Female', 'Male', 'Male'], dtype='<U32')"
      ]
     },
     "execution_count": 21,
     "metadata": {},
     "output_type": "execute_result"
    }
   ],
   "source": [
    "cf_sex_best"
   ]
  },
  {
   "cell_type": "code",
   "execution_count": 22,
   "id": "d3d8ec61",
   "metadata": {},
   "outputs": [
    {
     "data": {
      "text/plain": [
       "['F', 'M', 'F', 'M', 'M']"
      ]
     },
     "execution_count": 22,
     "metadata": {},
     "output_type": "execute_result"
    }
   ],
   "source": [
    "real_sex_best_2"
   ]
  },
  {
   "cell_type": "code",
   "execution_count": 23,
   "id": "bef42f11",
   "metadata": {},
   "outputs": [],
   "source": [
    "# Mapping the difference\n",
    "diff_best = [np.subtract(a,s) for a,s in zip(images_original_normalized_best,images_generated_normalized_best)]"
   ]
  },
  {
   "cell_type": "code",
   "execution_count": 24,
   "id": "edc06abe",
   "metadata": {},
   "outputs": [],
   "source": [
    "def plot_slice_best(z_slice):\n",
    "    order_slice = z_slice - z_initial\n",
    "    plt.rcParams[\"figure.figsize\"] = (20,5)\n",
    "    img_grid([one_image[:,:,order_slice] for one_image in images_original_normalized_best],cols=nsamples,titles=titles_real_best)\n",
    "    img_grid([one_image[:,:,order_slice] for one_image in images_generated_normalized_best],cols=nsamples,titles=titles_cf_best)\n",
    "    img_grid([one_image[:,:,order_slice] for one_image in diff_best],cols=nsamples, cmap='seismic', clim=(-1,1))"
   ]
  },
  {
   "cell_type": "code",
   "execution_count": 25,
   "id": "6f4545dc",
   "metadata": {},
   "outputs": [
    {
     "data": {
      "application/vnd.jupyter.widget-view+json": {
       "model_id": "f2ed5efac61c490eaef93f52dd2c4c83",
       "version_major": 2,
       "version_minor": 0
      },
      "text/plain": [
       "interactive(children=(IntSlider(value=41, continuous_update=False, description='Image Slice:', max=140, min=41…"
      ]
     },
     "metadata": {},
     "output_type": "display_data"
    },
    {
     "data": {
      "text/plain": [
       "<function __main__.plot_slice_best(z_slice)>"
      ]
     },
     "execution_count": 25,
     "metadata": {},
     "output_type": "execute_result"
    }
   ],
   "source": [
    "ipyw.interact(plot_slice_best, \n",
    "              z_slice=ipyw.IntSlider(min=z_initial, max=z_fim, step=1, continuous_update=False, description='Image Slice:'))"
   ]
  },
  {
   "cell_type": "markdown",
   "id": "2cab74c8",
   "metadata": {},
   "source": [
    "## Worst results - Difference map"
   ]
  },
  {
   "cell_type": "code",
   "execution_count": 26,
   "id": "95ef8206",
   "metadata": {},
   "outputs": [
    {
     "data": {
      "text/plain": [
       "1774    4789508\n",
       "402     1889567\n",
       "666     2430763\n",
       "260     1571589\n",
       "1508    4261600\n",
       "Name: EID, dtype: int64"
      ]
     },
     "execution_count": 26,
     "metadata": {},
     "output_type": "execute_result"
    }
   ],
   "source": [
    "subjects_eid_worst"
   ]
  },
  {
   "cell_type": "code",
   "execution_count": 27,
   "id": "0680e001",
   "metadata": {},
   "outputs": [],
   "source": [
    "titles_cf_worst = [f'Age:{a}, Sex:{s}' for a,s in zip(cf_age_worst,cf_sex_worst)]\n",
    "real_sex_worst_2 = ['M' if round(s) else 'F' for s in real_sex_worst]\n",
    "titles_real_worst = [f'Age:{a}, Sex:{s}' for a,s in zip(real_age_worst,real_sex_worst_2)]"
   ]
  },
  {
   "cell_type": "code",
   "execution_count": 28,
   "id": "93a5c251",
   "metadata": {},
   "outputs": [],
   "source": [
    "# Mapping the difference\n",
    "diff_worst = [np.subtract(a,s) for a,s in zip(images_original_normalized_worst,images_generated_normalized_worst)]"
   ]
  },
  {
   "cell_type": "code",
   "execution_count": 29,
   "id": "7a3451df",
   "metadata": {},
   "outputs": [],
   "source": [
    "def plot_slice_worst(z_slice):\n",
    "    order_slice = z_slice - z_initial\n",
    "    plt.rcParams[\"figure.figsize\"] = (20,5)\n",
    "    img_grid([one_image[:,:,order_slice] for one_image in images_original_normalized_worst],cols=nsamples,titles=titles_real_worst)\n",
    "    img_grid([one_image[:,:,order_slice] for one_image in images_generated_normalized_worst],cols=nsamples,titles=titles_cf_worst)\n",
    "    img_grid([one_image[:,:,order_slice] for one_image in diff_worst],cols=nsamples, cmap='seismic', clim=(-1,1))"
   ]
  },
  {
   "cell_type": "code",
   "execution_count": 30,
   "id": "50125d60",
   "metadata": {},
   "outputs": [
    {
     "data": {
      "application/vnd.jupyter.widget-view+json": {
       "model_id": "91cd5d369162473faee420253d3e4a77",
       "version_major": 2,
       "version_minor": 0
      },
      "text/plain": [
       "interactive(children=(IntSlider(value=41, continuous_update=False, description='Image Slice:', max=140, min=41…"
      ]
     },
     "metadata": {},
     "output_type": "display_data"
    },
    {
     "data": {
      "text/plain": [
       "<function __main__.plot_slice_worst(z_slice)>"
      ]
     },
     "execution_count": 30,
     "metadata": {},
     "output_type": "execute_result"
    }
   ],
   "source": [
    "ipyw.interact(plot_slice_worst, \n",
    "              z_slice=ipyw.IntSlider(min=z_initial, max=z_fim, step=1, continuous_update=False, description='Image Slice:'))"
   ]
  },
  {
   "cell_type": "markdown",
   "id": "11a957af",
   "metadata": {},
   "source": [
    "## Analsying the errors"
   ]
  },
  {
   "cell_type": "code",
   "execution_count": 33,
   "id": "c76c78aa",
   "metadata": {},
   "outputs": [],
   "source": [
    "df_orig.rename(columns={\"Age\": \"Original_Age\", \"Prediction\": \"Original_Prediction\"},inplace=True)"
   ]
  },
  {
   "cell_type": "code",
   "execution_count": 35,
   "id": "50f42866",
   "metadata": {},
   "outputs": [],
   "source": [
    "df_cf_analysis = df_cf.set_index('EID').join(\n",
    "                                            df_orig[['EID',\n",
    "                                                     'Original_Age',\n",
    "                                                     'Original_Prediction']].set_index('EID'), \n",
    "                                                                                        on='EID', \n",
    "                                                                                        how='left')"
   ]
  },
  {
   "cell_type": "code",
   "execution_count": 42,
   "id": "8f0edf24",
   "metadata": {
    "scrolled": true
   },
   "outputs": [
    {
     "data": {
      "image/png": "[encoded data removed]",
      "text/plain": [
       "<Figure size 2000x500 with 1 Axes>"
      ]
     },
     "metadata": {},
     "output_type": "display_data"
    }
   ],
   "source": [
    "# Create bins for the x column\n",
    "bins = pd.cut(df_cf_analysis['Age'], bins=10, precision=0)\n",
    "\n",
    "# Group the dataframe by the bins and calculate the mean of the y column\n",
    "grouped = df_cf_analysis.groupby(bins)['ABSError'].mean()\n",
    "\n",
    "# Plot the resulting dataframe\n",
    "grouped.plot(kind='bar')\n",
    "plt.show()"
   ]
  },
  {
   "cell_type": "code",
   "execution_count": 43,
   "id": "efc28fa5",
   "metadata": {},
   "outputs": [
    {
     "data": {
      "text/plain": [
       "Age\n",
       "(46.0, 50.0]    5.590529\n",
       "(50.0, 53.0]    4.101120\n",
       "(53.0, 56.0]    2.824963\n",
       "(56.0, 60.0]    3.163522\n",
       "(60.0, 64.0]    3.477739\n",
       "(64.0, 67.0]    3.444406\n",
       "(67.0, 70.0]    3.742903\n",
       "(70.0, 74.0]    4.414481\n",
       "(74.0, 78.0]    6.166810\n",
       "(78.0, 81.0]    7.722925\n",
       "Name: ABSError, dtype: float64"
      ]
     },
     "execution_count": 43,
     "metadata": {},
     "output_type": "execute_result"
    }
   ],
   "source": [
    "grouped"
   ]
  },
  {
   "cell_type": "code",
   "execution_count": 55,
   "id": "6df557b4",
   "metadata": {},
   "outputs": [],
   "source": [
    "df_train['Age'] = df_train['Age'].astype(int)"
   ]
  },
  {
   "cell_type": "code",
   "execution_count": 57,
   "id": "cb04e2d9",
   "metadata": {},
   "outputs": [
    {
     "data": {
      "image/png": "[encoded data removed]",
      "text/plain": [
       "<Figure size 2000x500 with 1 Axes>"
      ]
     },
     "metadata": {},
     "output_type": "display_data"
    }
   ],
   "source": [
    "ax = df_train[\"Age\"].plot.hist(bins=10)"
   ]
  },
  {
   "cell_type": "code",
   "execution_count": null,
   "id": "1c1fe39a",
   "metadata": {},
   "outputs": [],
   "source": []
  }
 ],
 "metadata": {
  "kernelspec": {
   "display_name": "Python 3 (ipykernel)",
   "language": "python",
   "name": "python3"
  },
  "language_info": {
   "codemirror_mode": {
    "name": "ipython",
    "version": 3
   },
   "file_extension": ".py",
   "mimetype": "text/x-python",
   "name": "python",
   "nbconvert_exporter": "python",
   "pygments_lexer": "ipython3",
   "version": "3.10.11"
  }
 },
 "nbformat": 4,
 "nbformat_minor": 5
}
