{
 "cells": [
  {
   "cell_type": "code",
   "execution_count": 13,
   "id": "6d0fbf45",
   "metadata": {},
   "outputs": [],
   "source": [
    "import os\n",
    "import sys\n",
    "from pathlib import Path\n",
    "sys.path.append(str(Path(os.getcwd()).parent.parent) +'/')\n",
    "from utils.visualize import img_grid\n",
    "\n",
    "from torchvision import transforms \n",
    "\n",
    "import numpy as np\n",
    "import pandas as pd\n",
    "import torchio as tio\n",
    "import nibabel as nib\n",
    "\n",
    "import ipywidgets as ipyw\n",
    "import matplotlib.pyplot as plt\n",
    "import SimpleITK as sitk\n",
    "import torch\n",
    "from torch import nn\n",
    "from  torch.utils.data import Dataset, DataLoader\n",
    "from tqdm.notebook import tqdm\n",
    "from torchmetrics.image.fid import FrechetInceptionDistance\n",
    "import scipy\n",
    "from sklearn import metrics\n",
    "import json "
   ]
  },
  {
   "cell_type": "code",
   "execution_count": 14,
   "id": "30067d5b",
   "metadata": {},
   "outputs": [],
   "source": [
    "macaw_path = str(Path(os.getcwd()).parent.parent)\n",
    "ukbb_path = '/home/erik.ohara/UKBB'\n",
    "ukbb_T1_warped = '/work/forkert_lab/erik/T1_warped/test'\n",
    "ukbb_T1_warped_folder = '/work/forkert_lab/erik/T1_warped'\n",
    "generated_path = '/work/forkert_lab/erik/MACAW/cf_images/2_5X'\n",
    "output_path = '/work/forkert_lab/erik/MACAW/cf_images/2_5X_temp'\n",
    "z_initial = 41\n",
    "z_fim = 140\n",
    "nsamples = 5"
   ]
  },
  {
   "cell_type": "code",
   "execution_count": 15,
   "id": "8703f3e8",
   "metadata": {},
   "outputs": [],
   "source": [
    "data_path = ukbb_path + '/ukbb_img.csv'\n",
    "df = pd.read_csv(data_path,low_memory=False)"
   ]
  },
  {
   "cell_type": "code",
   "execution_count": 4,
   "id": "74564963",
   "metadata": {},
   "outputs": [
    {
     "data": {
      "application/vnd.jupyter.widget-view+json": {
       "model_id": "c1556e3a721c4fb6a2a4e814e30737ae",
       "version_major": 2,
       "version_minor": 0
      },
      "text/plain": [
       "  0%|          | 0/2370 [00:00<?, ?it/s]"
      ]
     },
     "metadata": {},
     "output_type": "display_data"
    },
    {
     "name": "stdout",
     "output_type": "stream",
     "text": [
      "2370\n"
     ]
    }
   ],
   "source": [
    "# Getting the generated images\n",
    "subjects_eid = np.array([])\n",
    "cf_age = np.array([])\n",
    "cf_sex = np.array([])\n",
    "images_generated = []\n",
    "files_generated = []\n",
    "for file in tqdm(os.listdir(generated_path)):\n",
    "    if '.nii' in file:\n",
    "        files_generated.append(file)\n",
    "        splits = file.split(\"_\")\n",
    "        subject_eid = int(splits[0])\n",
    "        age = splits[1]\n",
    "        sex = splits[2].split(\".\")[0]\n",
    "        subjects_eid = np.append(subjects_eid,subject_eid)\n",
    "        cf_age = np.append(cf_age, age)\n",
    "        cf_sex = np.append(cf_sex, sex)\n",
    "        image_load = nib.load(os.path.join(generated_path, file)).get_fdata()\n",
    "        images_generated.append(image_load)\n",
    "print(len(images_generated))\n",
    "images_generated = np.array(images_generated)"
   ]
  },
  {
   "cell_type": "code",
   "execution_count": 5,
   "id": "29b1759b",
   "metadata": {},
   "outputs": [
    {
     "data": {
      "application/vnd.jupyter.widget-view+json": {
       "model_id": "682fc5eb20af465dbf388a52a915913e",
       "version_major": 2,
       "version_minor": 0
      },
      "text/plain": [
       "0it [00:00, ?it/s]"
      ]
     },
     "metadata": {},
     "output_type": "display_data"
    },
    {
     "name": "stdout",
     "output_type": "stream",
     "text": [
      "28\n",
      "['1044293_59_Female_16-165.nii.gz', '1122090_73_Male_16-165.nii.gz', '1229016_72_Male_16-165.nii.gz', '1655891_65_Male_16-165.nii.gz', '1702916_56_Male_16-165.nii.gz', '2012450_65_Female_16-165.nii.gz', '2126874_57_Female_16-165.nii.gz', '2228000_70_Female_16-165.nii.gz', '2817908_51_Male_16-165.nii.gz', '3099609_66_Male_16-165.nii.gz', '3231068_69_Female_16-165.nii.gz', '3320348_71_Male_16-165.nii.gz', '3341564_74_Female_16-165.nii.gz', '3411124_80_Female_16-165.nii.gz', '3458141_76_Male_16-165.nii.gz', '3489713_63_Male_16-165.nii.gz', '3517742_72_Female_16-165.nii.gz', '3764165_75_Female_16-165.nii.gz', '3808336_48_Male_16-165.nii.gz', '4081995_75_Male_16-165.nii.gz', '4500278_62_Male_16-165.nii.gz', '4939592_58_Female_16-165.nii.gz', '5018757_77_Male_16-165.nii.gz', '5043977_74_Female_16-165.nii.gz', '5133681_52_Female_16-165.nii.gz', '5145761_78_Male_16-165.nii.gz', '5412747_62_Female_16-165.nii.gz', '5486949_67_Male_16-165.nii.gz']\n"
     ]
    }
   ],
   "source": [
    "files_with_nan = []\n",
    "images_with_nan = []\n",
    "\n",
    "for idx, each_image in tqdm(enumerate(images_generated)):\n",
    "    if np.isnan(each_image).any():\n",
    "        images_with_nan.append(each_image)\n",
    "        files_with_nan.append(files_generated[idx])\n",
    "print(len(images_with_nan))\n",
    "\n",
    "print(files_with_nan)"
   ]
  },
  {
   "cell_type": "code",
   "execution_count": 11,
   "id": "0ef79882",
   "metadata": {},
   "outputs": [
    {
     "data": {
      "text/plain": [
       "(150, 150, 100)"
      ]
     },
     "execution_count": 11,
     "metadata": {},
     "output_type": "execute_result"
    }
   ],
   "source": [
    "images_with_nan[0].shape"
   ]
  },
  {
   "cell_type": "code",
   "execution_count": 12,
   "id": "c4544885",
   "metadata": {},
   "outputs": [
    {
     "name": "stdout",
     "output_type": "stream",
     "text": [
      "File 1044293_59_Female_16-165.nii.gz has 10093 positions with zero, and the slices are [148]\n",
      "File 1122090_73_Male_16-165.nii.gz has 10093 positions with zero, and the slices are [148]\n",
      "File 1229016_72_Male_16-165.nii.gz has 10093 positions with zero, and the slices are [148]\n",
      "File 1655891_65_Male_16-165.nii.gz has 10088 positions with zero, and the slices are [148]\n",
      "File 1702916_56_Male_16-165.nii.gz has 10088 positions with zero, and the slices are [148]\n",
      "File 2012450_65_Female_16-165.nii.gz has 10088 positions with zero, and the slices are [148]\n",
      "File 2126874_57_Female_16-165.nii.gz has 10093 positions with zero, and the slices are [148]\n",
      "File 2228000_70_Female_16-165.nii.gz has 10093 positions with zero, and the slices are [148]\n",
      "File 2817908_51_Male_16-165.nii.gz has 10088 positions with zero, and the slices are [148]\n",
      "File 3099609_66_Male_16-165.nii.gz has 10093 positions with zero, and the slices are [148]\n",
      "File 3231068_69_Female_16-165.nii.gz has 10093 positions with zero, and the slices are [148]\n",
      "File 3320348_71_Male_16-165.nii.gz has 10757 positions with zero, and the slices are [148]\n",
      "File 3341564_74_Female_16-165.nii.gz has 10093 positions with zero, and the slices are [148]\n",
      "File 3411124_80_Female_16-165.nii.gz has 10093 positions with zero, and the slices are [148]\n",
      "File 3458141_76_Male_16-165.nii.gz has 10088 positions with zero, and the slices are [148]\n",
      "File 3489713_63_Male_16-165.nii.gz has 10093 positions with zero, and the slices are [148]\n",
      "File 3517742_72_Female_16-165.nii.gz has 10093 positions with zero, and the slices are [148]\n",
      "File 3764165_75_Female_16-165.nii.gz has 12814 positions with zero, and the slices are [148]\n",
      "File 3808336_48_Male_16-165.nii.gz has 15000 positions with zero, and the slices are [0]\n",
      "File 4081995_75_Male_16-165.nii.gz has 9097 positions with zero, and the slices are [0]\n",
      "File 4500278_62_Male_16-165.nii.gz has 10093 positions with zero, and the slices are [148]\n",
      "File 4939592_58_Female_16-165.nii.gz has 13614 positions with zero, and the slices are [0]\n",
      "File 5018757_77_Male_16-165.nii.gz has 10093 positions with zero, and the slices are [148]\n",
      "File 5043977_74_Female_16-165.nii.gz has 10093 positions with zero, and the slices are [148]\n",
      "File 5133681_52_Female_16-165.nii.gz has 22639 positions with zero, and the slices are [0, 148]\n",
      "File 5145761_78_Male_16-165.nii.gz has 10093 positions with zero, and the slices are [148]\n",
      "File 5412747_62_Female_16-165.nii.gz has 10093 positions with zero, and the slices are [148]\n",
      "File 5486949_67_Male_16-165.nii.gz has 10093 positions with zero, and the slices are [148]\n"
     ]
    }
   ],
   "source": [
    "for idx, each_image in enumerate(images_with_nan):\n",
    "    nan_places = np.argwhere(np.isnan(each_image))\n",
    "    #if len(nan_places)%22500 == 0:\n",
    "    slices_nan = []\n",
    "    for nan_position in nan_places:\n",
    "        x_nan, y_nan, z_nan = nan_position\n",
    "        if x_nan not in slices_nan:\n",
    "            slices_nan.append(x_nan)\n",
    "    print(f\"File {files_with_nan[idx]} has {len(nan_places)} positions with zero, and the slices are {slices_nan}\")\n",
    "    #else:\n",
    "        #print(f\"Analyze file {files_with_nan[idx]} in dept since it has {len(nan_places)} positions with zero\")"
   ]
  },
  {
   "cell_type": "code",
   "execution_count": 16,
   "id": "2a11d351",
   "metadata": {},
   "outputs": [],
   "source": [
    "slices_with_problem = np.array([0,148])\n",
    "slices_with_problem = slices_with_problem + 16"
   ]
  },
  {
   "cell_type": "code",
   "execution_count": 17,
   "id": "c87824e4",
   "metadata": {},
   "outputs": [
    {
     "data": {
      "text/plain": [
       "array([ 16, 164])"
      ]
     },
     "execution_count": 17,
     "metadata": {},
     "output_type": "execute_result"
    }
   ],
   "source": [
    "slices_with_problem"
   ]
  },
  {
   "cell_type": "code",
   "execution_count": 19,
   "id": "a7928121",
   "metadata": {},
   "outputs": [],
   "source": [
    "for idx, each_image in enumerate(images_with_nan):\n",
    "    nan_places = np.argwhere(np.isnan(each_image))\n",
    "    for nan_position in nan_places:\n",
    "        x_nan, y_nan, z_nan = nan_position\n",
    "        if x_nan == 0:\n",
    "            each_image[x_nan,y_nan,z_nan] = each_image[x_nan+1,y_nan,z_nan]\n",
    "        else:\n",
    "            each_image[x_nan,y_nan,z_nan] = (each_image[x_nan-1,y_nan,z_nan]+each_image[x_nan+1,y_nan,z_nan])/2"
   ]
  },
  {
   "cell_type": "code",
   "execution_count": 20,
   "id": "3c9b486d",
   "metadata": {},
   "outputs": [
    {
     "name": "stdout",
     "output_type": "stream",
     "text": [
      "0\n",
      "0\n",
      "0\n",
      "0\n",
      "0\n",
      "0\n",
      "0\n",
      "0\n",
      "0\n",
      "0\n",
      "0\n",
      "0\n",
      "0\n",
      "0\n",
      "0\n",
      "0\n",
      "0\n",
      "0\n",
      "0\n",
      "0\n",
      "0\n",
      "0\n",
      "0\n",
      "0\n",
      "0\n",
      "0\n",
      "0\n",
      "0\n"
     ]
    }
   ],
   "source": [
    "for idx, each_image in enumerate(images_with_nan):\n",
    "    nan_places = np.argwhere(np.isnan(each_image))\n",
    "    print(len(nan_places))"
   ]
  },
  {
   "cell_type": "code",
   "execution_count": 22,
   "id": "080e3ef5",
   "metadata": {},
   "outputs": [
    {
     "data": {
      "application/vnd.jupyter.widget-view+json": {
       "model_id": "c7486bcf751d42839effda7a1df4b5bd",
       "version_major": 2,
       "version_minor": 0
      },
      "text/plain": [
       "0it [00:00, ?it/s]"
      ]
     },
     "metadata": {},
     "output_type": "display_data"
    }
   ],
   "source": [
    "for idx, each_image_nan in tqdm(enumerate(images_with_nan)):\n",
    "    image_load = nib.load(os.path.join(generated_path, files_with_nan[idx]))\n",
    "    ni_img = nib.Nifti1Image(each_image_nan, image_load.affine, image_load.header)\n",
    "    nib.save(ni_img, generated_path + \"/\" + files_with_nan[idx])"
   ]
  },
  {
   "cell_type": "code",
   "execution_count": null,
   "id": "1cdb0ff2",
   "metadata": {},
   "outputs": [],
   "source": []
  }
 ],
 "metadata": {
  "kernelspec": {
   "display_name": "Python 3 (ipykernel)",
   "language": "python",
   "name": "python3"
  },
  "language_info": {
   "codemirror_mode": {
    "name": "ipython",
    "version": 3
   },
   "file_extension": ".py",
   "mimetype": "text/x-python",
   "name": "python",
   "nbconvert_exporter": "python",
   "pygments_lexer": "ipython3",
   "version": "3.10.11"
  }
 },
 "nbformat": 4,
 "nbformat_minor": 5
}
