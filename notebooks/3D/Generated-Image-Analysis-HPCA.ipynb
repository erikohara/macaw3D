{
 "cells": [
  {
   "cell_type": "code",
   "execution_count": 1,
   "id": "0ccefdbd",
   "metadata": {},
   "outputs": [],
   "source": [
    "import os\n",
    "import sys\n",
    "from pathlib import Path\n",
    "sys.path.append(str(Path(os.getcwd()).parent.parent) +'/')\n",
    "from utils.visualize import img_grid\n",
    "\n",
    "from torchvision import transforms \n",
    "\n",
    "import numpy as np\n",
    "import pandas as pd\n",
    "import torchio as tio\n",
    "import nibabel as nib\n",
    "\n",
    "import ipywidgets as ipyw\n",
    "\n",
    "import matplotlib.pyplot as plt\n",
    "import SimpleITK as sitk\n",
    "import torch\n",
    "from torch import nn\n",
    "from  torch.utils.data import Dataset, DataLoader\n",
    "from tqdm.notebook import tqdm\n",
    "from torchmetrics.image.fid import FrechetInceptionDistance\n",
    "import scipy\n",
    "from sklearn import metrics\n",
    "import json "
   ]
  },
  {
   "cell_type": "code",
   "execution_count": 2,
   "id": "62825b91",
   "metadata": {},
   "outputs": [
    {
     "data": {
      "text/plain": [
       "PosixPath('/home/erik.ohara/macaw')"
      ]
     },
     "execution_count": 2,
     "metadata": {},
     "output_type": "execute_result"
    }
   ],
   "source": [
    "Path(os.getcwd()).parent.parent"
   ]
  },
  {
   "cell_type": "code",
   "execution_count": 3,
   "id": "9f553c5f",
   "metadata": {},
   "outputs": [],
   "source": [
    "macaw_path = str(Path(os.getcwd()).parent.parent)\n",
    "ukbb_path = '/home/erik.ohara/UKBB'\n",
    "original_folder = '/work/forkert_lab/erik/T1_cropped'\n",
    "generated_path = '/work/forkert_lab/erik/MACAW/cf_images/HPCA_post'\n",
    "ukbb_T1_warped_folder = '/work/forkert_lab/erik/T1_warped'\n",
    "predictions_path = '/home/erik.ohara/BrainAge'\n",
    "z_initial = 41\n",
    "z_fim = 140\n",
    "nsamples = 5"
   ]
  },
  {
   "cell_type": "code",
   "execution_count": 4,
   "id": "1a892018",
   "metadata": {},
   "outputs": [],
   "source": [
    "data_path = ukbb_path + '/ukbb_img.csv'\n",
    "df = pd.read_csv(data_path,low_memory=False)"
   ]
  },
  {
   "cell_type": "code",
   "execution_count": 5,
   "id": "d64890e2",
   "metadata": {},
   "outputs": [],
   "source": [
    "predictions_residuals = pd.read_csv(predictions_path + '/predictions_cf_HPCA_18000_five_residuals.csv',low_memory=False)"
   ]
  },
  {
   "cell_type": "markdown",
   "id": "aed88bfe",
   "metadata": {},
   "source": [
    "# Brain age prediction analysis"
   ]
  },
  {
   "cell_type": "code",
   "execution_count": null,
   "id": "cc395f0b",
   "metadata": {},
   "outputs": [],
   "source": [
    "df_cf_pred = "
   ]
  },
  {
   "cell_type": "code",
   "execution_count": null,
   "id": "79fcd581",
   "metadata": {},
   "outputs": [],
   "source": []
  },
  {
   "cell_type": "markdown",
   "id": "db4b12f0",
   "metadata": {},
   "source": [
    "# Image analysis"
   ]
  },
  {
   "cell_type": "code",
   "execution_count": 5,
   "id": "a99ccdb6",
   "metadata": {},
   "outputs": [
    {
     "data": {
      "application/vnd.jupyter.widget-view+json": {
       "model_id": "feb123b57e3f4f2e97b620675873f766",
       "version_major": 2,
       "version_minor": 0
      },
      "text/plain": [
       "  0%|          | 0/200 [00:00<?, ?it/s]"
      ]
     },
     "metadata": {},
     "output_type": "display_data"
    },
    {
     "name": "stdout",
     "output_type": "stream",
     "text": [
      "200\n"
     ]
    }
   ],
   "source": [
    "# Getting the generated images\n",
    "subjects_eid = np.array([])\n",
    "cf_age = np.array([])\n",
    "cf_sex = np.array([])\n",
    "images_generated = []\n",
    "files_generated = []\n",
    "for file in tqdm(os.listdir(generated_path)):\n",
    "    if '.nii' in file:\n",
    "        files_generated.append(file)\n",
    "        splits = file.split(\"_\")\n",
    "        subject_eid = int(splits[0])\n",
    "        age = splits[1]\n",
    "        sex = splits[2].split(\".\")[0]\n",
    "        subjects_eid = np.append(subjects_eid,subject_eid)\n",
    "        cf_age = np.append(cf_age, age)\n",
    "        cf_sex = np.append(cf_sex, sex)\n",
    "        image_load = nib.load(os.path.join(generated_path, file)).get_fdata()\n",
    "        images_generated.append(image_load)\n",
    "print(len(images_generated))\n",
    "images_generated = np.array(images_generated)"
   ]
  },
  {
   "cell_type": "code",
   "execution_count": 6,
   "id": "27e71c33",
   "metadata": {},
   "outputs": [
    {
     "data": {
      "application/vnd.jupyter.widget-view+json": {
       "model_id": "68252196b84f43b2a8ed5df00f1ce5c0",
       "version_major": 2,
       "version_minor": 0
      },
      "text/plain": [
       "  0%|          | 0/200 [00:00<?, ?it/s]"
      ]
     },
     "metadata": {},
     "output_type": "display_data"
    },
    {
     "name": "stdout",
     "output_type": "stream",
     "text": [
      "200\n"
     ]
    }
   ],
   "source": [
    "# Getting the original images\n",
    "images_original = []\n",
    "real_age = []\n",
    "real_sex = []\n",
    "for individual in tqdm(subjects_eid):\n",
    "    individual = int(individual)\n",
    "    real_age.append(df[df[\"eid\"] == individual][\"Age\"].item())\n",
    "    real_sex.append(df[df[\"eid\"] == individual][\"Sex\"].item())\n",
    "    image_load = nib.load(os.path.join(original_folder, str(individual) + \".nii.gz\")).get_fdata()\n",
    "    images_original.append(image_load)\n",
    "real_age = np.array(real_age)\n",
    "real_sex = np.array(real_sex)\n",
    "images_original = np.array(images_original)\n",
    "print(len(images_original))"
   ]
  },
  {
   "cell_type": "code",
   "execution_count": null,
   "id": "565c4551",
   "metadata": {},
   "outputs": [],
   "source": []
  },
  {
   "cell_type": "code",
   "execution_count": 7,
   "id": "24cce366",
   "metadata": {},
   "outputs": [
    {
     "data": {
      "text/plain": [
       "(200, 150, 150, 100)"
      ]
     },
     "execution_count": 7,
     "metadata": {},
     "output_type": "execute_result"
    }
   ],
   "source": [
    "images_original.shape"
   ]
  },
  {
   "cell_type": "code",
   "execution_count": 8,
   "id": "2b15e6e9",
   "metadata": {},
   "outputs": [
    {
     "data": {
      "text/plain": [
       "'\\ngenerated_shape = images_generated[0].shape\\noriginal_shape = images_original[0].shape\\nx_initial = int((original_shape[0] - generated_shape[0])/2)\\nx_fim = x_initial +  generated_shape[0]\\ny_initial = int((original_shape[1] - generated_shape[1])/2)\\ny_fim = y_initial +  generated_shape[1]\\nimages_original = [image[x_initial:x_fim,y_initial:y_fim,z_initial:z_fim+1] for image in images_original]\\n'"
      ]
     },
     "execution_count": 8,
     "metadata": {},
     "output_type": "execute_result"
    }
   ],
   "source": [
    "#cropping original image\n",
    "'''\n",
    "generated_shape = images_generated[0].shape\n",
    "original_shape = images_original[0].shape\n",
    "x_initial = int((original_shape[0] - generated_shape[0])/2)\n",
    "x_fim = x_initial +  generated_shape[0]\n",
    "y_initial = int((original_shape[1] - generated_shape[1])/2)\n",
    "y_fim = y_initial +  generated_shape[1]\n",
    "images_original = [image[x_initial:x_fim,y_initial:y_fim,z_initial:z_fim+1] for image in images_original]\n",
    "'''"
   ]
  },
  {
   "cell_type": "code",
   "execution_count": 9,
   "id": "c04cb9b3",
   "metadata": {},
   "outputs": [],
   "source": [
    "images_original_normalized = np.copy(images_original)"
   ]
  },
  {
   "cell_type": "code",
   "execution_count": 10,
   "id": "d86209ff",
   "metadata": {},
   "outputs": [],
   "source": [
    "images_generated_normalized = np.copy(images_generated)"
   ]
  },
  {
   "cell_type": "code",
   "execution_count": 11,
   "id": "d7f16e54",
   "metadata": {},
   "outputs": [],
   "source": [
    "# Normalizing\n",
    "for one_image in images_original_normalized:\n",
    "    maxv = np.max(one_image[:,:,:])\n",
    "    one_image[:,:,:] = ((one_image[:,:,:]) / maxv)"
   ]
  },
  {
   "cell_type": "code",
   "execution_count": 12,
   "id": "0f9608b0",
   "metadata": {},
   "outputs": [],
   "source": [
    "# Normalizing Generated\n",
    "for one_image in images_generated_normalized:\n",
    "    maxv = np.max(one_image[:,:,:])\n",
    "    one_image[:,:,:] = ((one_image[:,:,:]) / maxv)\n"
   ]
  },
  {
   "cell_type": "markdown",
   "id": "ddbb3515",
   "metadata": {},
   "source": [
    "## Frechet Inception Distance (FID) Inceptionv3 - Original X Generated"
   ]
  },
  {
   "cell_type": "code",
   "execution_count": 25,
   "id": "97ed13a7",
   "metadata": {},
   "outputs": [],
   "source": [
    "torch_images_original = torch.from_numpy(images_original_normalized)\n",
    "torch_images_generated = torch.from_numpy(images_generated_normalized)\n",
    "# Add channel dimension\n",
    "torch_images_original = torch_images_original[:,None, :,:, :]\n",
    "torch_images_generated = torch_images_generated[:,None, :,:, :]"
   ]
  },
  {
   "cell_type": "code",
   "execution_count": 26,
   "id": "26646e6a",
   "metadata": {},
   "outputs": [],
   "source": [
    "# https://torchmetrics.readthedocs.io/en/stable/image/frechet_inception_distance.html\n",
    "\n",
    "batch_size, channel, x_size, y_size, z_size = torch_images_original.shape\n",
    "\n",
    "torch_images_original = nn.functional.interpolate(torch_images_original, size=[299, 299,z_size])\n",
    "torch_images_generated = nn.functional.interpolate(torch_images_generated,size=[299, 299,z_size])"
   ]
  },
  {
   "cell_type": "code",
   "execution_count": 27,
   "id": "cf5477ef",
   "metadata": {},
   "outputs": [],
   "source": [
    "padding = torch.zeros(batch_size, 2, 299, 299, z_size)"
   ]
  },
  {
   "cell_type": "code",
   "execution_count": 28,
   "id": "cc4d4616",
   "metadata": {},
   "outputs": [],
   "source": [
    "torch_images_original = torch.cat((torch_images_original, padding), 1)\n",
    "torch_images_generated = torch.cat((torch_images_generated, padding), 1)"
   ]
  },
  {
   "cell_type": "code",
   "execution_count": 29,
   "id": "5bec08c6",
   "metadata": {},
   "outputs": [
    {
     "data": {
      "application/vnd.jupyter.widget-view+json": {
       "model_id": "661a66409622432481f10d2742bbe347",
       "version_major": 2,
       "version_minor": 0
      },
      "text/plain": [
       "  0%|          | 0/100 [00:00<?, ?it/s]"
      ]
     },
     "metadata": {},
     "output_type": "display_data"
    }
   ],
   "source": [
    "metric = FrechetInceptionDistance(feature=2048, normalize=True)\n",
    "np_fid = np.array([])\n",
    "\n",
    "for z_slice in tqdm(range(images_generated.shape[3])):\n",
    "    metric.update(torch_images_original[:,:,:,:,z_slice], real=True)\n",
    "    metric.update(torch_images_generated[:,:,:,:,z_slice], real=False)\n",
    "    np_fid = np.append(np_fid, metric.compute())\n",
    "    metric.reset()"
   ]
  },
  {
   "cell_type": "code",
   "execution_count": 30,
   "id": "3d22b151",
   "metadata": {},
   "outputs": [
    {
     "name": "stdout",
     "output_type": "stream",
     "text": [
      "68.55696830749511\n",
      "11.947098423174285\n",
      "55.930015563964844\n",
      "101.45439910888672\n"
     ]
    }
   ],
   "source": [
    "print(np_fid.mean())\n",
    "print(np_fid.std())\n",
    "print(np_fid.min())\n",
    "print(np_fid.max())"
   ]
  },
  {
   "cell_type": "markdown",
   "id": "b413e4e1",
   "metadata": {},
   "source": [
    "## Frechet Inception Distance (FID) Inceptionv3 - Original X Other subjects with 55 and 70"
   ]
  },
  {
   "cell_type": "code",
   "execution_count": null,
   "id": "4cdc9c13",
   "metadata": {},
   "outputs": [],
   "source": [
    "# Getting random subjects with 55 and 70\n",
    "df_55 = df[df['Age'] == 55]['eid'].to_numpy()\n",
    "df_70 = df[df['Age'] == 70]['eid'].to_numpy()\n",
    "random_quantity_55 = int(batch_size / 2)\n",
    "random_quantity_70 = batch_size - random_quantity_55\n",
    "no_repeated = False\n",
    "\n",
    "while (no_repeated == False):\n",
    "    random_55 = np.random.randint(0,len(df_55),random_quantity_55) \n",
    "    random_70 = np.random.randint(0,len(df_70),random_quantity_70) \n",
    "    eid_55_random = df_55[random_55]\n",
    "    eid_70_random = df_70[random_70]\n",
    "    repeated_55 = False\n",
    "    for each_eid in eid_55_random:\n",
    "        if each_eid in subjects_eid:\n",
    "            print(\"Error\")\n",
    "            print(each_eid)\n",
    "            repeated_55 = True\n",
    "    repeated_70 = False\n",
    "    for each_eid in eid_70_random:\n",
    "        if each_eid in subjects_eid:\n",
    "            print(\"Error\")\n",
    "            print(each_eid)\n",
    "            repeated_70 = True\n",
    "    if ((repeated_70 == False) and (repeated_55 == False)):   \n",
    "        no_repeated = True"
   ]
  },
  {
   "cell_type": "code",
   "execution_count": null,
   "id": "885c5e97",
   "metadata": {},
   "outputs": [],
   "source": [
    "for each_eid in eid_55_random:\n",
    "    if each_eid in subjects_eid:\n",
    "        print(\"Error\")\n",
    "        print(each_eid)"
   ]
  },
  {
   "cell_type": "code",
   "execution_count": null,
   "id": "a2f9d9d1",
   "metadata": {},
   "outputs": [],
   "source": [
    "for each_eid in eid_70_random:\n",
    "    if each_eid in subjects_eid:\n",
    "        print(\"Error\")\n",
    "        print(each_eid)"
   ]
  },
  {
   "cell_type": "code",
   "execution_count": null,
   "id": "0601a68d",
   "metadata": {},
   "outputs": [],
   "source": [
    "# Getting the original images with 55 and 70\n",
    "images_real = []\n",
    "\n",
    "for individual in tqdm(subjects_eid):\n",
    "    individual = int(individual)\n",
    "    if os.path.exists(ukbb_T1_warped_folder + '/train/' + str(individual) + \".nii.gz\"):\n",
    "        image_load = nib.load(os.path.join(ukbb_T1_warped_folder,'train', str(individual) + \".nii.gz\")).get_fdata()\n",
    "    elif os.path.exists(ukbb_T1_warped_folder + '/val/' + str(individual) + \".nii.gz\"):\n",
    "        image_load = nib.load(os.path.join(ukbb_T1_warped_folder,'val', str(individual) + \".nii.gz\")).get_fdata()\n",
    "    else:\n",
    "        image_load = nib.load(os.path.join(ukbb_T1_warped_folder,'test', str(individual) + \".nii.gz\")).get_fdata()\n",
    "    images_real.append(image_load)\n",
    "images_real = np.array(images_real)"
   ]
  },
  {
   "cell_type": "code",
   "execution_count": null,
   "id": "cc4e6d2a",
   "metadata": {},
   "outputs": [],
   "source": [
    "#cropping real image\n",
    "generated_shape = images_generated[0].shape\n",
    "real_shape = images_real[0].shape\n",
    "x_initial = int((real_shape[0] - generated_shape[0])/2)\n",
    "x_fim = x_initial +  generated_shape[0]\n",
    "y_initial = int((real_shape[1] - generated_shape[1])/2)\n",
    "y_fim = y_initial +  generated_shape[1]\n",
    "images_real = [image[x_initial:x_fim,y_initial:y_fim,z_initial:z_fim+1] for image in images_real]"
   ]
  },
  {
   "cell_type": "code",
   "execution_count": null,
   "id": "bb677bd4",
   "metadata": {},
   "outputs": [],
   "source": [
    "# Normalizing\n",
    "for one_image in images_real:\n",
    "    maxv = np.max(one_image[:,:,:])\n",
    "    one_image[:,:,:] = ((one_image[:,:,:]) / maxv)"
   ]
  },
  {
   "cell_type": "code",
   "execution_count": null,
   "id": "562265c5",
   "metadata": {},
   "outputs": [],
   "source": [
    "images_real = np.array(images_real)"
   ]
  },
  {
   "cell_type": "code",
   "execution_count": null,
   "id": "75afcb7a",
   "metadata": {},
   "outputs": [],
   "source": [
    "torch_images_real = torch.from_numpy(images_real)\n",
    "# Add channel dimension\n",
    "torch_images_real = torch_images_real[:,None, :,:, :]\n",
    "\n",
    "batch_size, channel, x_size, y_size, z_size = torch_images_real.shape\n",
    "\n",
    "torch_images_real = nn.functional.interpolate(torch_images_real, size=[299, 299,z_size])"
   ]
  },
  {
   "cell_type": "code",
   "execution_count": null,
   "id": "e1c2b9ae",
   "metadata": {},
   "outputs": [],
   "source": [
    "# padding \n",
    "torch_images_real = torch.cat((torch_images_real, padding), 1)"
   ]
  },
  {
   "cell_type": "code",
   "execution_count": null,
   "id": "cdcaf370",
   "metadata": {},
   "outputs": [],
   "source": [
    "np_fid_baseline = np.array([])\n",
    "metric.reset()\n",
    "\n",
    "for z_slice in tqdm(range(images_generated.shape[3])):\n",
    "    metric.update(torch_images_original[:,:,:,:,z_slice], real=True)\n",
    "    metric.update(torch_images_real[:,:,:,:,z_slice], real=False)\n",
    "    np_fid_baseline = np.append(np_fid_baseline, metric.compute())\n",
    "    metric.reset()"
   ]
  },
  {
   "cell_type": "code",
   "execution_count": null,
   "id": "b9204aa9",
   "metadata": {},
   "outputs": [],
   "source": [
    "len(np_fid)"
   ]
  },
  {
   "cell_type": "code",
   "execution_count": null,
   "id": "01f6ab33",
   "metadata": {},
   "outputs": [],
   "source": [
    "print(np_fid_baseline.mean())\n",
    "print(np_fid_baseline.std())\n",
    "print(np_fid_baseline.min())\n",
    "print(np_fid_baseline.max())"
   ]
  },
  {
   "cell_type": "code",
   "execution_count": null,
   "id": "c3570b29",
   "metadata": {},
   "outputs": [],
   "source": [
    "print(np_fid)\n",
    "print(np_fid_baseline)"
   ]
  },
  {
   "cell_type": "code",
   "execution_count": null,
   "id": "424adf2c",
   "metadata": {},
   "outputs": [],
   "source": [
    "len(np_fid)"
   ]
  },
  {
   "cell_type": "code",
   "execution_count": null,
   "id": "a1cff90c",
   "metadata": {},
   "outputs": [],
   "source": [
    "print(np_fid)"
   ]
  },
  {
   "cell_type": "markdown",
   "id": "5268a45b",
   "metadata": {},
   "source": [
    "## Difference map"
   ]
  },
  {
   "cell_type": "code",
   "execution_count": 19,
   "id": "0022081c",
   "metadata": {},
   "outputs": [],
   "source": [
    "rands = np.random.randint(0,len(images_generated_normalized),nsamples) \n",
    "images_generated_rand = images_generated_normalized[rands]\n",
    "image_original_rand = images_original_normalized[rands]\n",
    "subjects_eid_rand  = subjects_eid[rands].astype(int)\n",
    "cf_age_rand  = cf_age[rands]\n",
    "cf_sex_rand  = cf_sex[rands]\n",
    "real_age_rand = real_age[rands]\n",
    "real_sex_rand = real_sex[rands]"
   ]
  },
  {
   "cell_type": "code",
   "execution_count": 20,
   "id": "fdfee7e9",
   "metadata": {},
   "outputs": [
    {
     "data": {
      "text/plain": [
       "array([1094712, 5772680, 1876171, 3458141, 3290047])"
      ]
     },
     "execution_count": 20,
     "metadata": {},
     "output_type": "execute_result"
    }
   ],
   "source": [
    "subjects_eid_rand"
   ]
  },
  {
   "cell_type": "code",
   "execution_count": 21,
   "id": "123d8614",
   "metadata": {},
   "outputs": [],
   "source": [
    "titles_cf = [f'Age:{a}, Sex:{s}' for a,s in zip(cf_age_rand,cf_sex_rand)]\n",
    "real_sex_rand = ['M' if round(s) else 'F' for s in real_sex_rand]\n",
    "titles_real = [f'Age:{a}, Sex:{s}' for a,s in zip(real_age_rand,real_sex_rand)]"
   ]
  },
  {
   "cell_type": "code",
   "execution_count": 22,
   "id": "bef42f11",
   "metadata": {},
   "outputs": [],
   "source": [
    "# Mapping the difference\n",
    "\n",
    "diff = [np.subtract(a,s) for a,s in zip(image_original_rand,images_generated_rand)]"
   ]
  },
  {
   "cell_type": "code",
   "execution_count": 23,
   "id": "edc06abe",
   "metadata": {},
   "outputs": [],
   "source": [
    "def plot_slice(z_slice):\n",
    "    order_slice = z_slice - z_initial\n",
    "    plt.rcParams[\"figure.figsize\"] = (20,5)\n",
    "    img_grid([one_image[:,:,order_slice] for one_image in image_original_rand],cols=nsamples,titles=titles_real)\n",
    "    img_grid([one_image[:,:,order_slice] for one_image in images_generated_rand],cols=nsamples,titles=titles_cf)\n",
    "    img_grid([one_image[:,:,order_slice] for one_image in diff],cols=nsamples, cmap='seismic', clim=(-1,1))"
   ]
  },
  {
   "cell_type": "code",
   "execution_count": 24,
   "id": "6f4545dc",
   "metadata": {},
   "outputs": [
    {
     "data": {
      "application/vnd.jupyter.widget-view+json": {
       "model_id": "ed39e8ef292049ea86c59279f7bf60fd",
       "version_major": 2,
       "version_minor": 0
      },
      "text/plain": [
       "interactive(children=(IntSlider(value=41, continuous_update=False, description='Image Slice:', max=140, min=41…"
      ]
     },
     "metadata": {},
     "output_type": "display_data"
    },
    {
     "data": {
      "text/plain": [
       "<function __main__.plot_slice(z_slice)>"
      ]
     },
     "execution_count": 24,
     "metadata": {},
     "output_type": "execute_result"
    }
   ],
   "source": [
    "ipyw.interact(plot_slice, \n",
    "              z_slice=ipyw.IntSlider(min=z_initial, max=z_fim, step=1, continuous_update=False, description='Image Slice:'))"
   ]
  },
  {
   "cell_type": "code",
   "execution_count": null,
   "id": "47ba94a4",
   "metadata": {},
   "outputs": [],
   "source": []
  },
  {
   "cell_type": "code",
   "execution_count": null,
   "id": "0aa3d5d3",
   "metadata": {},
   "outputs": [],
   "source": []
  }
 ],
 "metadata": {
  "kernelspec": {
   "display_name": "Python 3 (ipykernel)",
   "language": "python",
   "name": "python3"
  },
  "language_info": {
   "codemirror_mode": {
    "name": "ipython",
    "version": 3
   },
   "file_extension": ".py",
   "mimetype": "text/x-python",
   "name": "python",
   "nbconvert_exporter": "python",
   "pygments_lexer": "ipython3",
   "version": "3.10.11"
  }
 },
 "nbformat": 4,
 "nbformat_minor": 5
}
