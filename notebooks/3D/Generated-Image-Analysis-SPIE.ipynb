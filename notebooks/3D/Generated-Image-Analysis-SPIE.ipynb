{
 "cells": [
  {
   "cell_type": "code",
   "execution_count": 1,
   "id": "0ccefdbd",
   "metadata": {},
   "outputs": [],
   "source": [
    "import os\n",
    "import sys\n",
    "from pathlib import Path\n",
    "sys.path.append(str(Path(os.getcwd()).parent.parent) +'/')\n",
    "from utils.visualize import img_grid\n",
    "\n",
    "from torchvision import transforms \n",
    "\n",
    "import numpy as np\n",
    "import pandas as pd\n",
    "import torchio as tio\n",
    "import nibabel as nib\n",
    "\n",
    "import ipywidgets as ipyw\n",
    "\n",
    "import matplotlib.pyplot as plt\n",
    "import SimpleITK as sitk\n",
    "import torch\n",
    "from torch import nn\n",
    "from  torch.utils.data import Dataset, DataLoader\n",
    "from tqdm.notebook import tqdm\n",
    "from torchmetrics.image.fid import FrechetInceptionDistance\n",
    "import scipy\n",
    "from sklearn import metrics\n",
    "import json \n",
    "import imageio as iio"
   ]
  },
  {
   "cell_type": "code",
   "execution_count": 2,
   "id": "62825b91",
   "metadata": {},
   "outputs": [
    {
     "data": {
      "text/plain": [
       "PosixPath('/home/erik.ohara/macaw')"
      ]
     },
     "execution_count": 2,
     "metadata": {},
     "output_type": "execute_result"
    }
   ],
   "source": [
    "Path(os.getcwd()).parent.parent"
   ]
  },
  {
   "cell_type": "code",
   "execution_count": 3,
   "id": "9f553c5f",
   "metadata": {},
   "outputs": [],
   "source": [
    "macaw_path = str(Path(os.getcwd()).parent.parent)\n",
    "ukbb_path = '/home/erik.ohara/UKBB'\n",
    "original_folder = '/work/forkert_lab/erik/T1_cropped'\n",
    "generated_path = '/work/forkert_lab/erik/MACAW/cf_images/PCA_five_diff_res_hm'\n",
    "ukbb_T1_warped_folder = '/work/forkert_lab/erik/T1_warped'\n",
    "z_initial = 41\n",
    "z_fim = 140\n",
    "nsamples = 5\n",
    "predictions_orig = '/home/erik.ohara/BrainAge/predictions_all-2.csv'\n",
    "predictions_cf = '/home/erik.ohara/BrainAge/predictions_cf_five_res_hm.csv'\n",
    "predictions_cf_56 = '/home/erik.ohara/BrainAge/predictions_cf_PCA_sklearn_56.csv'\n",
    "predictions_cf_64 = '/home/erik.ohara/BrainAge/predictions_cf_PCA_sklearn_64.csv'\n",
    "predictions_cf_71 = '/home/erik.ohara/BrainAge/predictions_cf_PCA_sklearn_71.csv'\n",
    "train_path = '/work/forkert_lab/erik/T1_warped/train'\n",
    "val_path = '/work/forkert_lab/erik/T1_warped/val'"
   ]
  },
  {
   "cell_type": "code",
   "execution_count": null,
   "id": "4b37b770",
   "metadata": {},
   "outputs": [],
   "source": [
    "img_45 = iio.imread('/work/forkert_lab/erik/SPIE/45.png')\n",
    "img_63 = iio.imread('/work/forkert_lab/erik/SPIE/63.png')"
   ]
  },
  {
   "cell_type": "code",
   "execution_count": null,
   "id": "ddf16ba9",
   "metadata": {},
   "outputs": [],
   "source": [
    "img_45.shape"
   ]
  },
  {
   "cell_type": "code",
   "execution_count": null,
   "id": "b9e9dbe4",
   "metadata": {},
   "outputs": [],
   "source": [
    "# Calculate grayscale values\n",
    "img_45 = 0.07 * img_45[:, :, 2] + 0.72 * img_45[:, :, 1] + 0.21 * img_45[:, :, 0]\n",
    "\n",
    "# Convert to uint8 (8-bit) format\n",
    "img_45 = img_45.astype(np.uint8)"
   ]
  },
  {
   "cell_type": "code",
   "execution_count": null,
   "id": "f2e75a78",
   "metadata": {},
   "outputs": [],
   "source": [
    "# Calculate grayscale values\n",
    "img_63 = 0.07 * img_63[:, :, 2] + 0.72 * img_63[:, :, 1] + 0.21 * img_63[:, :, 0]\n",
    "\n",
    "# Convert to uint8 (8-bit) format\n",
    "img_63 = img_63.astype(np.uint8)"
   ]
  },
  {
   "cell_type": "code",
   "execution_count": null,
   "id": "367a1e4b",
   "metadata": {},
   "outputs": [],
   "source": [
    "img_45 = img_45/img_45.max()"
   ]
  },
  {
   "cell_type": "code",
   "execution_count": null,
   "id": "c97b28ef",
   "metadata": {},
   "outputs": [],
   "source": [
    "img_63 = img_63/img_63.max()"
   ]
  },
  {
   "cell_type": "code",
   "execution_count": null,
   "id": "9e6c3901",
   "metadata": {},
   "outputs": [],
   "source": [
    "plt.imshow(img_45,cmap='gray')\n",
    "plt.show()"
   ]
  },
  {
   "cell_type": "code",
   "execution_count": null,
   "id": "4f1cc998",
   "metadata": {},
   "outputs": [],
   "source": [
    "plt.imshow(img_63,cmap='gray')\n",
    "plt.show()"
   ]
  },
  {
   "cell_type": "code",
   "execution_count": null,
   "id": "3dbe29e0",
   "metadata": {},
   "outputs": [],
   "source": [
    "diff = np.subtract(img_45,img_63)"
   ]
  },
  {
   "cell_type": "code",
   "execution_count": null,
   "id": "c6ea8934",
   "metadata": {},
   "outputs": [],
   "source": []
  },
  {
   "cell_type": "code",
   "execution_count": null,
   "id": "5bfce2eb",
   "metadata": {},
   "outputs": [],
   "source": [
    "plt.imshow(diff, cmap='seismic',clim=(-1,1))\n",
    "plt.axis('off')\n",
    "plt.show()"
   ]
  },
  {
   "cell_type": "code",
   "execution_count": 4,
   "id": "1a892018",
   "metadata": {},
   "outputs": [],
   "source": [
    "data_path = ukbb_path + '/ukbb_img.csv'\n",
    "df = pd.read_csv(data_path,low_memory=False)"
   ]
  },
  {
   "cell_type": "code",
   "execution_count": 5,
   "id": "a068e836",
   "metadata": {},
   "outputs": [],
   "source": [
    "df_train = pd.DataFrame(columns=df.columns)\n",
    "for each_file in os.listdir(train_path):\n",
    "    if '.nii' in each_file:\n",
    "        file_id = each_file.split('.nii')[0]\n",
    "        df_train = pd.concat([df[df['eid'] == int(file_id)],df_train.loc[:]]).reset_index(drop=True)\n",
    "df_train.sort_values(by=['eid'], inplace=True)"
   ]
  },
  {
   "cell_type": "code",
   "execution_count": 6,
   "id": "11f8a0fb",
   "metadata": {},
   "outputs": [],
   "source": [
    "df_orig = pd.read_csv(predictions_orig)\n",
    "df_cf = pd.read_csv(predictions_cf)\n",
    "df_cf_56 = pd.read_csv(predictions_cf_56)\n",
    "df_cf_64 = pd.read_csv(predictions_cf_64)\n",
    "df_cf_71 = pd.read_csv(predictions_cf_71)"
   ]
  },
  {
   "cell_type": "code",
   "execution_count": null,
   "id": "85f69630",
   "metadata": {},
   "outputs": [],
   "source": [
    "df_orig['ABSError'].describe()"
   ]
  },
  {
   "cell_type": "code",
   "execution_count": null,
   "id": "388352b7",
   "metadata": {},
   "outputs": [],
   "source": [
    "df_cf['ABSError'].describe()"
   ]
  },
  {
   "cell_type": "code",
   "execution_count": null,
   "id": "461777b7",
   "metadata": {},
   "outputs": [],
   "source": [
    "df_cf_56['Prediction'].describe()"
   ]
  },
  {
   "cell_type": "code",
   "execution_count": null,
   "id": "62c2816d",
   "metadata": {},
   "outputs": [],
   "source": [
    "df_cf_64['Prediction'].describe()"
   ]
  },
  {
   "cell_type": "code",
   "execution_count": null,
   "id": "63798d07",
   "metadata": {},
   "outputs": [],
   "source": [
    "df_cf_71['Prediction'].describe()"
   ]
  },
  {
   "cell_type": "code",
   "execution_count": null,
   "id": "f3ba6d26",
   "metadata": {},
   "outputs": [],
   "source": [
    "df_cf_56_64_71 = pd.concat([df_cf_56,df_cf_64,df_cf_71])"
   ]
  },
  {
   "cell_type": "code",
   "execution_count": null,
   "id": "258a1c18",
   "metadata": {},
   "outputs": [],
   "source": [
    "df_cf_56_64_71"
   ]
  },
  {
   "cell_type": "code",
   "execution_count": null,
   "id": "b2657adf",
   "metadata": {},
   "outputs": [],
   "source": [
    "# Getting the best and the worst \n",
    "df_cf.nlargest(nsamples, 'ABSError')"
   ]
  },
  {
   "cell_type": "code",
   "execution_count": null,
   "id": "806995c7",
   "metadata": {},
   "outputs": [],
   "source": [
    "df_cf.nsmallest(nsamples, 'ABSError')"
   ]
  },
  {
   "cell_type": "code",
   "execution_count": 6,
   "id": "2ff6ac23",
   "metadata": {},
   "outputs": [],
   "source": [
    "#subjects_eid_worst = df_cf.nlargest(5, 'ABSError')['EID']\n",
    "#subjects_eid_best = df_cf.nsmallest(5, 'ABSError')['EID']\n",
    "subjects_eid_best = [1052625,4431304,2582745,4518612,3139804]"
   ]
  },
  {
   "cell_type": "code",
   "execution_count": 7,
   "id": "b2cbfc91",
   "metadata": {},
   "outputs": [
    {
     "data": {
      "application/vnd.jupyter.widget-view+json": {
       "model_id": "a1c3ef5ab1974bc8a1f44a16f5489180",
       "version_major": 2,
       "version_minor": 0
      },
      "text/plain": [
       "  0%|          | 0/5 [00:00<?, ?it/s]"
      ]
     },
     "metadata": {},
     "output_type": "display_data"
    },
    {
     "data": {
      "text/plain": [
       "'            \\ncf_age_worst = np.array([])\\ncf_sex_worst = np.array([])\\nimages_generated_worst = []\\nfiles_generated_worst = []\\nfor individual in tqdm(subjects_eid_worst):\\n     for file in os.listdir(generated_path):\\n        if \\'.nii\\' in file:\\n            splits = file.split(\"_\")\\n            subject_eid = int(splits[0])\\n            if int(subject_eid) == individual:\\n                files_generated_worst.append(file)\\n                age = splits[1]\\n                sex = splits[2].split(\".\")[0]\\n                cf_age_worst = np.append(cf_age_worst, age)\\n                cf_sex_worst = np.append(cf_sex_worst, sex)\\n                image_load = nib.load(os.path.join(generated_path, file)).get_fdata()\\n                images_generated_worst.append(image_load)\\n\\nimages_generated_worst = np.array(images_generated_worst)\\n'"
      ]
     },
     "execution_count": 7,
     "metadata": {},
     "output_type": "execute_result"
    }
   ],
   "source": [
    "# Getting the generated best and worst images\n",
    "cf_age_best = np.array([])\n",
    "cf_sex_best = np.array([])\n",
    "images_generated_best = []\n",
    "files_generated_best = []\n",
    "for individual in tqdm(subjects_eid_best):\n",
    "    for file in os.listdir(generated_path):\n",
    "        if '.nii' in file:\n",
    "            splits = file.split(\"_\")\n",
    "            subject_eid = int(splits[0])\n",
    "            if int(subject_eid) == individual:\n",
    "                files_generated_best.append(file)\n",
    "                age = splits[1]\n",
    "                sex = splits[2].split(\".\")[0]\n",
    "                cf_age_best = np.append(cf_age_best, age)\n",
    "                cf_sex_best = np.append(cf_sex_best, sex)\n",
    "                image_load = nib.load(os.path.join(generated_path, file)).get_fdata()\n",
    "                images_generated_best.append(image_load)\n",
    "            \n",
    "images_generated_best = np.array(images_generated_best)\n",
    "'''            \n",
    "cf_age_worst = np.array([])\n",
    "cf_sex_worst = np.array([])\n",
    "images_generated_worst = []\n",
    "files_generated_worst = []\n",
    "for individual in tqdm(subjects_eid_worst):\n",
    "     for file in os.listdir(generated_path):\n",
    "        if '.nii' in file:\n",
    "            splits = file.split(\"_\")\n",
    "            subject_eid = int(splits[0])\n",
    "            if int(subject_eid) == individual:\n",
    "                files_generated_worst.append(file)\n",
    "                age = splits[1]\n",
    "                sex = splits[2].split(\".\")[0]\n",
    "                cf_age_worst = np.append(cf_age_worst, age)\n",
    "                cf_sex_worst = np.append(cf_sex_worst, sex)\n",
    "                image_load = nib.load(os.path.join(generated_path, file)).get_fdata()\n",
    "                images_generated_worst.append(image_load)\n",
    "\n",
    "images_generated_worst = np.array(images_generated_worst)\n",
    "'''"
   ]
  },
  {
   "cell_type": "code",
   "execution_count": 8,
   "id": "a99ccdb6",
   "metadata": {},
   "outputs": [
    {
     "data": {
      "application/vnd.jupyter.widget-view+json": {
       "model_id": "10038951e128473aa57b0d69cb88cb9b",
       "version_major": 2,
       "version_minor": 0
      },
      "text/plain": [
       "  0%|          | 0/5 [00:00<?, ?it/s]"
      ]
     },
     "metadata": {},
     "output_type": "display_data"
    },
    {
     "name": "stdout",
     "output_type": "stream",
     "text": [
      "5\n"
     ]
    },
    {
     "data": {
      "text/plain": [
       "'\\nimages_original_worst = []\\nreal_age_worst = []\\nreal_sex_worst = []\\nfor individual in tqdm(subjects_eid_worst):\\n    individual = int(individual)\\n    real_age_worst.append(df[df[\"eid\"] == individual][\"Age\"].item())\\n    real_sex_worst.append(df[df[\"eid\"] == individual][\"Sex\"].item())\\n    image_load = nib.load(os.path.join(original_folder, str(individual) + \".nii.gz\")).get_fdata()\\n    images_original_worst.append(image_load)\\nreal_age_worst = np.array(real_age_worst)\\nreal_sex_worst = np.array(real_sex_worst)\\nimages_original_worst = np.array(images_original_worst)\\nprint(len(images_original_worst))\\n'"
      ]
     },
     "execution_count": 8,
     "metadata": {},
     "output_type": "execute_result"
    }
   ],
   "source": [
    "# Getting the original best and worst images\n",
    "images_original_best = []\n",
    "real_age_best = []\n",
    "real_sex_best = []\n",
    "for individual in tqdm(subjects_eid_best):\n",
    "    individual = int(individual)\n",
    "    real_age_best.append(df[df[\"eid\"] == individual][\"Age\"].item())\n",
    "    real_sex_best.append(df[df[\"eid\"] == individual][\"Sex\"].item())\n",
    "    image_load = nib.load(os.path.join(original_folder, str(individual) + \".nii.gz\")).get_fdata()\n",
    "    images_original_best.append(image_load)\n",
    "real_age_best = np.array(real_age_best)\n",
    "real_sex_best = np.array(real_sex_best)\n",
    "images_original_best = np.array(images_original_best)\n",
    "print(len(images_original_best))\n",
    "'''\n",
    "images_original_worst = []\n",
    "real_age_worst = []\n",
    "real_sex_worst = []\n",
    "for individual in tqdm(subjects_eid_worst):\n",
    "    individual = int(individual)\n",
    "    real_age_worst.append(df[df[\"eid\"] == individual][\"Age\"].item())\n",
    "    real_sex_worst.append(df[df[\"eid\"] == individual][\"Sex\"].item())\n",
    "    image_load = nib.load(os.path.join(original_folder, str(individual) + \".nii.gz\")).get_fdata()\n",
    "    images_original_worst.append(image_load)\n",
    "real_age_worst = np.array(real_age_worst)\n",
    "real_sex_worst = np.array(real_sex_worst)\n",
    "images_original_worst = np.array(images_original_worst)\n",
    "print(len(images_original_worst))\n",
    "'''"
   ]
  },
  {
   "cell_type": "code",
   "execution_count": 9,
   "id": "565c4551",
   "metadata": {},
   "outputs": [],
   "source": [
    "#images_generated_worst.shape"
   ]
  },
  {
   "cell_type": "code",
   "execution_count": 10,
   "id": "24cce366",
   "metadata": {},
   "outputs": [
    {
     "data": {
      "text/plain": [
       "(5, 150, 150, 100)"
      ]
     },
     "execution_count": 10,
     "metadata": {},
     "output_type": "execute_result"
    }
   ],
   "source": [
    "images_original_best.shape"
   ]
  },
  {
   "cell_type": "code",
   "execution_count": 11,
   "id": "2b15e6e9",
   "metadata": {},
   "outputs": [
    {
     "data": {
      "text/plain": [
       "'\\ngenerated_shape = images_generated_best[0].shape\\noriginal_shape = images_original_best[0].shape\\nx_initial = int((original_shape[0] - generated_shape[0])/2)\\nx_fim = x_initial +  generated_shape[0]\\ny_initial = int((original_shape[1] - generated_shape[1])/2)\\ny_fim = y_initial +  generated_shape[1]\\nimages_original_best = np.array([image[x_initial:x_fim,y_initial:y_fim,z_initial:z_fim+1] for image in images_original_best])\\nimages_original_worst = np.array([image[x_initial:x_fim,y_initial:y_fim,z_initial:z_fim+1] for image in images_original_worst])  \\n'"
      ]
     },
     "execution_count": 11,
     "metadata": {},
     "output_type": "execute_result"
    }
   ],
   "source": [
    "#cropping original image\n",
    "'''\n",
    "generated_shape = images_generated_best[0].shape\n",
    "original_shape = images_original_best[0].shape\n",
    "x_initial = int((original_shape[0] - generated_shape[0])/2)\n",
    "x_fim = x_initial +  generated_shape[0]\n",
    "y_initial = int((original_shape[1] - generated_shape[1])/2)\n",
    "y_fim = y_initial +  generated_shape[1]\n",
    "images_original_best = np.array([image[x_initial:x_fim,y_initial:y_fim,z_initial:z_fim+1] for image in images_original_best])\n",
    "images_original_worst = np.array([image[x_initial:x_fim,y_initial:y_fim,z_initial:z_fim+1] for image in images_original_worst])  \n",
    "'''"
   ]
  },
  {
   "cell_type": "code",
   "execution_count": 12,
   "id": "c04cb9b3",
   "metadata": {},
   "outputs": [],
   "source": [
    "images_original_normalized_best = np.copy(images_original_best)\n",
    "#images_original_normalized_worst = np.copy(images_original_worst)\n",
    "images_generated_normalized_best = np.copy(images_generated_best)\n",
    "#images_generated_normalized_worst = np.copy(images_generated_worst)"
   ]
  },
  {
   "cell_type": "code",
   "execution_count": 13,
   "id": "d7f16e54",
   "metadata": {},
   "outputs": [
    {
     "data": {
      "text/plain": [
       "'\\nfor one_image in images_original_normalized_worst:\\n    maxv = np.max(one_image[:,:,:])\\n    one_image[:,:,:] = ((one_image[:,:,:]) / maxv)\\n'"
      ]
     },
     "execution_count": 13,
     "metadata": {},
     "output_type": "execute_result"
    }
   ],
   "source": [
    "# Normalizing\n",
    "for one_image in images_original_normalized_best:\n",
    "    maxv = np.max(one_image[:,:,:])\n",
    "    one_image[:,:,:] = ((one_image[:,:,:]) / maxv)\n",
    "'''\n",
    "for one_image in images_original_normalized_worst:\n",
    "    maxv = np.max(one_image[:,:,:])\n",
    "    one_image[:,:,:] = ((one_image[:,:,:]) / maxv)\n",
    "'''"
   ]
  },
  {
   "cell_type": "code",
   "execution_count": 14,
   "id": "0f9608b0",
   "metadata": {},
   "outputs": [
    {
     "data": {
      "text/plain": [
       "'\\nfor one_image in images_generated_normalized_worst:\\n    maxv = np.max(one_image[:,:,:])\\n    one_image[:,:,:] = ((one_image[:,:,:]) / maxv)\\n'"
      ]
     },
     "execution_count": 14,
     "metadata": {},
     "output_type": "execute_result"
    }
   ],
   "source": [
    "# Normalizing Generated\n",
    "for one_image in images_generated_normalized_best:\n",
    "    maxv = np.max(one_image[:,:,:])\n",
    "    one_image[:,:,:] = ((one_image[:,:,:]) / maxv)\n",
    "'''\n",
    "for one_image in images_generated_normalized_worst:\n",
    "    maxv = np.max(one_image[:,:,:])\n",
    "    one_image[:,:,:] = ((one_image[:,:,:]) / maxv)\n",
    "'''"
   ]
  },
  {
   "cell_type": "markdown",
   "id": "5268a45b",
   "metadata": {},
   "source": [
    "## Best results - Difference map"
   ]
  },
  {
   "cell_type": "code",
   "execution_count": 15,
   "id": "fdfee7e9",
   "metadata": {},
   "outputs": [
    {
     "data": {
      "text/plain": [
       "[1052625, 4431304, 2582745, 4518612, 3139804]"
      ]
     },
     "execution_count": 15,
     "metadata": {},
     "output_type": "execute_result"
    }
   ],
   "source": [
    "subjects_eid_best"
   ]
  },
  {
   "cell_type": "code",
   "execution_count": null,
   "id": "c329be5a",
   "metadata": {},
   "outputs": [],
   "source": []
  },
  {
   "cell_type": "code",
   "execution_count": 16,
   "id": "123d8614",
   "metadata": {},
   "outputs": [],
   "source": [
    "titles_cf_best = [f'Age:{a}, Sex:{s}' for a,s in zip(cf_age_best,cf_sex_best)]\n",
    "real_sex_best_2 = ['M' if round(s) else 'F' for s in real_sex_best]\n",
    "titles_real_best = [f'Age:{a}, Sex:{s}' for a,s in zip(real_age_best,real_sex_best_2)]"
   ]
  },
  {
   "cell_type": "code",
   "execution_count": 17,
   "id": "24de080b",
   "metadata": {},
   "outputs": [
    {
     "data": {
      "text/plain": [
       "array(['Female', 'Female', 'Female', 'Male', 'Female'], dtype='<U32')"
      ]
     },
     "execution_count": 17,
     "metadata": {},
     "output_type": "execute_result"
    }
   ],
   "source": [
    "cf_sex_best"
   ]
  },
  {
   "cell_type": "code",
   "execution_count": 18,
   "id": "d3d8ec61",
   "metadata": {},
   "outputs": [
    {
     "data": {
      "text/plain": [
       "['F', 'F', 'F', 'M', 'F']"
      ]
     },
     "execution_count": 18,
     "metadata": {},
     "output_type": "execute_result"
    }
   ],
   "source": [
    "real_sex_best_2"
   ]
  },
  {
   "cell_type": "code",
   "execution_count": 19,
   "id": "bef42f11",
   "metadata": {},
   "outputs": [],
   "source": [
    "# Mapping the difference\n",
    "diff_best = [np.subtract(a,s) for a,s in zip(images_original_normalized_best,images_generated_normalized_best)]"
   ]
  },
  {
   "cell_type": "code",
   "execution_count": 20,
   "id": "8281176b",
   "metadata": {},
   "outputs": [
    {
     "data": {
      "text/plain": [
       "0.26912232322974144"
      ]
     },
     "execution_count": 20,
     "metadata": {},
     "output_type": "execute_result"
    }
   ],
   "source": [
    "diff_best[4].max()"
   ]
  },
  {
   "cell_type": "code",
   "execution_count": 23,
   "id": "edc06abe",
   "metadata": {},
   "outputs": [],
   "source": [
    "def plot_slice_best(z_slice):\n",
    "    order_slice = z_slice - z_initial\n",
    "    plt.rcParams[\"figure.figsize\"] = (20,5)\n",
    "    img_grid([np.rot90(one_image[:,:,order_slice]) for one_image in images_original_normalized_best],cols=nsamples,titles=titles_real_best)\n",
    "    img_grid([np.rot90(one_image[:,:,order_slice]) for one_image in images_generated_normalized_best],cols=nsamples,titles=titles_cf_best)\n",
    "    img_grid([np.rot90(one_image[:,:,order_slice]) for one_image in diff_best],cols=nsamples, cmap='seismic', clim=(-0.5,0.5))"
   ]
  },
  {
   "cell_type": "code",
   "execution_count": 24,
   "id": "6f4545dc",
   "metadata": {},
   "outputs": [
    {
     "data": {
      "application/vnd.jupyter.widget-view+json": {
       "model_id": "e7aab971e2ff44dba7775ff0e3d4731a",
       "version_major": 2,
       "version_minor": 0
      },
      "text/plain": [
       "interactive(children=(IntSlider(value=41, continuous_update=False, description='Image Slice:', max=140, min=41…"
      ]
     },
     "metadata": {},
     "output_type": "display_data"
    },
    {
     "data": {
      "text/plain": [
       "<function __main__.plot_slice_best(z_slice)>"
      ]
     },
     "execution_count": 24,
     "metadata": {},
     "output_type": "execute_result"
    }
   ],
   "source": [
    "ipyw.interact(plot_slice_best, \n",
    "              z_slice=ipyw.IntSlider(min=z_initial, max=z_fim, step=1, continuous_update=False, description='Image Slice:'))"
   ]
  },
  {
   "cell_type": "code",
   "execution_count": 2,
   "id": "59daf100",
   "metadata": {},
   "outputs": [
    {
     "data": {
      "image/png": "[encoded data removed]",
      "text/plain": [
       "<Figure size 640x480 with 2 Axes>"
      ]
     },
     "metadata": {},
     "output_type": "display_data"
    }
   ],
   "source": [
    "# Generate some example data (replace this with your actual data)\n",
    "data = np.random.random((100, 100)) * 2\n",
    "#data[data < 0.5] = 0.5\n",
    "\n",
    "# Create the plot using imshow and the 'seismic' colormap\n",
    "plt.imshow(data, cmap='seismic', vmin=-1, vmax=1)\n",
    "\n",
    "# Add a color bar\n",
    "plt.colorbar()\n",
    "\n",
    "# Show the plot\n",
    "plt.show()"
   ]
  },
  {
   "cell_type": "code",
   "execution_count": null,
   "id": "d5f8b807",
   "metadata": {},
   "outputs": [],
   "source": [
    "# save diff files\n",
    "import nibabel as nib\n",
    "\n",
    "diff_best = np.array(diff_best)\n",
    "\n",
    "for idx, diff_image in enumerate(diff_best):\n",
    "    new_image = nib.Nifti1Image(diff_best, affine=np.eye(4))\n",
    "    nib.save(new_image,'/home/erik.ohara/diff_maps/' + str(subjects_eid_best[idx]) + '.nii.gz')"
   ]
  },
  {
   "cell_type": "markdown",
   "id": "2cab74c8",
   "metadata": {},
   "source": [
    "## Worst results - Difference map"
   ]
  },
  {
   "cell_type": "code",
   "execution_count": null,
   "id": "95ef8206",
   "metadata": {},
   "outputs": [],
   "source": [
    "subjects_eid_worst"
   ]
  },
  {
   "cell_type": "code",
   "execution_count": null,
   "id": "0680e001",
   "metadata": {},
   "outputs": [],
   "source": [
    "titles_cf_worst = [f'Age:{a}, Sex:{s}' for a,s in zip(cf_age_worst,cf_sex_worst)]\n",
    "real_sex_worst_2 = ['M' if round(s) else 'F' for s in real_sex_worst]\n",
    "titles_real_worst = [f'Age:{a}, Sex:{s}' for a,s in zip(real_age_worst,real_sex_worst_2)]"
   ]
  },
  {
   "cell_type": "code",
   "execution_count": null,
   "id": "93a5c251",
   "metadata": {},
   "outputs": [],
   "source": [
    "# Mapping the difference\n",
    "diff_worst = [np.subtract(a,s) for a,s in zip(images_original_normalized_worst,images_generated_normalized_worst)]"
   ]
  },
  {
   "cell_type": "code",
   "execution_count": null,
   "id": "7a3451df",
   "metadata": {},
   "outputs": [],
   "source": [
    "def plot_slice_worst(z_slice):\n",
    "    order_slice = z_slice - z_initial\n",
    "    plt.rcParams[\"figure.figsize\"] = (20,5)\n",
    "    img_grid([one_image[:,:,order_slice] for one_image in images_original_normalized_worst],cols=nsamples,titles=titles_real_worst)\n",
    "    img_grid([one_image[:,:,order_slice] for one_image in images_generated_normalized_worst],cols=nsamples,titles=titles_cf_worst)\n",
    "    img_grid([one_image[:,:,order_slice] for one_image in diff_worst],cols=nsamples, cmap='seismic', clim=(-1,1))"
   ]
  },
  {
   "cell_type": "code",
   "execution_count": null,
   "id": "50125d60",
   "metadata": {},
   "outputs": [],
   "source": [
    "ipyw.interact(plot_slice_worst, \n",
    "              z_slice=ipyw.IntSlider(min=z_initial, max=z_fim, step=1, continuous_update=False, description='Image Slice:'))"
   ]
  },
  {
   "cell_type": "markdown",
   "id": "11a957af",
   "metadata": {},
   "source": [
    "## Analsying the errors"
   ]
  },
  {
   "cell_type": "code",
   "execution_count": 7,
   "id": "c76c78aa",
   "metadata": {},
   "outputs": [],
   "source": [
    "df_orig.rename(columns={\"Age\": \"Original_Age\", \"Prediction\": \"Original_Prediction\"},inplace=True)"
   ]
  },
  {
   "cell_type": "code",
   "execution_count": 8,
   "id": "50f42866",
   "metadata": {},
   "outputs": [],
   "source": [
    "df_cf_analysis = df_cf.set_index('EID').join(\n",
    "                                            df_orig[['EID',\n",
    "                                                     'Original_Age',\n",
    "                                                     'Original_Prediction']].set_index('EID'), \n",
    "                                                                                        on='EID', \n",
    "                                                                                        how='left')"
   ]
  },
  {
   "cell_type": "code",
   "execution_count": 11,
   "id": "8f0edf24",
   "metadata": {
    "scrolled": true
   },
   "outputs": [
    {
     "data": {
      "image/png": "[encoded data removed]",
      "text/plain": [
       "<Figure size 2000x500 with 1 Axes>"
      ]
     },
     "metadata": {},
     "output_type": "display_data"
    }
   ],
   "source": [
    "# Create bins for the x column\n",
    "plt.rcParams[\"figure.figsize\"] = (20,5)\n",
    "bins = pd.cut(df_cf_analysis['Age'], bins=10, precision=0)\n",
    "\n",
    "# Group the dataframe by the bins and calculate the mean of the y column\n",
    "grouped = df_cf_analysis.groupby(bins)['ABSError'].mean()\n",
    "plt.ylabel(\"Mean absolute error\")\n",
    "# Plot the resulting dataframe\n",
    "grouped.plot(kind='bar')\n",
    "plt.show()"
   ]
  },
  {
   "cell_type": "code",
   "execution_count": null,
   "id": "efc28fa5",
   "metadata": {},
   "outputs": [],
   "source": [
    "grouped"
   ]
  },
  {
   "cell_type": "code",
   "execution_count": null,
   "id": "6df557b4",
   "metadata": {},
   "outputs": [],
   "source": [
    "df_train['Age'] = df_train['Age'].astype(int)"
   ]
  },
  {
   "cell_type": "code",
   "execution_count": null,
   "id": "cb04e2d9",
   "metadata": {},
   "outputs": [],
   "source": [
    "ax = df_train[\"Age\"].plot.hist(bins=10)"
   ]
  },
  {
   "cell_type": "code",
   "execution_count": null,
   "id": "1c1fe39a",
   "metadata": {},
   "outputs": [],
   "source": []
  }
 ],
 "metadata": {
  "kernelspec": {
   "display_name": "Python 3 (ipykernel)",
   "language": "python",
   "name": "python3"
  },
  "language_info": {
   "codemirror_mode": {
    "name": "ipython",
    "version": 3
   },
   "file_extension": ".py",
   "mimetype": "text/x-python",
   "name": "python",
   "nbconvert_exporter": "python",
   "pygments_lexer": "ipython3",
   "version": "3.10.11"
  }
 },
 "nbformat": 4,
 "nbformat_minor": 5
}
