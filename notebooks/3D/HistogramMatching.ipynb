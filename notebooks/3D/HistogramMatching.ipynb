{
 "cells": [
  {
   "cell_type": "code",
   "execution_count": 1,
   "id": "aca1e992",
   "metadata": {},
   "outputs": [],
   "source": [
    "import os\n",
    "import sys\n",
    "from pathlib import Path\n",
    "sys.path.append(str(Path(os.getcwd()).parent.parent) +'/')\n",
    "from utils.visualize import img_grid\n",
    "\n",
    "from torchvision import transforms \n",
    "\n",
    "import numpy as np\n",
    "import pandas as pd\n",
    "import torchio as tio\n",
    "import nibabel as nib\n",
    "\n",
    "import ipywidgets as ipyw\n",
    "import matplotlib.pyplot as plt\n",
    "import SimpleITK as sitk\n",
    "import torch\n",
    "from torch import nn\n",
    "from  torch.utils.data import Dataset, DataLoader\n",
    "from tqdm.notebook import tqdm\n",
    "from torchmetrics.image.fid import FrechetInceptionDistance\n",
    "import scipy\n",
    "from sklearn import metrics\n",
    "import json "
   ]
  },
  {
   "cell_type": "code",
   "execution_count": 2,
   "id": "d1155e4d",
   "metadata": {},
   "outputs": [],
   "source": [
    "macaw_path = str(Path(os.getcwd()).parent.parent)\n",
    "ukbb_path = '/home/erik.ohara/UKBB'\n",
    "generated_path = '/work/forkert_lab/erik/MACAW/cf_images/PCA_sklearn_five_diff_res_denormalized'\n",
    "crop_path = '/work/forkert_lab/erik/T1_cropped'\n",
    "output_path = '/work/forkert_lab/erik/MACAW/cf_images/PCA_sklearn_five_diff_res_hm'\n",
    "z_initial = 41\n",
    "z_fim = 140\n",
    "nsamples = 5\n",
    "# histogram matching parameters\n",
    "m_number_histogram_levels = 500\n",
    "m_number_match_points = 50\n",
    "m_threshold_mean_intensity = False"
   ]
  },
  {
   "cell_type": "code",
   "execution_count": 3,
   "id": "fd9abae6",
   "metadata": {},
   "outputs": [],
   "source": [
    "data_path = ukbb_path + '/ukbb_img.csv'\n",
    "df = pd.read_csv(data_path,low_memory=False)"
   ]
  },
  {
   "cell_type": "code",
   "execution_count": 4,
   "id": "11b7fba8",
   "metadata": {},
   "outputs": [
    {
     "data": {
      "application/vnd.jupyter.widget-view+json": {
       "model_id": "b42e0d907de34a1ab4d5e2c0b7ac345a",
       "version_major": 2,
       "version_minor": 0
      },
      "text/plain": [
       "  0%|          | 0/2370 [00:00<?, ?it/s]"
      ]
     },
     "metadata": {},
     "output_type": "display_data"
    },
    {
     "name": "stdout",
     "output_type": "stream",
     "text": [
      "2370\n"
     ]
    }
   ],
   "source": [
    "# Getting the generated images\n",
    "subjects_eid = np.array([])\n",
    "cf_age = np.array([])\n",
    "cf_sex = np.array([])\n",
    "images_generated = []\n",
    "files_generated = []\n",
    "for file in tqdm(os.listdir(generated_path)):\n",
    "    if '.nii' in file:\n",
    "        files_generated.append(file)\n",
    "        splits = file.split(\"_\")\n",
    "        subject_eid = int(splits[0])\n",
    "        age = splits[1]\n",
    "        sex = splits[2].split(\".\")[0]\n",
    "        subjects_eid = np.append(subjects_eid,subject_eid)\n",
    "        cf_age = np.append(cf_age, age)\n",
    "        cf_sex = np.append(cf_sex, sex)\n",
    "        image_load = sitk.ReadImage(os.path.join(generated_path, file))\n",
    "        #image_load = nib.load(os.path.join(generated_path, file)).get_fdata()\n",
    "        images_generated.append(image_load)\n",
    "print(len(images_generated))"
   ]
  },
  {
   "cell_type": "code",
   "execution_count": 5,
   "id": "e2790db6",
   "metadata": {},
   "outputs": [
    {
     "data": {
      "application/vnd.jupyter.widget-view+json": {
       "model_id": "47bdf19021694550961f16f19b912d53",
       "version_major": 2,
       "version_minor": 0
      },
      "text/plain": [
       "  0%|          | 0/2370 [00:00<?, ?it/s]"
      ]
     },
     "metadata": {},
     "output_type": "display_data"
    },
    {
     "name": "stdout",
     "output_type": "stream",
     "text": [
      "2370\n"
     ]
    }
   ],
   "source": [
    "# Getting the cropped original images\n",
    "images_original = []\n",
    "real_age = []\n",
    "real_sex = []\n",
    "for individual in tqdm(subjects_eid):\n",
    "    individual = int(individual)\n",
    "    real_age.append(df[df[\"eid\"] == individual][\"Age\"].item())\n",
    "    real_sex.append(df[df[\"eid\"] == individual][\"Sex\"].item())\n",
    "    #image_load = nib.load(os.path.join(ukbb_T1_warped, str(individual) + \".nii.gz\")).get_fdata()\n",
    "    image_load = sitk.ReadImage(os.path.join(crop_path, str(individual) + \".nii.gz\"))\n",
    "    images_original.append(image_load)\n",
    "print(len(images_original))"
   ]
  },
  {
   "cell_type": "code",
   "execution_count": 6,
   "id": "0c560c26",
   "metadata": {},
   "outputs": [
    {
     "name": "stdout",
     "output_type": "stream",
     "text": [
      "625.5206582363726\n",
      "2556.879638671875\n",
      "0.0\n"
     ]
    }
   ],
   "source": [
    "stats_filter = sitk.StatisticsImageFilter()\n",
    "stats_filter.Execute(images_original[1])\n",
    "print(stats_filter.GetMean())\n",
    "print(stats_filter.GetMaximum())\n",
    "print(stats_filter.GetMinimum())"
   ]
  },
  {
   "cell_type": "code",
   "execution_count": 7,
   "id": "ea92d76d",
   "metadata": {},
   "outputs": [
    {
     "name": "stdout",
     "output_type": "stream",
     "text": [
      "626.9145094131126\n",
      "2557.655029296875\n",
      "-70.09840393066406\n"
     ]
    }
   ],
   "source": [
    "stats_filter = sitk.StatisticsImageFilter()\n",
    "stats_filter.Execute(images_generated[1])\n",
    "print(stats_filter.GetMean())\n",
    "print(stats_filter.GetMaximum())\n",
    "print(stats_filter.GetMinimum())"
   ]
  },
  {
   "cell_type": "code",
   "execution_count": 8,
   "id": "664519f5",
   "metadata": {},
   "outputs": [
    {
     "name": "stdout",
     "output_type": "stream",
     "text": [
      "586.054588511445\n",
      "1870.926025390625\n",
      "-0.4781421422958374\n"
     ]
    }
   ],
   "source": [
    "stats_filter = sitk.StatisticsImageFilter()\n",
    "stats_filter.Execute(images_original[130])\n",
    "print(stats_filter.GetMean())\n",
    "print(stats_filter.GetMaximum())\n",
    "print(stats_filter.GetMinimum())"
   ]
  },
  {
   "cell_type": "code",
   "execution_count": 9,
   "id": "8a1d3ff0",
   "metadata": {},
   "outputs": [
    {
     "name": "stdout",
     "output_type": "stream",
     "text": [
      "580.2107605066752\n",
      "1872.2847900390625\n",
      "-57.28786087036133\n"
     ]
    }
   ],
   "source": [
    "stats_filter = sitk.StatisticsImageFilter()\n",
    "stats_filter.Execute(images_generated[130])\n",
    "print(stats_filter.GetMean())\n",
    "print(stats_filter.GetMaximum())\n",
    "print(stats_filter.GetMinimum())"
   ]
  },
  {
   "cell_type": "code",
   "execution_count": 10,
   "id": "672d1f3c",
   "metadata": {},
   "outputs": [
    {
     "data": {
      "text/plain": [
       "100"
      ]
     },
     "execution_count": 10,
     "metadata": {},
     "output_type": "execute_result"
    }
   ],
   "source": [
    "images_generated[0].GetSize()[2]"
   ]
  },
  {
   "cell_type": "code",
   "execution_count": 11,
   "id": "38751ab8",
   "metadata": {},
   "outputs": [
    {
     "data": {
      "application/vnd.jupyter.widget-view+json": {
       "model_id": "908d18ae421442a092f0f738acef8dee",
       "version_major": 2,
       "version_minor": 0
      },
      "text/plain": [
       "0it [00:00, ?it/s]"
      ]
     },
     "metadata": {},
     "output_type": "display_data"
    }
   ],
   "source": [
    "for idx,each_image in tqdm(enumerate(images_generated)):\n",
    "    for z_slice in range(each_image.GetSize()[2]):\n",
    "        reference_slice = images_original[idx][:,:,z_slice]\n",
    "        hist_filter = sitk.HistogramMatchingImageFilter()\n",
    "        # Set filter parameters\n",
    "        hist_filter.SetNumberOfHistogramLevels(m_number_histogram_levels) # number of bins for the histograms\n",
    "        hist_filter.SetNumberOfMatchPoints(m_number_match_points) # number of quantile values to be matched\n",
    "        hist_filter.SetThresholdAtMeanIntensity(m_threshold_mean_intensity)\n",
    "\n",
    "        each_image[:,:,z_slice] = hist_filter.Execute(each_image[:,:,z_slice], reference_slice)"
   ]
  },
  {
   "cell_type": "code",
   "execution_count": 12,
   "id": "0ee39797",
   "metadata": {},
   "outputs": [
    {
     "name": "stdout",
     "output_type": "stream",
     "text": [
      "625.9115528246348\n",
      "2556.879638671875\n",
      "0.0\n"
     ]
    }
   ],
   "source": [
    "stats_filter = sitk.StatisticsImageFilter()\n",
    "stats_filter.Execute(images_generated[1])\n",
    "print(stats_filter.GetMean())\n",
    "print(stats_filter.GetMaximum())\n",
    "print(stats_filter.GetMinimum())"
   ]
  },
  {
   "cell_type": "code",
   "execution_count": 13,
   "id": "8912e6b1",
   "metadata": {},
   "outputs": [
    {
     "name": "stdout",
     "output_type": "stream",
     "text": [
      "586.4163811256072\n",
      "1870.926025390625\n",
      "-0.4781421422958374\n"
     ]
    }
   ],
   "source": [
    "stats_filter = sitk.StatisticsImageFilter()\n",
    "stats_filter.Execute(images_generated[130])\n",
    "print(stats_filter.GetMean())\n",
    "print(stats_filter.GetMaximum())\n",
    "print(stats_filter.GetMinimum())"
   ]
  },
  {
   "cell_type": "code",
   "execution_count": 14,
   "id": "4d3488b8",
   "metadata": {},
   "outputs": [
    {
     "data": {
      "application/vnd.jupyter.widget-view+json": {
       "model_id": "f725a68b5f4347c6a2a1d1e1abd369ef",
       "version_major": 2,
       "version_minor": 0
      },
      "text/plain": [
       "0it [00:00, ?it/s]"
      ]
     },
     "metadata": {},
     "output_type": "display_data"
    }
   ],
   "source": [
    "for idx,each_image in tqdm(enumerate(images_generated)):\n",
    "    sitk.WriteImage(each_image, os.path.join(output_path, files_generated[idx]))"
   ]
  },
  {
   "cell_type": "code",
   "execution_count": null,
   "id": "e2bb4915",
   "metadata": {},
   "outputs": [],
   "source": []
  }
 ],
 "metadata": {
  "kernelspec": {
   "display_name": "Python 3 (ipykernel)",
   "language": "python",
   "name": "python3"
  },
  "language_info": {
   "codemirror_mode": {
    "name": "ipython",
    "version": 3
   },
   "file_extension": ".py",
   "mimetype": "text/x-python",
   "name": "python",
   "nbconvert_exporter": "python",
   "pygments_lexer": "ipython3",
   "version": "3.10.11"
  }
 },
 "nbformat": 4,
 "nbformat_minor": 5
}
