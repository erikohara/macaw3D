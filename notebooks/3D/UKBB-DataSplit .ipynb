{
 "cells": [
  {
   "cell_type": "code",
   "execution_count": 1,
   "id": "b0437c82",
   "metadata": {},
   "outputs": [],
   "source": [
    "import pandas as pd\n",
    "import os\n",
    "import matplotlib.pyplot as plt\n",
    "import numpy as np\n",
    "from tqdm.notebook import tqdm"
   ]
  },
  {
   "cell_type": "code",
   "execution_count": 2,
   "id": "dee25695",
   "metadata": {},
   "outputs": [],
   "source": [
    "path_train = '/work/forkert_lab/erik/T1_warped/train'\n",
    "path_val = '/work/forkert_lab/erik/T1_warped/val'\n",
    "path_test = '/work/forkert_lab/erik/T1_warped/test'\n",
    "ukbb_path = '/home/erik.ohara/UKBB'"
   ]
  },
  {
   "cell_type": "code",
   "execution_count": 3,
   "id": "65e2cbbb",
   "metadata": {},
   "outputs": [],
   "source": [
    "data_path = ukbb_path + '/ukbb_img.csv'\n",
    "train_path = ukbb_path + '/train.csv'\n",
    "val_path = ukbb_path + '/val.csv'\n",
    "test_path = ukbb_path + '/test.csv'"
   ]
  },
  {
   "cell_type": "code",
   "execution_count": 4,
   "id": "b197778f",
   "metadata": {},
   "outputs": [],
   "source": [
    "df = pd.read_csv(data_path,low_memory=False)\n",
    "df_train_file = pd.read_csv(train_path,low_memory=False)\n",
    "df_val_file = pd.read_csv(val_path,low_memory=False)\n",
    "df_test_file = pd.read_csv(test_path,low_memory=False)"
   ]
  },
  {
   "cell_type": "code",
   "execution_count": 5,
   "id": "f88ace41",
   "metadata": {},
   "outputs": [
    {
     "name": "stdout",
     "output_type": "stream",
     "text": [
      "40196\n",
      "18953\n",
      "2369\n",
      "2370\n",
      "23692\n"
     ]
    }
   ],
   "source": [
    "print(len(df))\n",
    "print(len(df_train_file))\n",
    "print(len(df_val_file))\n",
    "print(len(df_test_file))\n",
    "print(len(df_train_file)+len(df_val_file)+len(df_test_file))"
   ]
  },
  {
   "cell_type": "code",
   "execution_count": 6,
   "id": "37760d32",
   "metadata": {},
   "outputs": [],
   "source": [
    "df_all = pd.concat([df_train_file,df_val_file,df_test_file])"
   ]
  },
  {
   "cell_type": "code",
   "execution_count": 7,
   "id": "7b575ccf",
   "metadata": {},
   "outputs": [
    {
     "data": {
      "text/plain": [
       "23692"
      ]
     },
     "execution_count": 7,
     "metadata": {},
     "output_type": "execute_result"
    }
   ],
   "source": [
    "len(df_all)"
   ]
  },
  {
   "cell_type": "code",
   "execution_count": 8,
   "id": "56ea227e",
   "metadata": {},
   "outputs": [
    {
     "data": {
      "text/plain": [
       "count    23692.000000\n",
       "mean        63.271315\n",
       "std          7.609108\n",
       "min         46.000000\n",
       "25%         57.000000\n",
       "50%         64.000000\n",
       "75%         69.000000\n",
       "max         81.000000\n",
       "Name: Age, dtype: float64"
      ]
     },
     "execution_count": 8,
     "metadata": {},
     "output_type": "execute_result"
    }
   ],
   "source": [
    "df_all['Age'].describe()"
   ]
  },
  {
   "cell_type": "code",
   "execution_count": 6,
   "id": "9df9d1bb",
   "metadata": {},
   "outputs": [
    {
     "data": {
      "text/html": [
       "<div>\n",
       "<style scoped>\n",
       "    .dataframe tbody tr th:only-of-type {\n",
       "        vertical-align: middle;\n",
       "    }\n",
       "\n",
       "    .dataframe tbody tr th {\n",
       "        vertical-align: top;\n",
       "    }\n",
       "\n",
       "    .dataframe thead th {\n",
       "        text-align: right;\n",
       "    }\n",
       "</style>\n",
       "<table border=\"1\" class=\"dataframe\">\n",
       "  <thead>\n",
       "    <tr style=\"text-align: right;\">\n",
       "      <th></th>\n",
       "      <th>eid</th>\n",
       "      <th>Age</th>\n",
       "      <th>Sex</th>\n",
       "      <th>BMI</th>\n",
       "    </tr>\n",
       "  </thead>\n",
       "  <tbody>\n",
       "    <tr>\n",
       "      <th>0</th>\n",
       "      <td>3314989</td>\n",
       "      <td>72</td>\n",
       "      <td>0.0</td>\n",
       "      <td>20.1570</td>\n",
       "    </tr>\n",
       "    <tr>\n",
       "      <th>1</th>\n",
       "      <td>2041016</td>\n",
       "      <td>64</td>\n",
       "      <td>1.0</td>\n",
       "      <td>26.7223</td>\n",
       "    </tr>\n",
       "    <tr>\n",
       "      <th>2</th>\n",
       "      <td>4498894</td>\n",
       "      <td>77</td>\n",
       "      <td>0.0</td>\n",
       "      <td>27.8382</td>\n",
       "    </tr>\n",
       "    <tr>\n",
       "      <th>3</th>\n",
       "      <td>3409006</td>\n",
       "      <td>69</td>\n",
       "      <td>0.0</td>\n",
       "      <td>32.4901</td>\n",
       "    </tr>\n",
       "    <tr>\n",
       "      <th>4</th>\n",
       "      <td>5593523</td>\n",
       "      <td>65</td>\n",
       "      <td>0.0</td>\n",
       "      <td>21.5815</td>\n",
       "    </tr>\n",
       "    <tr>\n",
       "      <th>...</th>\n",
       "      <td>...</td>\n",
       "      <td>...</td>\n",
       "      <td>...</td>\n",
       "      <td>...</td>\n",
       "    </tr>\n",
       "    <tr>\n",
       "      <th>18948</th>\n",
       "      <td>2868974</td>\n",
       "      <td>75</td>\n",
       "      <td>0.0</td>\n",
       "      <td>36.1206</td>\n",
       "    </tr>\n",
       "    <tr>\n",
       "      <th>18949</th>\n",
       "      <td>2061472</td>\n",
       "      <td>64</td>\n",
       "      <td>0.0</td>\n",
       "      <td>24.0882</td>\n",
       "    </tr>\n",
       "    <tr>\n",
       "      <th>18950</th>\n",
       "      <td>1378321</td>\n",
       "      <td>54</td>\n",
       "      <td>0.0</td>\n",
       "      <td>34.8157</td>\n",
       "    </tr>\n",
       "    <tr>\n",
       "      <th>18951</th>\n",
       "      <td>3222571</td>\n",
       "      <td>67</td>\n",
       "      <td>1.0</td>\n",
       "      <td>26.6534</td>\n",
       "    </tr>\n",
       "    <tr>\n",
       "      <th>18952</th>\n",
       "      <td>3530871</td>\n",
       "      <td>52</td>\n",
       "      <td>0.0</td>\n",
       "      <td>19.6194</td>\n",
       "    </tr>\n",
       "  </tbody>\n",
       "</table>\n",
       "<p>18953 rows × 4 columns</p>\n",
       "</div>"
      ],
      "text/plain": [
       "           eid  Age  Sex      BMI\n",
       "0      3314989   72  0.0  20.1570\n",
       "1      2041016   64  1.0  26.7223\n",
       "2      4498894   77  0.0  27.8382\n",
       "3      3409006   69  0.0  32.4901\n",
       "4      5593523   65  0.0  21.5815\n",
       "...        ...  ...  ...      ...\n",
       "18948  2868974   75  0.0  36.1206\n",
       "18949  2061472   64  0.0  24.0882\n",
       "18950  1378321   54  0.0  34.8157\n",
       "18951  3222571   67  1.0  26.6534\n",
       "18952  3530871   52  0.0  19.6194\n",
       "\n",
       "[18953 rows x 4 columns]"
      ]
     },
     "execution_count": 6,
     "metadata": {},
     "output_type": "execute_result"
    }
   ],
   "source": [
    "df_train_file"
   ]
  },
  {
   "cell_type": "code",
   "execution_count": 8,
   "id": "5727a8bd",
   "metadata": {},
   "outputs": [
    {
     "name": "stdout",
     "output_type": "stream",
     "text": [
      "Total: 18953\n",
      "Number of Males: 8794\n",
      "Number of Females: 10159\n",
      "0.46398986967762357\n",
      "0.5360101303223764\n",
      "\n",
      "Total: 2369\n",
      "Number of Males: 1134\n",
      "Number of Females: 1235\n",
      "0.47868298860278596\n",
      "0.521317011397214\n",
      "\n",
      "Total: 2370\n",
      "Number of Males: 1122\n",
      "Number of Females: 1248\n",
      "0.47341772151898737\n",
      "0.5265822784810127\n",
      "\n"
     ]
    }
   ],
   "source": [
    "print(f\"Total: {len(df_train_file)}\")\n",
    "print(f\"Number of Males: {len(df_train_file[df_train_file['Sex'] == 1])}\")\n",
    "print(f\"Number of Females: {len(df_train_file[df_train_file['Sex'] == 0])}\")\n",
    "print(len(df_train_file[df_train_file['Sex'] == 1])/len(df_train_file))\n",
    "print(len(df_train_file[df_train_file['Sex'] == 0])/len(df_train_file))\n",
    "print()\n",
    "print(f\"Total: {len(df_val_file)}\")\n",
    "print(f\"Number of Males: {len(df_val_file[df_val_file['Sex'] == 1])}\")\n",
    "print(f\"Number of Females: {len(df_val_file[df_val_file['Sex'] == 0])}\")\n",
    "print(len(df_val_file[df_val_file['Sex'] == 1])/len(df_val_file))\n",
    "print(len(df_val_file[df_val_file['Sex'] == 0])/len(df_val_file))\n",
    "print()\n",
    "print(f\"Total: {len(df_test_file)}\")\n",
    "print(f\"Number of Males: {len(df_test_file[df_test_file['Sex'] == 1])}\")\n",
    "print(f\"Number of Females: {len(df_test_file[df_test_file['Sex'] == 0])}\")\n",
    "print(len(df_test_file[df_test_file['Sex'] == 1])/len(df_test_file))\n",
    "print(len(df_test_file[df_test_file['Sex'] == 0])/len(df_test_file))\n",
    "print()"
   ]
  },
  {
   "cell_type": "markdown",
   "id": "be8a4138",
   "metadata": {},
   "source": [
    "# Creating balance subsets"
   ]
  },
  {
   "cell_type": "markdown",
   "id": "c261e582",
   "metadata": {},
   "source": [
    "## Training set"
   ]
  },
  {
   "cell_type": "code",
   "execution_count": 7,
   "id": "89f5770f",
   "metadata": {},
   "outputs": [],
   "source": [
    "bins_train = pd.cut(df_train_file['Age'], bins=10, precision=0)"
   ]
  },
  {
   "cell_type": "code",
   "execution_count": 8,
   "id": "7c26af69",
   "metadata": {},
   "outputs": [],
   "source": [
    "df_train_file['Age_bin'] = bins_train"
   ]
  },
  {
   "cell_type": "code",
   "execution_count": 9,
   "id": "98dd0aa4",
   "metadata": {},
   "outputs": [
    {
     "data": {
      "text/plain": [
       "(64.0, 67.0]    3349\n",
       "(56.0, 60.0]    2771\n",
       "(67.0, 70.0]    2485\n",
       "(60.0, 64.0]    2410\n",
       "(70.0, 74.0]    2401\n",
       "(50.0, 53.0]    1946\n",
       "(53.0, 56.0]    1875\n",
       "(74.0, 78.0]     865\n",
       "(46.0, 50.0]     444\n",
       "(78.0, 81.0]     407\n",
       "Name: Age_bin, dtype: int64"
      ]
     },
     "execution_count": 9,
     "metadata": {},
     "output_type": "execute_result"
    }
   ],
   "source": [
    "df_train_file['Age_bin'].value_counts()"
   ]
  },
  {
   "cell_type": "code",
   "execution_count": 45,
   "id": "f12d1b73",
   "metadata": {},
   "outputs": [],
   "source": [
    "sub_train_file = pd.DataFrame(columns=df_train_file.columns)"
   ]
  },
  {
   "cell_type": "code",
   "execution_count": 46,
   "id": "44feb864",
   "metadata": {},
   "outputs": [
    {
     "data": {
      "text/plain": [
       "(50.0, 53.0]    1875\n",
       "(53.0, 56.0]    1875\n",
       "(56.0, 60.0]    1875\n",
       "(60.0, 64.0]    1875\n",
       "(64.0, 67.0]    1875\n",
       "(67.0, 70.0]    1875\n",
       "(70.0, 74.0]    1875\n",
       "(46.0, 50.0]       0\n",
       "(74.0, 78.0]       0\n",
       "(78.0, 81.0]       0\n",
       "Name: Age_bin, dtype: int64"
      ]
     },
     "execution_count": 46,
     "metadata": {},
     "output_type": "execute_result"
    }
   ],
   "source": [
    "# cutting all bins bellow 1000, and balance with the number of 1875 per bins\n",
    "number_bins = 1875\n",
    "for interval,bin_quantity in df_train_file['Age_bin'].value_counts().items():\n",
    "    if bin_quantity > 1000:\n",
    "        sub_bin_train = df_train_file[df_train_file['Age_bin'] == interval].reset_index(drop=True)\n",
    "        sub_bin_train = sub_bin_train.sample(n=number_bins, random_state=1)\n",
    "        sub_train_file = pd.concat([sub_train_file,sub_bin_train])\n",
    "sub_train_file['Age_bin'].value_counts()"
   ]
  },
  {
   "cell_type": "code",
   "execution_count": 47,
   "id": "9a798849",
   "metadata": {},
   "outputs": [],
   "source": [
    "sub_train_file.sort_values(by=['eid']).to_csv(ukbb_path + '/sub_train.csv', index=False) "
   ]
  },
  {
   "cell_type": "markdown",
   "id": "05c4be11",
   "metadata": {},
   "source": [
    "## Validation set"
   ]
  },
  {
   "cell_type": "code",
   "execution_count": 51,
   "id": "77ee690d",
   "metadata": {},
   "outputs": [],
   "source": [
    "df_val_file['Age_bin'] = pd.cut(df_val_file['Age'], bins=10, precision=0)"
   ]
  },
  {
   "cell_type": "code",
   "execution_count": 52,
   "id": "21920759",
   "metadata": {},
   "outputs": [
    {
     "data": {
      "text/plain": [
       "(64.0, 67.0]    417\n",
       "(56.0, 60.0]    346\n",
       "(67.0, 70.0]    311\n",
       "(60.0, 64.0]    300\n",
       "(70.0, 74.0]    300\n",
       "(50.0, 53.0]    243\n",
       "(53.0, 56.0]    234\n",
       "(74.0, 78.0]    109\n",
       "(46.0, 50.0]     57\n",
       "(78.0, 81.0]     52\n",
       "Name: Age_bin, dtype: int64"
      ]
     },
     "execution_count": 52,
     "metadata": {},
     "output_type": "execute_result"
    }
   ],
   "source": [
    "df_val_file['Age_bin'].value_counts()"
   ]
  },
  {
   "cell_type": "code",
   "execution_count": 53,
   "id": "2244276e",
   "metadata": {},
   "outputs": [],
   "source": [
    "sub_val_file = pd.DataFrame(columns=df_val_file.columns)"
   ]
  },
  {
   "cell_type": "code",
   "execution_count": 54,
   "id": "4d2ef071",
   "metadata": {},
   "outputs": [
    {
     "data": {
      "text/plain": [
       "(50.0, 53.0]    234\n",
       "(53.0, 56.0]    234\n",
       "(56.0, 60.0]    234\n",
       "(60.0, 64.0]    234\n",
       "(64.0, 67.0]    234\n",
       "(67.0, 70.0]    234\n",
       "(70.0, 74.0]    234\n",
       "(46.0, 50.0]      0\n",
       "(74.0, 78.0]      0\n",
       "(78.0, 81.0]      0\n",
       "Name: Age_bin, dtype: int64"
      ]
     },
     "execution_count": 54,
     "metadata": {},
     "output_type": "execute_result"
    }
   ],
   "source": [
    "# cutting all bins bellow 200, and balance with the number of 234 per bins\n",
    "number_bins = 234\n",
    "for interval,bin_quantity in df_val_file['Age_bin'].value_counts().items():\n",
    "    if bin_quantity > 200:\n",
    "        sub_bin_val = df_val_file[df_val_file['Age_bin'] == interval].reset_index(drop=True)\n",
    "        sub_bin_val = sub_bin_val.sample(n=number_bins, random_state=1)\n",
    "        sub_val_file = pd.concat([sub_val_file,sub_bin_val])\n",
    "sub_val_file['Age_bin'].value_counts()"
   ]
  },
  {
   "cell_type": "code",
   "execution_count": 55,
   "id": "2cf6fed7",
   "metadata": {},
   "outputs": [],
   "source": [
    "sub_val_file.sort_values(by=['eid']).to_csv(ukbb_path + '/sub_val.csv', index=False) "
   ]
  },
  {
   "cell_type": "markdown",
   "id": "83441a32",
   "metadata": {},
   "source": [
    "## Testing set"
   ]
  },
  {
   "cell_type": "code",
   "execution_count": 58,
   "id": "3edeb1cb",
   "metadata": {},
   "outputs": [],
   "source": [
    "df_test_file['Age_bin'] = pd.cut(df_test_file['Age'], bins=10, precision=0)"
   ]
  },
  {
   "cell_type": "code",
   "execution_count": 59,
   "id": "35418bd1",
   "metadata": {},
   "outputs": [
    {
     "data": {
      "text/plain": [
       "(64.0, 67.0]    419\n",
       "(56.0, 60.0]    348\n",
       "(67.0, 70.0]    311\n",
       "(60.0, 64.0]    303\n",
       "(70.0, 74.0]    301\n",
       "(50.0, 53.0]    243\n",
       "(53.0, 56.0]    235\n",
       "(74.0, 78.0]    106\n",
       "(46.0, 50.0]     55\n",
       "(78.0, 81.0]     49\n",
       "Name: Age_bin, dtype: int64"
      ]
     },
     "execution_count": 59,
     "metadata": {},
     "output_type": "execute_result"
    }
   ],
   "source": [
    "df_test_file['Age_bin'].value_counts()"
   ]
  },
  {
   "cell_type": "code",
   "execution_count": 65,
   "id": "1663474d",
   "metadata": {},
   "outputs": [],
   "source": [
    "sub_test_file = pd.DataFrame(columns=df_test_file.columns)"
   ]
  },
  {
   "cell_type": "code",
   "execution_count": 66,
   "id": "73d19804",
   "metadata": {},
   "outputs": [
    {
     "data": {
      "text/plain": [
       "(50.0, 53.0]    235\n",
       "(53.0, 56.0]    235\n",
       "(56.0, 60.0]    235\n",
       "(60.0, 64.0]    235\n",
       "(64.0, 67.0]    235\n",
       "(67.0, 70.0]    235\n",
       "(70.0, 74.0]    235\n",
       "(46.0, 50.0]      0\n",
       "(74.0, 78.0]      0\n",
       "(78.0, 81.0]      0\n",
       "Name: Age_bin, dtype: int64"
      ]
     },
     "execution_count": 66,
     "metadata": {},
     "output_type": "execute_result"
    }
   ],
   "source": [
    "# cutting all bins bellow 200, and balance with the number of 235 per bins\n",
    "number_bins = 235\n",
    "for interval,bin_quantity in df_test_file['Age_bin'].value_counts().items():\n",
    "    if bin_quantity > 200:\n",
    "        sub_bin_test = df_test_file[df_test_file['Age_bin'] == interval].reset_index(drop=True)\n",
    "        sub_bin_test = sub_bin_test.sample(n=number_bins, random_state=1)\n",
    "        sub_test_file = pd.concat([sub_test_file,sub_bin_test])\n",
    "sub_test_file['Age_bin'].value_counts()"
   ]
  },
  {
   "cell_type": "code",
   "execution_count": 69,
   "id": "731f9eb0",
   "metadata": {},
   "outputs": [],
   "source": [
    "sub_test_file.sort_values(by=['eid']).to_csv(ukbb_path + '/sub_test.csv', index=False) "
   ]
  },
  {
   "cell_type": "markdown",
   "id": "839b252e",
   "metadata": {},
   "source": [
    "# Verifying if the files are in the right place"
   ]
  },
  {
   "cell_type": "code",
   "execution_count": 16,
   "id": "3e0ebbf0",
   "metadata": {},
   "outputs": [
    {
     "data": {
      "application/vnd.jupyter.widget-view+json": {
       "model_id": "dc2ddb4aac6f4b7596a511230e468c0c",
       "version_major": 2,
       "version_minor": 0
      },
      "text/plain": [
       "  0%|          | 0/18953 [00:00<?, ?it/s]"
      ]
     },
     "metadata": {},
     "output_type": "display_data"
    },
    {
     "data": {
      "application/vnd.jupyter.widget-view+json": {
       "model_id": "07eb2d2454be488fad7ea0114695da0a",
       "version_major": 2,
       "version_minor": 0
      },
      "text/plain": [
       "  0%|          | 0/2369 [00:00<?, ?it/s]"
      ]
     },
     "metadata": {},
     "output_type": "display_data"
    },
    {
     "data": {
      "application/vnd.jupyter.widget-view+json": {
       "model_id": "b314e8736f7d47788caa744aead843a6",
       "version_major": 2,
       "version_minor": 0
      },
      "text/plain": [
       "  0%|          | 0/2370 [00:00<?, ?it/s]"
      ]
     },
     "metadata": {},
     "output_type": "display_data"
    }
   ],
   "source": [
    "#Verifying if the files are in the right place\n",
    "for each_id in tqdm(df_train_file['eid'].to_list()):\n",
    "    if not os.path.exists(path_train + '/' + str(each_id) + '.nii.gz'):\n",
    "        print(each_id)\n",
    "for each_id in tqdm(df_val_file['eid'].to_list()):\n",
    "    if not os.path.exists(path_val + '/' + str(each_id) + '.nii.gz'):\n",
    "        print(each_id)\n",
    "for each_id in tqdm(df_test_file['eid'].to_list()):\n",
    "    if not os.path.exists(path_test + '/' + str(each_id) + '.nii.gz'):\n",
    "        print(each_id)"
   ]
  },
  {
   "cell_type": "code",
   "execution_count": 11,
   "id": "6a31e0c2",
   "metadata": {},
   "outputs": [],
   "source": [
    "# getting only the training set\n",
    "df_train = pd.DataFrame(columns=df.columns)\n",
    "for each_file in os.listdir(path_train):\n",
    "    if '.nii' in each_file:\n",
    "        file_id = each_file.split('.nii')[0]\n",
    "        df_train = pd.concat([df[df['eid'] == int(file_id)],df_train.loc[:]]).reset_index(drop=True)\n",
    "df_train.sort_values(by=['eid'], inplace=True)"
   ]
  },
  {
   "cell_type": "code",
   "execution_count": 12,
   "id": "427490e3",
   "metadata": {},
   "outputs": [],
   "source": [
    "# getting only the validation set\n",
    "df_val= pd.DataFrame(columns=df.columns)\n",
    "for each_file in os.listdir(path_val):\n",
    "    if '.nii' in each_file:\n",
    "        file_id = each_file.split('.nii')[0]\n",
    "        df_val = pd.concat([df[df['eid'] == int(file_id)],df_val.loc[:]]).reset_index(drop=True)\n",
    "df_val.sort_values(by=['eid'], inplace=True)"
   ]
  },
  {
   "cell_type": "code",
   "execution_count": 13,
   "id": "a762271b",
   "metadata": {},
   "outputs": [],
   "source": [
    "# getting only the test set\n",
    "df_test= pd.DataFrame(columns=df.columns)\n",
    "for each_file in os.listdir(path_test):\n",
    "    if '.nii' in each_file:\n",
    "        file_id = each_file.split('.nii')[0]\n",
    "        df_test = pd.concat([df[df['eid'] == int(file_id)],df_test.loc[:]]).reset_index(drop=True)\n",
    "df_test.sort_values(by=['eid'], inplace=True)"
   ]
  },
  {
   "cell_type": "code",
   "execution_count": 11,
   "id": "c5df36a1",
   "metadata": {},
   "outputs": [
    {
     "name": "stdout",
     "output_type": "stream",
     "text": [
      "18953\n",
      "2369\n",
      "2370\n"
     ]
    }
   ],
   "source": [
    "print(len(df_train))\n",
    "print(len(df_val))\n",
    "print(len(df_test))"
   ]
  },
  {
   "cell_type": "code",
   "execution_count": 12,
   "id": "79d71c07",
   "metadata": {},
   "outputs": [],
   "source": [
    "df_train['Age'] = df_train['Age'].astype('int64')\n",
    "df_val['Age'] = df_val['Age'].astype('int64')\n",
    "df_test['Age'] = df_test['Age'].astype('int64')"
   ]
  },
  {
   "cell_type": "code",
   "execution_count": 13,
   "id": "7cb36df2",
   "metadata": {},
   "outputs": [],
   "source": [
    "bins_age = df_train['Age'].max()-df_train['Age'].min(0)"
   ]
  },
  {
   "cell_type": "code",
   "execution_count": null,
   "id": "943d2740",
   "metadata": {},
   "outputs": [],
   "source": [
    "df_train['Age'].hist(bins=38)"
   ]
  },
  {
   "cell_type": "code",
   "execution_count": 14,
   "id": "bf92941b",
   "metadata": {},
   "outputs": [],
   "source": [
    "df_train['dataframe_name'] = 'Train'\n",
    "df_val['dataframe_name'] = 'Validation'\n",
    "df_test['dataframe_name'] = 'Test'"
   ]
  },
  {
   "cell_type": "code",
   "execution_count": 15,
   "id": "d6c907ff",
   "metadata": {},
   "outputs": [],
   "source": [
    "combined_df = pd.concat([df_train, df_val, df_test])"
   ]
  },
  {
   "cell_type": "code",
   "execution_count": 28,
   "id": "b3ed616d",
   "metadata": {},
   "outputs": [
    {
     "data": {
      "image/png": "[encoded data removed]",
      "text/plain": [
       "<Figure size 640x480 with 1 Axes>"
      ]
     },
     "metadata": {},
     "output_type": "display_data"
    }
   ],
   "source": [
    "# Set up the figure and axes\n",
    "fig, ax = plt.subplots()\n",
    "\n",
    "# Calculate histograms for each DataFrame\n",
    "hist1, bins1 = np.histogram(df_train['Age'], bins=bins_age)\n",
    "hist2, bins2 = np.histogram(df_val['Age'], bins=bins_age)\n",
    "hist3, bins3 = np.histogram(df_test['Age'], bins=bins_age)\n",
    "\n",
    "# Calculate the width of each bar\n",
    "width = (bins1[1] - bins1[0]) / 3\n",
    "\n",
    "# Plot the histograms\n",
    "ax.bar(bins1[:-1], hist1, width=width, color='orange', alpha=1, label='Train')\n",
    "ax.bar(bins2[:-1] + width, hist2, width=width, color='red', alpha=1, label='Validation')\n",
    "ax.bar(bins3[:-1] + 2 * width, hist3, width=width, color='gray', alpha=1, label='Test')\n",
    "\n",
    "# Customize the plot\n",
    "ax.set_xlabel('Age')\n",
    "ax.set_ylabel('Number of participants')\n",
    "ax.legend()\n",
    "\n",
    "# Show the plot\n",
    "plt.show()\n"
   ]
  },
  {
   "cell_type": "code",
   "execution_count": 14,
   "id": "14ee94a1",
   "metadata": {},
   "outputs": [
    {
     "data": {
      "image/png": "[encoded data removed]",
      "text/plain": [
       "<Figure size 1500x500 with 3 Axes>"
      ]
     },
     "metadata": {},
     "output_type": "display_data"
    }
   ],
   "source": [
    "fig, axs = plt.subplots(1, 3, figsize=(15, 5))\n",
    "df_train.hist(column='Age', ax=axs[0], color='blue', bins=bins_age)\n",
    "df_val.hist(column='Age', ax=axs[1], color='red', bins=bins_age)\n",
    "df_test.hist(column='Age', ax=axs[2], color='green', bins=bins_age)\n",
    "axs[0].set_title('Train')\n",
    "axs[1].set_title('Validation')\n",
    "axs[2].set_title('Test')\n",
    "y_min, y_max = 0, 1000\n",
    "for ax in axs:\n",
    "    ax.set_ylabel('Number of participants')\n",
    "    ax.set_xlabel('Age')\n",
    "    ax.set_ylim(y_min, y_max)\n",
    "plt.tight_layout()\n",
    "plt.show()"
   ]
  },
  {
   "cell_type": "code",
   "execution_count": 19,
   "id": "f7e6c55c",
   "metadata": {},
   "outputs": [
    {
     "data": {
      "image/png": "[encoded data removed]",
      "text/plain": [
       "<Figure size 1500x500 with 3 Axes>"
      ]
     },
     "metadata": {},
     "output_type": "display_data"
    }
   ],
   "source": [
    "fig, axs = plt.subplots(1, 3, figsize=(15, 5))\n",
    "axs[0].hist(df_train['Age'], color='orange', histtype='bar', bins=bins_age, edgecolor='black')\n",
    "axs[1].hist(df_val['Age'], color='red', histtype='bar', bins=bins_age, edgecolor='black')\n",
    "axs[2].hist(df_test['Age'], color='gold', histtype='bar', bins=bins_age, edgecolor='black')\n",
    "axs[0].set_title('Train')\n",
    "axs[1].set_title('Validation')\n",
    "axs[2].set_title('Test')\n",
    "y_min, y_max = 0, 1000\n",
    "for ax in axs:\n",
    "    ax.set_ylabel('Number of participants')\n",
    "    ax.set_xlabel('Age')\n",
    "    ax.set_ylim(y_min, y_max)\n",
    "plt.tight_layout()\n",
    "plt.show()"
   ]
  },
  {
   "cell_type": "code",
   "execution_count": null,
   "id": "b1e96bea",
   "metadata": {},
   "outputs": [],
   "source": []
  }
 ],
 "metadata": {
  "kernelspec": {
   "display_name": "Python 3 (ipykernel)",
   "language": "python",
   "name": "python3"
  },
  "language_info": {
   "codemirror_mode": {
    "name": "ipython",
    "version": 3
   },
   "file_extension": ".py",
   "mimetype": "text/x-python",
   "name": "python",
   "nbconvert_exporter": "python",
   "pygments_lexer": "ipython3",
   "version": "3.10.11"
  }
 },
 "nbformat": 4,
 "nbformat_minor": 5
}
