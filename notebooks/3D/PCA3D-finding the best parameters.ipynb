{
 "cells": [
  {
   "cell_type": "code",
   "execution_count": 1,
   "id": "1677d9df",
   "metadata": {},
   "outputs": [],
   "source": [
    "import sys\n",
    "import numpy as np\n",
    "\n",
    "from sklearn.preprocessing import StandardScaler\n",
    "\n",
    "import torch\n",
    "import torch.distributions as td\n",
    "import os\n",
    "os.environ['TF_DETERMINISTIC_OPS'] = '1'\n",
    "\n",
    "import yaml\n",
    "\n",
    "sys.path.append('/home/erik.ohara/macaw/')\n",
    "from utils.helpers import dict2namespace\n",
    "from macaw import MACAW\n",
    "\n",
    "import pickle\n",
    "import pandas as pd"
   ]
  },
  {
   "cell_type": "code",
   "execution_count": 2,
   "id": "89d1d746",
   "metadata": {},
   "outputs": [],
   "source": [
    "nevecs = 50\n",
    "ncauses = 2\n",
    "ncomps = 1500\n",
    "nbasecomps = 25\n",
    "ukbb_path = '/home/erik.ohara/UKBB'\n",
    "pca_path = '/work/forkert_lab/erik/PCA3D'\n",
    "macaw_path = '/home/erik.ohara/macaw'\n",
    "reshaped_path = '/work/forkert_lab/erik/MACAW/reshaped/3D'\n",
    "ukbb_path_T1_slices = '/work/forkert_lab/erik/T1_warped/train'\n",
    "scalers_path = '/wor+k/forkert_lab/erik/MACAW/scalers/PCA3D_1500_experiments\n",
    "output_path = f\"/work/forkert_lab/erik/MACAW/models/PCA3D_1500_experiments/{nevecs}\""
   ]
  },
  {
   "cell_type": "code",
   "execution_count": 3,
   "id": "9bdcac38",
   "metadata": {},
   "outputs": [
    {
     "name": "stdout",
     "output_type": "stream",
     "text": [
      "Data train loaded\n"
     ]
    }
   ],
   "source": [
    "data = np.load(reshaped_path + '/reshaped_3D_train.npy')\n",
    "data = data.reshape(data.shape[0],-1)\n",
    "print(\"Data train loaded\")"
   ]
  },
  {
   "cell_type": "code",
   "execution_count": 4,
   "id": "7a1c564d",
   "metadata": {},
   "outputs": [],
   "source": [
    "data_val = np.load(reshaped_path + '/reshaped_3D_val.npy')\n",
    "data_val = data_val.reshape(data_val.shape[0],-1)"
   ]
  },
  {
   "cell_type": "code",
   "execution_count": 5,
   "id": "842f2ba3",
   "metadata": {},
   "outputs": [],
   "source": [
    "with open(pca_path + \"/evecs.pkl\",'rb') as f:  \n",
    "    evecs3D = pickle.load(f)"
   ]
  },
  {
   "cell_type": "code",
   "execution_count": 6,
   "id": "0e596b99",
   "metadata": {},
   "outputs": [],
   "source": [
    "def encode(data, evecs):\n",
    "    return np.matmul(data,evecs.T)\n",
    "\n",
    "def decode(data,evecs):\n",
    "    return np.matmul(data,evecs)"
   ]
  },
  {
   "cell_type": "code",
   "execution_count": 7,
   "id": "4b40e5c8",
   "metadata": {},
   "outputs": [],
   "source": [
    "# Getting Age and Sex data\n",
    "data_path = ukbb_path + '/ukbb_img.csv'\n",
    "df = pd.read_csv(data_path,low_memory=False)\n",
    "min_age = df['Age'].min()\n",
    "\n",
    "sex = df['Sex'] \n",
    "age = df['Age'] - min_age"
   ]
  },
  {
   "cell_type": "markdown",
   "id": "d644c6db",
   "metadata": {},
   "source": [
    "## Changing from here "
   ]
  },
  {
   "cell_type": "code",
   "execution_count": 8,
   "id": "38ca12cc",
   "metadata": {},
   "outputs": [],
   "source": [
    "# Loading configurations\n",
    "with open(macaw_path + '/config/ukbbHPCA.yaml', 'r') as f:\n",
    "    config_raw = yaml.load(f, Loader=yaml.FullLoader)\n",
    "config = dict2namespace(config_raw)\n",
    "config.device = torch.device('cuda') if torch.cuda.is_available() else torch.device('cpu')"
   ]
  },
  {
   "cell_type": "code",
   "execution_count": 9,
   "id": "bfd4fba2",
   "metadata": {},
   "outputs": [
    {
     "name": "stderr",
     "output_type": "stream",
     "text": [
      "/tmp/ipykernel_1766891/3075700757.py:7: UserWarning: Creating a tensor from a list of numpy.ndarrays is extremely slow. Please consider converting the list to a single numpy.ndarray with numpy.array() before converting to a tensor. (Triggered internally at /opt/conda/conda-bld/pytorch_1670525552843/work/torch/csrc/utils/tensor_new.cpp:230.)\n",
      "  (slice(1,2),td.Categorical(torch.tensor([P_age]).to(config.device))), # age\n"
     ]
    }
   ],
   "source": [
    "# Priors\n",
    "P_sex = np.sum(sex)/len(sex)\n",
    "\n",
    "unique_values, counts = np.unique(age, return_counts=True)\n",
    "P_age = counts/np.sum(counts)\n",
    "priors = [(slice(0,1),td.Bernoulli(torch.tensor([P_sex]).to(config.device))), # sex\n",
    "          (slice(1,2),td.Categorical(torch.tensor([P_age]).to(config.device))), # age\n",
    "          (slice(ncauses,nbasecomps+ncauses),td.Normal(torch.zeros(nbasecomps).to(config.device), torch.ones(nbasecomps).to(config.device))), # base_comps\n",
    "          (slice(nbasecomps+ncauses,nevecs+ncauses),td.Normal(torch.zeros(nevecs-nbasecomps).to(config.device), torch.ones(nevecs-nbasecomps).to(config.device))), # new_comps\n",
    "         ]"
   ]
  },
  {
   "cell_type": "code",
   "execution_count": 10,
   "id": "e5ebbbe3",
   "metadata": {},
   "outputs": [],
   "source": [
    "df = pd.read_csv(ukbb_path + '/train.csv',low_memory=False)\n",
    "df_val = pd.read_csv(ukbb_path + '/val.csv',low_memory=False)"
   ]
  },
  {
   "cell_type": "code",
   "execution_count": 11,
   "id": "a8e2de68",
   "metadata": {},
   "outputs": [],
   "source": [
    "sex = df['Sex'] \n",
    "sex_val = df_val['Sex'] \n",
    "age = df['Age'] - min_age\n",
    "age_val = df_val['Age'] - min_age\n",
    "\n",
    "# causal Graph\n",
    "sex_to_latents = [(0,i) for i in range(ncauses,nevecs+ncauses)]\n",
    "age_to_latents = [(1,i) for i in range(ncauses,nevecs+ncauses)]\n",
    "autoregressive_latents = [(i,j) for i in range(ncauses,nevecs+ncauses-1) for j in range(i+1,nevecs+ncauses)]\n",
    "edges = sex_to_latents + age_to_latents + autoregressive_latents"
   ]
  },
  {
   "cell_type": "code",
   "execution_count": 12,
   "id": "0e5ac8f4",
   "metadata": {},
   "outputs": [],
   "source": [
    "loss_vals_all= []\n",
    "scalers = {}"
   ]
  },
  {
   "cell_type": "code",
   "execution_count": null,
   "id": "71e35e51",
   "metadata": {},
   "outputs": [],
   "source": [
    "for e in range(0,ncomps-nbasecomps,nevecs-nbasecomps):\n",
    "#for e in range(0,ncomps,nevecs):\n",
    "    if not os.path.exists(output_path):\n",
    "        os.makedirs(output_path)\n",
    "    save_path = output_path + f'/macaw_ukbb_PCA3D_{e}.pt'\n",
    "\n",
    "    encoded_data = encode(data,evecs3D[e:e+nevecs])\n",
    "    encoded_data_val = encode(data_val,evecs3D[e:e+nevecs])\n",
    "    scaler = StandardScaler()\n",
    "    encoded_data = scaler.fit_transform(encoded_data)\n",
    "    encoded_data_val = scaler.transform(encoded_data_val)\n",
    "    scalers[f\"{e}\"] = scaler\n",
    "    print(e)\n",
    "    \n",
    "    if not os.path.exists(save_path):    \n",
    "        #X = np.hstack([causes, encoded_data])  \n",
    "        X = np.hstack([np.array(sex)[:,np.newaxis], np.array(age)[:,np.newaxis], encoded_data])   \n",
    "        X_val = np.hstack([np.array(sex_val)[:,np.newaxis], np.array(age_val)[:,np.newaxis], encoded_data_val])   \n",
    "\n",
    "        macaw = MACAW.MACAW(config)\n",
    "        #loss_vals = macaw.fit(X,edges, augment=True)\n",
    "        loss_vals = macaw.fit_with_priors(X,edges, priors, validation=X_val)\n",
    "        df_loss_vals = pd.DataFrame(loss_vals)\n",
    "        if (df_loss_vals.isnull().values.any()):\n",
    "            print(\"Tem um nulo no {}\".format(e))\n",
    "            break\n",
    "        loss_vals_all.append(loss_vals)\n",
    "        \n",
    "        #macaw.save_best_model()\n",
    "        torch.save(macaw,save_path)"
   ]
  }
 ],
 "metadata": {
  "kernelspec": {
   "display_name": "Python 3 (ipykernel)",
   "language": "python",
   "name": "python3"
  },
  "language_info": {
   "codemirror_mode": {
    "name": "ipython",
    "version": 3
   },
   "file_extension": ".py",
   "mimetype": "text/x-python",
   "name": "python",
   "nbconvert_exporter": "python",
   "pygments_lexer": "ipython3",
   "version": "3.10.11"
  }
 },
 "nbformat": 4,
 "nbformat_minor": 5
}
