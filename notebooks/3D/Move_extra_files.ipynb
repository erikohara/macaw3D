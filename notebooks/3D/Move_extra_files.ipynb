{
 "cells": [
  {
   "cell_type": "code",
   "execution_count": null,
   "id": "1163de7f",
   "metadata": {},
   "outputs": [],
   "source": [
    "import os\n",
    "import sys\n",
    "from pathlib import Path\n",
    "sys.path.append(str(Path(os.getcwd()).parent.parent) +'/')\n",
    "from utils.visualize import img_grid\n",
    "\n",
    "from torchvision import transforms \n",
    "\n",
    "import numpy as np\n",
    "import pandas as pd\n",
    "import torchio as tio\n",
    "import nibabel as nib\n",
    "\n",
    "import ipywidgets as ipyw\n",
    "\n",
    "import matplotlib.pyplot as plt\n",
    "import SimpleITK as sitk\n",
    "import torch\n",
    "from torch import nn\n",
    "from  torch.utils.data import Dataset, DataLoader\n",
    "from tqdm.notebook import tqdm\n",
    "from torchmetrics.image.fid import FrechetInceptionDistance\n",
    "import scipy\n",
    "from sklearn import metrics\n",
    "import json "
   ]
  },
  {
   "cell_type": "code",
   "execution_count": null,
   "id": "c81a88d5",
   "metadata": {},
   "outputs": [],
   "source": [
    "macaw_path = str(Path(os.getcwd()).parent.parent)\n",
    "ukbb_path = '/home/erik.ohara/UKBB'\n",
    "#original_folder = '/work/forkert_lab/erik/T1_cropped'\n",
    "generated_path = '/work/forkert_lab/erik/MACAW/cf_images/HPCA_post'\n",
    "ukbb_T1_warped_folder = '/work/forkert_lab/erik/T1_cropped'\n",
    "z_initial = 41\n",
    "z_fim = 140\n",
    "nsamples = 5"
   ]
  },
  {
   "cell_type": "code",
   "execution_count": null,
   "id": "c3b05d51",
   "metadata": {},
   "outputs": [],
   "source": [
    "data_path = ukbb_path + '/ukbb_img.csv'\n",
    "df = pd.read_csv(data_path,low_memory=False)"
   ]
  },
  {
   "cell_type": "code",
   "execution_count": null,
   "id": "8124e8aa",
   "metadata": {},
   "outputs": [],
   "source": [
    "# Getting the generated images\n",
    "subjects_eid = np.array([])\n",
    "cf_age = np.array([])\n",
    "cf_sex = np.array([])\n",
    "images_generated = []\n",
    "files_generated = []\n",
    "for file in tqdm(os.listdir(generated_path)):\n",
    "    if '.nii' in file:\n",
    "        files_generated.append(file)\n",
    "        splits = file.split(\"_\")\n",
    "        subject_eid = int(splits[0])\n",
    "        age = splits[1]\n",
    "        sex = splits[2].split(\".\")[0]\n",
    "        subjects_eid = np.append(subjects_eid,subject_eid)\n",
    "        cf_age = np.append(cf_age, age)\n",
    "        cf_sex = np.append(cf_sex, sex)\n",
    "        image_load = nib.load(os.path.join(generated_path, file)).get_fdata()\n",
    "        images_generated.append(image_load)\n",
    "print(len(images_generated))\n",
    "images_generated = np.array(images_generated)"
   ]
  },
  {
   "cell_type": "code",
   "execution_count": null,
   "id": "94f043af",
   "metadata": {},
   "outputs": [],
   "source": [
    "files_with_70 = []\n",
    "files_with_55 = []\n",
    "for file_generated in files_generated:\n",
    "    if '_55_' in file_generated:\n",
    "        files_with_55.append(file_generated)\n",
    "    elif '_70_' in file_generated:\n",
    "        files_with_70.append(file_generated)\n",
    "    else:\n",
    "        print(f\"File {file_generated} not correct\")"
   ]
  },
  {
   "cell_type": "code",
   "execution_count": null,
   "id": "ff5e1f6b",
   "metadata": {},
   "outputs": [],
   "source": [
    "print(len(files_with_55))\n",
    "print(len(files_with_70))"
   ]
  },
  {
   "cell_type": "code",
   "execution_count": null,
   "id": "4eb58017",
   "metadata": {},
   "outputs": [],
   "source": [
    "files_with_55 = np.array(files_with_55)\n",
    "files_with_70 = np.array(files_with_70)\n",
    "\n",
    "random_55 = np.random.randint(0,len(files_with_55),len(files_with_55)-100)  \n",
    "random_70 = np.random.randint(0,len(files_with_70),len(files_with_70)-100)  \n",
    "\n",
    "move_55 = files_with_55[random_55]\n",
    "move_70 = files_with_70[random_70]"
   ]
  },
  {
   "cell_type": "code",
   "execution_count": null,
   "id": "fa2ac4c5",
   "metadata": {},
   "outputs": [],
   "source": [
    "print(len(move_55))\n",
    "print(len(move_70))"
   ]
  },
  {
   "cell_type": "code",
   "execution_count": null,
   "id": "94a12e7b",
   "metadata": {},
   "outputs": [],
   "source": [
    "for move_file in tqdm(move_55):\n",
    "    try:\n",
    "        os.rename(generated_path + '/' + move_file, \n",
    "                  '/work/forkert_lab/erik/MACAW/cf_images/HPCA_post_extra/' + move_file)\n",
    "    except FileNotFoundError as e:\n",
    "        print(f\"File not found in any: {move_file}\")"
   ]
  },
  {
   "cell_type": "code",
   "execution_count": null,
   "id": "140c8d70",
   "metadata": {},
   "outputs": [],
   "source": [
    "for move_file in tqdm(move_70):\n",
    "    try:\n",
    "        os.rename(generated_path + '/' + move_file, \n",
    "                  '/work/forkert_lab/erik/MACAW/cf_images/HPCA_post_extra/' + move_file)\n",
    "    except FileNotFoundError as e:\n",
    "        print(f\"File not found in any: {move_file}\")"
   ]
  },
  {
   "cell_type": "code",
   "execution_count": null,
   "id": "8ee01840",
   "metadata": {},
   "outputs": [],
   "source": []
  }
 ],
 "metadata": {
  "kernelspec": {
   "display_name": "Python 3 (ipykernel)",
   "language": "python",
   "name": "python3"
  },
  "language_info": {
   "codemirror_mode": {
    "name": "ipython",
    "version": 3
   },
   "file_extension": ".py",
   "mimetype": "text/x-python",
   "name": "python",
   "nbconvert_exporter": "python",
   "pygments_lexer": "ipython3",
   "version": "3.10.11"
  }
 },
 "nbformat": 4,
 "nbformat_minor": 5
}
