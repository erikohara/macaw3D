{
 "cells": [
  {
   "cell_type": "code",
   "execution_count": 1,
   "id": "d7396260",
   "metadata": {},
   "outputs": [],
   "source": [
    "# Using 250 GB to tun this\n",
    "import pandas as pd\n",
    "import numpy as np\n",
    "import nibabel as nib\n",
    "from tqdm.notebook import tqdm\n",
    "import os"
   ]
  },
  {
   "cell_type": "code",
   "execution_count": 2,
   "id": "ecb6237d",
   "metadata": {},
   "outputs": [],
   "source": [
    "x_path = '/work/forkert_lab/erik/MACAW/cf_images/2_5X_sex_0_reverse'\n",
    "y_path = '/work/forkert_lab/erik/MACAW/cf_images/2_5Y_sex_0_reverse'\n",
    "z_path = '/work/forkert_lab/erik/MACAW/cf_images/2_5Z_sex_0_reverse'\n",
    "ukbb_T1_warped = '/work/forkert_lab/erik/T1_cropped'\n",
    "output_image = '/work/forkert_lab/erik/MACAW/cf_images/2_5avg_sex_0_reverse'\n",
    "output_image_2 = '/work/forkert_lab/erik/MACAW/cf_images/2_5YZ_sex_0_reverse'"
   ]
  },
  {
   "cell_type": "code",
   "execution_count": 3,
   "id": "8a45edfe",
   "metadata": {},
   "outputs": [
    {
     "data": {
      "application/vnd.jupyter.widget-view+json": {
       "model_id": "2adaaf1940a3454a85243558aac02ba5",
       "version_major": 2,
       "version_minor": 0
      },
      "text/plain": [
       "  0%|          | 0/2370 [00:00<?, ?it/s]"
      ]
     },
     "metadata": {},
     "output_type": "display_data"
    },
    {
     "name": "stdout",
     "output_type": "stream",
     "text": [
      "2370\n"
     ]
    }
   ],
   "source": [
    "# getting 2.5X images\n",
    "# Getting the generated images\n",
    "subjects_eid = np.array([])\n",
    "cf_age = np.array([])\n",
    "cf_sex = np.array([])\n",
    "images_generated_x = []\n",
    "files_generated = []\n",
    "for file in tqdm(os.listdir(x_path)):\n",
    "    if '.nii' in file:\n",
    "        files_generated.append(file)\n",
    "        splits = file.split(\"_\")\n",
    "        subject_eid = int(splits[0])\n",
    "        age = splits[1]\n",
    "        sex = splits[2].split(\".\")[0]\n",
    "        subjects_eid = np.append(subjects_eid,subject_eid)\n",
    "        cf_age = np.append(cf_age, age)\n",
    "        cf_sex = np.append(cf_sex, sex)\n",
    "        image_load = nib.load(os.path.join(x_path, file)).get_fdata()\n",
    "        images_generated_x.append(image_load)\n",
    "print(len(images_generated_x))\n",
    "images_generated_x = np.array(images_generated_x)"
   ]
  },
  {
   "cell_type": "code",
   "execution_count": 4,
   "id": "ccd43e30",
   "metadata": {},
   "outputs": [
    {
     "data": {
      "application/vnd.jupyter.widget-view+json": {
       "model_id": "36721c9bb2bc4e42bc9076a12592a58f",
       "version_major": 2,
       "version_minor": 0
      },
      "text/plain": [
       "  0%|          | 0/2370 [00:00<?, ?it/s]"
      ]
     },
     "metadata": {},
     "output_type": "display_data"
    },
    {
     "name": "stdout",
     "output_type": "stream",
     "text": [
      "2370\n"
     ]
    }
   ],
   "source": [
    "# getting 2.5y images\n",
    "images_generated_y = []\n",
    "for file in tqdm(files_generated):\n",
    "    file_name = file.split('_16-165')[0] + '_34-183.nii.gz'\n",
    "    image_load = nib.load(os.path.join(y_path, file_name)).get_fdata()\n",
    "    images_generated_y.append(image_load)\n",
    "print(len(images_generated_y))\n",
    "images_generated_y = np.array(images_generated_y)"
   ]
  },
  {
   "cell_type": "code",
   "execution_count": 5,
   "id": "e6c6e9c0",
   "metadata": {},
   "outputs": [
    {
     "data": {
      "application/vnd.jupyter.widget-view+json": {
       "model_id": "8f9d14939adc4860a418f162666761ee",
       "version_major": 2,
       "version_minor": 0
      },
      "text/plain": [
       "  0%|          | 0/2370 [00:00<?, ?it/s]"
      ]
     },
     "metadata": {},
     "output_type": "display_data"
    },
    {
     "name": "stdout",
     "output_type": "stream",
     "text": [
      "2370\n"
     ]
    }
   ],
   "source": [
    "# getting 2.5Z images\n",
    "images_generated_z = []\n",
    "for file in tqdm(files_generated):\n",
    "    file_name = file.split('_16-165')[0] + '_41-140.nii.gz'\n",
    "    image_load = nib.load(os.path.join(z_path, file_name)).get_fdata()\n",
    "    images_generated_z.append(image_load)\n",
    "print(len(images_generated_z))\n",
    "images_generated_z = np.array(images_generated_z)"
   ]
  },
  {
   "cell_type": "code",
   "execution_count": 6,
   "id": "e24f0d56",
   "metadata": {},
   "outputs": [
    {
     "name": "stdout",
     "output_type": "stream",
     "text": [
      "(2370, 150, 150, 100)\n",
      "(2370, 150, 150, 100)\n",
      "(2370, 150, 150, 100)\n"
     ]
    }
   ],
   "source": [
    "print(images_generated_x.shape)\n",
    "print(images_generated_y.shape)\n",
    "print(images_generated_z.shape)"
   ]
  },
  {
   "cell_type": "code",
   "execution_count": 7,
   "id": "d98af95f",
   "metadata": {},
   "outputs": [
    {
     "data": {
      "application/vnd.jupyter.widget-view+json": {
       "model_id": "e7b8a9b181ae4ce98172c5e98c41d6a7",
       "version_major": 2,
       "version_minor": 0
      },
      "text/plain": [
       "0it [00:00, ?it/s]"
      ]
     },
     "metadata": {},
     "output_type": "display_data"
    }
   ],
   "source": [
    "for idx, individual in tqdm(enumerate(files_generated)):\n",
    "    file_name = file.split('_')[0] + '.nii.gz'\n",
    "    image_load = nib.load(os.path.join(ukbb_T1_warped, file_name))\n",
    "    avg_image = (images_generated_x[idx] + images_generated_y[idx] + images_generated_z[idx])/3\n",
    "    ni_img = nib.Nifti1Image(avg_image, image_load.affine, image_load.header)\n",
    "    nib.save(ni_img, output_image + \"/\" + individual)"
   ]
  },
  {
   "cell_type": "code",
   "execution_count": 8,
   "id": "7c6faf98",
   "metadata": {},
   "outputs": [
    {
     "data": {
      "application/vnd.jupyter.widget-view+json": {
       "model_id": "583aec30fbe84846818f20bde189f462",
       "version_major": 2,
       "version_minor": 0
      },
      "text/plain": [
       "0it [00:00, ?it/s]"
      ]
     },
     "metadata": {},
     "output_type": "display_data"
    }
   ],
   "source": [
    "for idx, individual in tqdm(enumerate(files_generated)):\n",
    "    file_name = file.split('_')[0] + '.nii.gz'\n",
    "    image_load = nib.load(os.path.join(ukbb_T1_warped, file_name))\n",
    "    avg_image = (images_generated_y[idx] + images_generated_z[idx])/2\n",
    "    ni_img = nib.Nifti1Image(avg_image, image_load.affine, image_load.header)\n",
    "    nib.save(ni_img, output_image_2 + \"/\" + individual)"
   ]
  },
  {
   "cell_type": "code",
   "execution_count": null,
   "id": "483b6811",
   "metadata": {},
   "outputs": [],
   "source": []
  }
 ],
 "metadata": {
  "kernelspec": {
   "display_name": "Python 3 (ipykernel)",
   "language": "python",
   "name": "python3"
  },
  "language_info": {
   "codemirror_mode": {
    "name": "ipython",
    "version": 3
   },
   "file_extension": ".py",
   "mimetype": "text/x-python",
   "name": "python",
   "nbconvert_exporter": "python",
   "pygments_lexer": "ipython3",
   "version": "3.10.11"
  }
 },
 "nbformat": 4,
 "nbformat_minor": 5
}
