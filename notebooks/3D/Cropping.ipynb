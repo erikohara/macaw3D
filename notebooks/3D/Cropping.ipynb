{
 "cells": [
  {
   "cell_type": "code",
   "execution_count": 1,
   "id": "c808ec67",
   "metadata": {},
   "outputs": [],
   "source": [
    "import os\n",
    "import sys\n",
    "from pathlib import Path\n",
    "sys.path.append(str(Path(os.getcwd()).parent.parent) +'/')\n",
    "from utils.visualize import img_grid\n",
    "\n",
    "from torchvision import transforms \n",
    "\n",
    "import numpy as np\n",
    "import pandas as pd\n",
    "import torchio as tio\n",
    "import nibabel as nib\n",
    "\n",
    "import ipywidgets as ipyw\n",
    "import matplotlib.pyplot as plt\n",
    "import SimpleITK as sitk\n",
    "import torch\n",
    "from torch import nn\n",
    "from  torch.utils.data import Dataset, DataLoader\n",
    "from tqdm.notebook import tqdm\n",
    "from torchmetrics.image.fid import FrechetInceptionDistance\n",
    "import scipy\n",
    "from sklearn import metrics\n",
    "import json "
   ]
  },
  {
   "cell_type": "code",
   "execution_count": 2,
   "id": "a4af5c51",
   "metadata": {},
   "outputs": [],
   "source": [
    "macaw_path = str(Path(os.getcwd()).parent.parent)\n",
    "ukbb_path = '/home/erik.ohara/UKBB'\n",
    "ukbb_T1_warped = '/work/forkert_lab/erik/T1_warped/test'\n",
    "ukbb_T1_warped_folder = '/work/forkert_lab/erik/T1_warped'\n",
    "generated_path = '/work/forkert_lab/erik/MACAW/cf_images/PCA_five_diff_res_denormalized'\n",
    "crop_path = '/work/forkert_lab/erik/T1_cropped'\n",
    "z_initial = 41\n",
    "z_fim = 140\n",
    "nsamples = 5\n",
    "# histogram matching parameters\n",
    "m_number_histogram_levels = 500\n",
    "m_number_match_points = 50\n",
    "m_threshold_mean_intensity = False"
   ]
  },
  {
   "cell_type": "code",
   "execution_count": 3,
   "id": "9e6d9413",
   "metadata": {},
   "outputs": [],
   "source": [
    "data_path = ukbb_path + '/ukbb_img.csv'\n",
    "df = pd.read_csv(data_path,low_memory=False)"
   ]
  },
  {
   "cell_type": "code",
   "execution_count": 4,
   "id": "3fa50725",
   "metadata": {},
   "outputs": [
    {
     "data": {
      "application/vnd.jupyter.widget-view+json": {
       "model_id": "0587d614d384409cb62a456eb99949d9",
       "version_major": 2,
       "version_minor": 0
      },
      "text/plain": [
       "  0%|          | 0/2370 [00:00<?, ?it/s]"
      ]
     },
     "metadata": {},
     "output_type": "display_data"
    },
    {
     "name": "stdout",
     "output_type": "stream",
     "text": [
      "2370\n"
     ]
    }
   ],
   "source": [
    "# Getting the generated images\n",
    "subjects_eid = np.array([])\n",
    "cf_age = np.array([])\n",
    "cf_sex = np.array([])\n",
    "images_generated = []\n",
    "files_generated = []\n",
    "for file in tqdm(os.listdir(generated_path)):\n",
    "    if '.nii' in file:\n",
    "        files_generated.append(file)\n",
    "        splits = file.split(\"_\")\n",
    "        subject_eid = int(splits[0])\n",
    "        age = splits[1]\n",
    "        sex = splits[2].split(\".\")[0]\n",
    "        subjects_eid = np.append(subjects_eid,subject_eid)\n",
    "        cf_age = np.append(cf_age, age)\n",
    "        cf_sex = np.append(cf_sex, sex)\n",
    "        image_load = nib.load(os.path.join(generated_path, file)).get_fdata()\n",
    "        images_generated.append(image_load)\n",
    "print(len(images_generated))\n",
    "images_generated = np.array(images_generated)"
   ]
  },
  {
   "cell_type": "code",
   "execution_count": 5,
   "id": "2c0c1b41",
   "metadata": {},
   "outputs": [
    {
     "data": {
      "application/vnd.jupyter.widget-view+json": {
       "model_id": "b7187630494e417b9e68f5c62366d8e0",
       "version_major": 2,
       "version_minor": 0
      },
      "text/plain": [
       "  0%|          | 0/2370 [00:00<?, ?it/s]"
      ]
     },
     "metadata": {},
     "output_type": "display_data"
    }
   ],
   "source": [
    "# Getting the original images\n",
    "images_original = []\n",
    "real_age = []\n",
    "real_sex = []\n",
    "for individual in tqdm(subjects_eid):\n",
    "    individual = int(individual)\n",
    "    real_age.append(df[df[\"eid\"] == individual][\"Age\"].item())\n",
    "    real_sex.append(df[df[\"eid\"] == individual][\"Sex\"].item())\n",
    "    image_load = nib.load(os.path.join(ukbb_T1_warped, str(individual) + \".nii.gz\")).get_fdata()\n",
    "    images_original.append(image_load)\n",
    "real_age = np.array(real_age)\n",
    "real_sex = np.array(real_sex)\n",
    "images_original = np.array(images_original)"
   ]
  },
  {
   "cell_type": "markdown",
   "id": "ce6912be",
   "metadata": {},
   "source": [
    "## Cropped"
   ]
  },
  {
   "cell_type": "code",
   "execution_count": 6,
   "id": "a00f6846",
   "metadata": {},
   "outputs": [],
   "source": [
    "#cropping original image\n",
    "generated_shape = images_generated[0].shape\n",
    "original_shape = images_original[0].shape\n",
    "x_initial = int((original_shape[0] - generated_shape[0])/2)\n",
    "x_fim = x_initial +  generated_shape[0]\n",
    "y_initial = int((original_shape[1] - generated_shape[1])/2)\n",
    "y_fim = y_initial +  generated_shape[1]\n",
    "images_original = [image[x_initial:x_fim,y_initial:y_fim,z_initial:z_fim+1] for image in images_original]"
   ]
  },
  {
   "cell_type": "code",
   "execution_count": 7,
   "id": "a7f20bcb",
   "metadata": {},
   "outputs": [
    {
     "data": {
      "application/vnd.jupyter.widget-view+json": {
       "model_id": "68897573efa94be494e58ff5f3114141",
       "version_major": 2,
       "version_minor": 0
      },
      "text/plain": [
       "0it [00:00, ?it/s]"
      ]
     },
     "metadata": {},
     "output_type": "display_data"
    }
   ],
   "source": [
    "for idx, each_image_nan in tqdm(enumerate(images_original)):\n",
    "    image_load = nib.load(os.path.join(ukbb_T1_warped, str(int(subjects_eid[idx])) + '.nii.gz'))\n",
    "    ni_img = nib.Nifti1Image(each_image_nan, image_load.affine, image_load.header)\n",
    "    nib.save(ni_img, crop_path + \"/\" + str(int(subjects_eid[idx])) + '.nii.gz')"
   ]
  },
  {
   "cell_type": "code",
   "execution_count": 8,
   "id": "00b0692b",
   "metadata": {},
   "outputs": [
    {
     "data": {
      "text/plain": [
       "'/work/forkert_lab/erik/T1_cropped'"
      ]
     },
     "execution_count": 8,
     "metadata": {},
     "output_type": "execute_result"
    }
   ],
   "source": [
    "crop_path"
   ]
  },
  {
   "cell_type": "code",
   "execution_count": 9,
   "id": "17b39109",
   "metadata": {},
   "outputs": [
    {
     "data": {
      "text/plain": [
       "(150, 150, 100)"
      ]
     },
     "execution_count": 9,
     "metadata": {},
     "output_type": "execute_result"
    }
   ],
   "source": [
    "images_original[0].shape"
   ]
  },
  {
   "cell_type": "code",
   "execution_count": 10,
   "id": "cd22fa6e",
   "metadata": {},
   "outputs": [
    {
     "data": {
      "text/plain": [
       "(150, 150, 100)"
      ]
     },
     "execution_count": 10,
     "metadata": {},
     "output_type": "execute_result"
    }
   ],
   "source": [
    "images_generated[0].shape"
   ]
  },
  {
   "cell_type": "code",
   "execution_count": null,
   "id": "452cf4e8",
   "metadata": {},
   "outputs": [],
   "source": []
  }
 ],
 "metadata": {
  "kernelspec": {
   "display_name": "Python 3 (ipykernel)",
   "language": "python",
   "name": "python3"
  },
  "language_info": {
   "codemirror_mode": {
    "name": "ipython",
    "version": 3
   },
   "file_extension": ".py",
   "mimetype": "text/x-python",
   "name": "python",
   "nbconvert_exporter": "python",
   "pygments_lexer": "ipython3",
   "version": "3.10.11"
  }
 },
 "nbformat": 4,
 "nbformat_minor": 5
}
