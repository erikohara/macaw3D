{
 "cells": [
  {
   "cell_type": "code",
   "execution_count": 1,
   "id": "0ccefdbd",
   "metadata": {},
   "outputs": [],
   "source": [
    "import os\n",
    "import sys\n",
    "from pathlib import Path\n",
    "sys.path.append(str(Path(os.getcwd()).parent.parent) +'/')\n",
    "from utils.visualize import img_grid\n",
    "from utils.SFCN import SFCNModel\n",
    "\n",
    "from torchvision import transforms \n",
    "\n",
    "import numpy as np\n",
    "import pandas as pd\n",
    "import torchio as tio\n",
    "import nibabel as nib\n",
    "\n",
    "import ipywidgets as ipyw\n",
    "import matplotlib.pyplot as plt\n",
    "import SimpleITK as sitk\n",
    "import torch\n",
    "from  torch.utils.data import Dataset, DataLoader\n",
    "from tqdm.notebook import tqdm"
   ]
  },
  {
   "cell_type": "code",
   "execution_count": 2,
   "id": "62825b91",
   "metadata": {},
   "outputs": [
    {
     "data": {
      "text/plain": [
       "PosixPath('/home/miplab/Projects/macaw')"
      ]
     },
     "execution_count": 2,
     "metadata": {},
     "output_type": "execute_result"
    }
   ],
   "source": [
    "Path(os.getcwd()).parent.parent"
   ]
  },
  {
   "cell_type": "code",
   "execution_count": 3,
   "id": "9f553c5f",
   "metadata": {},
   "outputs": [],
   "source": [
    "macaw_path = str(Path(os.getcwd()).parent.parent)\n",
    "ukbb_path = '/home/miplab/ukbb'\n",
    "ukbb_T1_warped = ukbb_path + '/T1_warped'\n",
    "generated_path = ukbb_path + '/generated_images'\n",
    "filtered_path = generated_path + '/median_filtered'\n",
    "z_initial = 50\n",
    "z_fim = 149\n",
    "nsamples = 5"
   ]
  },
  {
   "cell_type": "code",
   "execution_count": 4,
   "id": "1a892018",
   "metadata": {},
   "outputs": [],
   "source": [
    "data_path = ukbb_path + '/ukbb_img.csv'\n",
    "df = pd.read_csv(data_path,low_memory=False)"
   ]
  },
  {
   "cell_type": "markdown",
   "id": "c5f141b2",
   "metadata": {},
   "source": [
    "# Applying Median Filter"
   ]
  },
  {
   "cell_type": "code",
   "execution_count": 5,
   "id": "b2c44cb3",
   "metadata": {},
   "outputs": [
    {
     "data": {
      "text/plain": [
       "\"\\n\\nfor file in os.listdir(generated_path):\\n    if '_50-149.nii' in file:\\n        image_original = sitk.ReadImage(os.path.join(generated_path, file))\\n        median = sitk.MedianImageFilter()\\n        median.SetRadius(1)\\n        output = median.Execute(image_original)\\n        sitk.WriteImage(output, os.path.join(filtered_path, file))\\n\""
      ]
     },
     "execution_count": 5,
     "metadata": {},
     "output_type": "execute_result"
    }
   ],
   "source": [
    "'''\n",
    "\n",
    "for file in os.listdir(generated_path):\n",
    "    if '_50-149.nii' in file:\n",
    "        image_original = sitk.ReadImage(os.path.join(generated_path, file))\n",
    "        median = sitk.MedianImageFilter()\n",
    "        median.SetRadius(1)\n",
    "        output = median.Execute(image_original)\n",
    "        sitk.WriteImage(output, os.path.join(filtered_path, file))\n",
    "'''"
   ]
  },
  {
   "cell_type": "code",
   "execution_count": 6,
   "id": "a99ccdb6",
   "metadata": {},
   "outputs": [
    {
     "data": {
      "application/vnd.jupyter.widget-view+json": {
       "model_id": "857c35dbbf6049f2a1fc6feb05b469fc",
       "version_major": 2,
       "version_minor": 0
      },
      "text/plain": [
       "  0%|          | 0/211 [00:00<?, ?it/s]"
      ]
     },
     "metadata": {},
     "output_type": "display_data"
    },
    {
     "name": "stdout",
     "output_type": "stream",
     "text": [
      "205\n"
     ]
    }
   ],
   "source": [
    "# Getting the generated images\n",
    "subjects_eid = np.array([])\n",
    "cf_age = np.array([])\n",
    "cf_sex = np.array([])\n",
    "images_generated = []\n",
    "for file in tqdm(os.listdir(generated_path)):\n",
    "    if '_50-149.nii' in file:\n",
    "        splits = file.split(\"_\")\n",
    "        subject_eid = int(splits[0])\n",
    "        age = splits[1]\n",
    "        sex = splits[2].split(\".\")[0]\n",
    "        subjects_eid = np.append(subjects_eid,subject_eid)\n",
    "        cf_age = np.append(cf_age, age)\n",
    "        cf_sex = np.append(cf_sex, sex)\n",
    "        image_load = nib.load(os.path.join(generated_path, file)).get_fdata()\n",
    "        images_generated.append(image_load)\n",
    "print(len(images_generated))"
   ]
  },
  {
   "cell_type": "code",
   "execution_count": 7,
   "id": "0022081c",
   "metadata": {},
   "outputs": [],
   "source": [
    "rands = np.random.randint(0,len(images_generated),nsamples) \n",
    "images_generated = np.array(images_generated)\n",
    "images_generated = images_generated[rands]\n",
    "subjects_eid = subjects_eid[rands].astype(int)\n",
    "cf_age = cf_age[rands]\n",
    "cf_sex = cf_sex[rands]"
   ]
  },
  {
   "cell_type": "code",
   "execution_count": 8,
   "id": "27e71c33",
   "metadata": {},
   "outputs": [],
   "source": [
    "# Getting the original images\n",
    "images_original = []\n",
    "real_age = []\n",
    "real_sex = []\n",
    "for individual in subjects_eid:\n",
    "    real_age.append(df[df[\"eid\"] == individual][\"Age\"].item())\n",
    "    real_sex.append(df[df[\"eid\"] == individual][\"Sex\"].item())\n",
    "    image_load = nib.load(os.path.join(ukbb_T1_warped, str(individual) + \".nii.gz\")).get_fdata()\n",
    "    images_original.append(image_load)"
   ]
  },
  {
   "cell_type": "code",
   "execution_count": 9,
   "id": "2a3a6718",
   "metadata": {},
   "outputs": [
    {
     "data": {
      "text/plain": [
       "[61.0, 68.0, 48.0, 69.0, 71.0]"
      ]
     },
     "execution_count": 9,
     "metadata": {},
     "output_type": "execute_result"
    }
   ],
   "source": [
    "real_age"
   ]
  },
  {
   "cell_type": "code",
   "execution_count": 10,
   "id": "123d8614",
   "metadata": {},
   "outputs": [],
   "source": [
    "titles_cf = [f'Age:{a}, Sex:{s}' for a,s in zip(cf_age,cf_sex)]\n",
    "real_sex = ['M' if round(s) else 'F' for s in real_sex]\n",
    "titles_real = [f'Age:{a}, Sex:{s}' for a,s in zip(real_age,real_sex)]"
   ]
  },
  {
   "cell_type": "code",
   "execution_count": 11,
   "id": "2b15e6e9",
   "metadata": {},
   "outputs": [],
   "source": [
    "#cropping\n",
    "generated_shape = images_generated[0].shape\n",
    "original_shape = images_original[0].shape\n",
    "x_initial = int((original_shape[0] - generated_shape[0])/2)\n",
    "x_fim = x_initial +  generated_shape[0]\n",
    "y_initial = int((original_shape[1] - generated_shape[1])/2)\n",
    "y_fim = y_initial +  generated_shape[1]\n",
    "images_original = [image[x_initial:x_fim,y_initial:y_fim,z_initial:z_fim+1] for image in images_original]"
   ]
  },
  {
   "cell_type": "code",
   "execution_count": 12,
   "id": "d7f16e54",
   "metadata": {},
   "outputs": [],
   "source": [
    "# Normalizing\n",
    "for one_image in images_original:\n",
    "    slices = one_image.shape[2]\n",
    "    for z in range(slices):\n",
    "        maxv = np.max(one_image[:,:,z])\n",
    "        minv = np.min(one_image[:,:,z])\n",
    "        one_image[:,:,z] = ((one_image[:,:,z] - minv) / maxv)"
   ]
  },
  {
   "cell_type": "code",
   "execution_count": 13,
   "id": "54182dbf",
   "metadata": {},
   "outputs": [],
   "source": [
    "# Swaping X and Y\n",
    "images_generated = [np.swapaxes(one_image,0,1) for one_image in images_generated]"
   ]
  },
  {
   "cell_type": "code",
   "execution_count": 14,
   "id": "bef42f11",
   "metadata": {},
   "outputs": [],
   "source": [
    "# Mapping the difference\n",
    "\n",
    "diff = [np.subtract(a,s) for a,s in zip(images_original,images_generated)]"
   ]
  },
  {
   "cell_type": "code",
   "execution_count": 15,
   "id": "edc06abe",
   "metadata": {},
   "outputs": [],
   "source": [
    "def plot_slice(z_slice):\n",
    "    order_slice = z_slice - z_initial\n",
    "    plt.rcParams[\"figure.figsize\"] = (20,5)\n",
    "    img_grid([one_image[:,:,order_slice] for one_image in images_original],cols=nsamples,titles=titles_real)\n",
    "    img_grid([one_image[:,:,order_slice] for one_image in images_generated],cols=nsamples,titles=titles_cf)\n",
    "    img_grid([one_image[:,:,order_slice] for one_image in diff],cols=nsamples, cmap='seismic', clim=(-1,1))"
   ]
  },
  {
   "cell_type": "code",
   "execution_count": 16,
   "id": "6f4545dc",
   "metadata": {},
   "outputs": [
    {
     "data": {
      "application/vnd.jupyter.widget-view+json": {
       "model_id": "94774bf1984044d683e786bcb881d64a",
       "version_major": 2,
       "version_minor": 0
      },
      "text/plain": [
       "interactive(children=(IntSlider(value=50, continuous_update=False, description='Image Slice:', max=149, min=50…"
      ]
     },
     "metadata": {},
     "output_type": "display_data"
    },
    {
     "data": {
      "text/plain": [
       "<function __main__.plot_slice(z_slice)>"
      ]
     },
     "execution_count": 16,
     "metadata": {},
     "output_type": "execute_result"
    }
   ],
   "source": [
    "ipyw.interact(plot_slice, \n",
    "              z_slice=ipyw.IntSlider(min=z_initial, max=z_fim, step=1, continuous_update=False, description='Image Slice:'))"
   ]
  },
  {
   "cell_type": "code",
   "execution_count": null,
   "id": "485ad77f",
   "metadata": {},
   "outputs": [],
   "source": []
  }
 ],
 "metadata": {
  "kernelspec": {
   "display_name": "Python 3 (ipykernel)",
   "language": "python",
   "name": "python3"
  },
  "language_info": {
   "codemirror_mode": {
    "name": "ipython",
    "version": 3
   },
   "file_extension": ".py",
   "mimetype": "text/x-python",
   "name": "python",
   "nbconvert_exporter": "python",
   "pygments_lexer": "ipython3",
   "version": "3.10.11"
  }
 },
 "nbformat": 4,
 "nbformat_minor": 5
}
